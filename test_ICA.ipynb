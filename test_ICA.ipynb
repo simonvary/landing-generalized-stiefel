{
 "cells": [
  {
   "cell_type": "code",
   "execution_count": 1,
   "metadata": {},
   "outputs": [
    {
     "name": "stderr",
     "output_type": "stream",
     "text": [
      "/opt/mambaforge/envs/landing/lib/python3.8/site-packages/tqdm/auto.py:22: TqdmWarning: IProgress not found. Please update jupyter and ipywidgets. See https://ipywidgets.readthedocs.io/en/stable/user_install.html\n",
      "  from .autonotebook import tqdm as notebook_tqdm\n"
     ]
    }
   ],
   "source": [
    "\"\"\"\n",
    "A simple example of the Stiefel landing algorithm on PCA problem\n",
    "\"\"\"\n",
    "from time import time\n",
    "\n",
    "import matplotlib.pyplot as plt\n",
    "\n",
    "import numpy as np\n",
    "\n",
    "import torch\n",
    "\n",
    "import torch.optim as optim\n",
    "import torch.nn as nn\n",
    "import torch.nn.functional as F\n",
    "\n",
    "import torchvision\n",
    "import torchvision.transforms as transforms\n",
    "\n",
    "from models import VGG16, ResNet18\n",
    "\n",
    "from solvers import *\n",
    "from experiments.utils import *\n",
    "\n",
    "from scipy.linalg import eigh"
   ]
  },
  {
   "cell_type": "code",
   "execution_count": 2,
   "metadata": {},
   "outputs": [],
   "source": [
    "def dataset_simulated_ica(n_samples = 10000, n_features = 10, batch_size=4*128, device = 'cpu', random_state=42):\n",
    "    rng = np.random.RandomState(random_state)\n",
    "    sources = rng.laplace(size=(n_samples, n_features))\n",
    "    mixing = rng.randn(n_features, n_features)\n",
    "    #X = np.dot(sources, mixing.T)\n",
    "    #W = np.linalg.pinv(sqrtm(X.T.dot(X) / n_samples))\n",
    "    X = np.dot(sources, mixing.T)\n",
    "    #mixing = np.dot(W, mixing)\n",
    "    X = torch.from_numpy(X).to(device=device)\n",
    "    mixing = torch.from_numpy(mixing).to(device=device)\n",
    "    dataset = torch.utils.data.TensorDataset(X)\n",
    "    dataloader = torch.utils.data.DataLoader(dataset,\n",
    "                        batch_size=batch_size, shuffle=False)\n",
    "    return dict(dataloader=dataloader, mixing=mixing)\n",
    "\n",
    "data = dataset_simulated_ica(device = 'cuda')\n",
    "dataloader = data['dataloader']\n",
    "mixing = data['mixing']\n",
    "\n",
    "device = 'cuda'\n",
    "p = 10"
   ]
  },
  {
   "cell_type": "code",
   "execution_count": 3,
   "metadata": {},
   "outputs": [],
   "source": [
    "def sigma(x):\n",
    "    return(torch.log(torch.cosh(x)))\n",
    "\n",
    "def amari_distance(W, A):\n",
    "    \"\"\"\n",
    "    Computes the Amari distance between two matrices W and A.\n",
    "    It cancels when WA is a permutation and scale matrix.\n",
    "    Parameters\n",
    "    ----------\n",
    "    W : ndarray, shape (n_features, n_features)\n",
    "        Input matrix\n",
    "    A : ndarray, shape (n_features, n_features)\n",
    "        Input matrix\n",
    "    Returns\n",
    "    -------\n",
    "    d : float\n",
    "        The Amari distance\n",
    "    \"\"\"\n",
    "    P = W @ A\n",
    "\n",
    "    def s(r):\n",
    "        val_max, _ = torch.max(r ** 2, axis=1)\n",
    "        return torch.sum(torch.sum(r ** 2, axis=1) / val_max - 1)\n",
    "\n",
    "    return (s(torch.abs(P)) + s(torch.abs(P.T))) / (2 * P.shape[0])"
   ]
  },
  {
   "cell_type": "code",
   "execution_count": 4,
   "metadata": {},
   "outputs": [],
   "source": [
    "A_full = dataloader.dataset.tensors[0]\n",
    "n_samples, n_features = dataloader.dataset.tensors[0].shape \n",
    "Id =  torch.eye(p,p, device = device)\n",
    "AtA_full = A_full.T @ A_full / n_samples\n",
    "objective = lambda x: torch.sum(sigma(A_full @ x).flatten()).item() / n_samples\n",
    "distance = lambda x: torch.linalg.norm(x.T@AtA_full@x-Id).item()"
   ]
  },
  {
   "cell_type": "code",
   "execution_count": 5,
   "metadata": {},
   "outputs": [
    {
     "name": "stdout",
     "output_type": "stream",
     "text": [
      "0.098870866343202\n",
      "3.0989661390205856\n"
     ]
    }
   ],
   "source": [
    "# Initialize based on first batch\n",
    "\n",
    "batch_init = iter(dataloader).__next__()\n",
    "batch_init = batch_init[0].to(device)\n",
    "\n",
    "x0,_ = torch.linalg.qr(torch.randn(n_features, p, device=device, dtype=float))\n",
    "Ax0 = batch_init @ x0\n",
    "R = torch.linalg.cholesky(Ax0.T @ Ax0 / batch_init.size(1));\n",
    "x0 = torch.linalg.solve(R, x0.T).T\n",
    "\n",
    "print(objective(x0))\n",
    "print(distance(x0))\n",
    "x = torch.nn.Parameter(x0).to(device)"
   ]
  },
  {
   "cell_type": "code",
   "execution_count": 6,
   "metadata": {},
   "outputs": [],
   "source": [
    "learning_rate = 1e-1\n",
    "omega=1\n",
    "grad_type = 'precon'\n",
    "regul_type = 'matrix'\n",
    "\n",
    "#optimizerICA = LandingGeneralizedStiefel((x,), lr=learning_rate, omega=omega,grad_type=grad_type,regul_type=regul_type)\n",
    "    \n",
    "optimizerICA = RiemannianGeneralizedStiefel((x,), lr=learning_rate,eps_regul=1e-8) "
   ]
  },
  {
   "cell_type": "code",
   "execution_count": 7,
   "metadata": {},
   "outputs": [],
   "source": [
    "n_epochs = 1000\n",
    "averaging = True\n",
    "distances = []\n",
    "obj_values = []\n",
    "amari_distances = []\n",
    "for epoch in range(n_epochs):\n",
    "    iteration = 0\n",
    "    if averaging and epoch == 0:\n",
    "            n_samples_seen = 0\n",
    "            AtA = torch.zeros_like(AtA_full, device=device)\n",
    "    for ind, A_sample in enumerate(dataloader):\n",
    "        A_sample = A_sample[0].to(device)\n",
    "        n_batch =  A_sample.size(0)\n",
    "        if averaging and epoch == 0:\n",
    "                AtA = (AtA*n_samples_seen + A_sample.T@A_sample)/(n_samples_seen+n_batch)\n",
    "                n_samples_seen = n_samples_seen + n_batch\n",
    "        elif not averaging:\n",
    "                AtA = A_sample.T@A_sample/n_batch\n",
    "        if regul_type == 'matrix':\n",
    "            #Ax = A_sample @ x\n",
    "            objective_optim = (torch.sum(sigma(AtA@x)).flatten() / n_batch).to(device)\n",
    "            optimizerICA.zero_grad()\n",
    "            objective_optim.backward()\n",
    "            optimizerICA.step(((AtA,),))\n",
    "    amari_distances.append(amari_distance(mixing.T,x).item())\n",
    "    obj_values.append(objective(x))\n",
    "    distances.append(distance(x))"
   ]
  },
  {
   "cell_type": "code",
   "execution_count": 8,
   "metadata": {},
   "outputs": [
    {
     "data": {
      "text/plain": [
       "[<matplotlib.lines.Line2D at 0x7f71585cc760>]"
      ]
     },
     "execution_count": 8,
     "metadata": {},
     "output_type": "execute_result"
    },
    {
     "data": {
      "image/png": "[encoded data removed]",
      "text/plain": [
       "<Figure size 432x288 with 1 Axes>"
      ]
     },
     "metadata": {
      "needs_background": "light"
     },
     "output_type": "display_data"
    }
   ],
   "source": [
    "plt.plot(amari_distances)"
   ]
  },
  {
   "cell_type": "code",
   "execution_count": 10,
   "metadata": {},
   "outputs": [
    {
     "data": {
      "text/plain": [
       "[<matplotlib.lines.Line2D at 0x7f7158140820>]"
      ]
     },
     "execution_count": 10,
     "metadata": {},
     "output_type": "execute_result"
    },
    {
     "data": {
      "image/png": "[encoded data removed]",
      "text/plain": [
       "<Figure size 432x288 with 1 Axes>"
      ]
     },
     "metadata": {
      "needs_background": "light"
     },
     "output_type": "display_data"
    }
   ],
   "source": [
    "plt.plot(distances)"
   ]
  },
  {
   "cell_type": "code",
   "execution_count": null,
   "metadata": {},
   "outputs": [],
   "source": []
  }
 ],
 "metadata": {
  "kernelspec": {
   "display_name": "landing",
   "language": "python",
   "name": "python3"
  },
  "language_info": {
   "codemirror_mode": {
    "name": "ipython",
    "version": 3
   },
   "file_extension": ".py",
   "mimetype": "text/x-python",
   "name": "python",
   "nbconvert_exporter": "python",
   "pygments_lexer": "ipython3",
   "version": "3.8.15"
  },
  "orig_nbformat": 4,
  "vscode": {
   "interpreter": {
    "hash": "91fb3ebf0d9504166a4264755ce4c2b4bd7f0c5db33bebc72cad48811027e9a9"
   }
  }
 },
 "nbformat": 4,
 "nbformat_minor": 2
}
