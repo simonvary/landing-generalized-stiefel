{
 "cells": [
  {
   "attachments": {},
   "cell_type": "markdown",
   "metadata": {},
   "source": [
    "# Large scale CCA\n",
    "\n",
    "We wish to optimize the following\n",
    "$$ \\min_{U, V} -\\mathrm{tr}(U^T X^T Y V) \\qquad \\mathrm{s.t.}\\, U^TX^TXU = I_p\\,\\quad V^T Y^TYV = I_p$$\n",
    "where $X,Y\\in\\mathbb{R}^{N\\times n}$ are two zero-centered mean datasets of $N$ samples in $\\mathbb{R}^n$. As such, $X^TX$, $Y^TY$, and $X^TY$ are the correlation matrices between the variables.\n",
    "\n",
    "We wish to solve this problem for large $N$ using a SGD, without the need to compute retraction on the two generalized Stiefel manifolds $\\mathrm{St}_{X^T X}(n,p), \\mathrm{St}_{Y^T Y}(n,p)$.\n",
    "\n",
    "We will do it as follows:\n",
    "\n",
    " 1. Sample mini-batch and compute $A = \\hat{X}^T \\hat{X}, B = \\hat{Y}^T \\hat{Y}, C = \\hat{X}^T \\hat{Y}$.\n",
    " 2. Update $U = U - \\eta (\\Psi^{U}(U,V)AU + \\lambda \\nabla_U \\mathcal{N}_U)$ where  \n",
    "  2.1 Compute $\\nabla_U N_U = AU(U^T A U - I_p)$  \n",
    "  2.2 Compute $\\Psi^{U}(U,V) = 2\\mathrm{skew}(\\nabla_U f(U, V) U^T A)$\n",
    "3. Update $V$  = AU(U^T A U - I_p)\n",
    "\n"
   ]
  },
  {
   "attachments": {},
   "cell_type": "markdown",
   "metadata": {},
   "source": [
    "The CCA function should then take: two datasets, lambda, stepsize, p, batch_size"
   ]
  },
  {
   "cell_type": "code",
   "execution_count": null,
   "metadata": {},
   "outputs": [],
   "source": []
  },
  {
   "cell_type": "markdown",
   "metadata": {},
   "source": []
  }
 ],
 "metadata": {
  "language_info": {
   "name": "python"
  },
  "orig_nbformat": 4
 },
 "nbformat": 4,
 "nbformat_minor": 2
}
