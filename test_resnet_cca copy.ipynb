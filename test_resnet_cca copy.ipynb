{
 "cells": [
  {
   "cell_type": "code",
   "execution_count": 2,
   "metadata": {},
   "outputs": [
    {
     "name": "stderr",
     "output_type": "stream",
     "text": [
      "/opt/mambaforge/envs/landing/lib/python3.8/site-packages/torchvision/models/_utils.py:208: UserWarning: The parameter 'pretrained' is deprecated since 0.13 and will be removed in 0.15, please use 'weights' instead.\n",
      "  warnings.warn(\n",
      "/opt/mambaforge/envs/landing/lib/python3.8/site-packages/torchvision/models/_utils.py:223: UserWarning: Arguments other than a weight enum or `None` for 'weights' are deprecated since 0.13 and will be removed in 0.15. The current behavior is equivalent to passing `weights=ResNet18_Weights.IMAGENET1K_V1`. You can also use `weights=ResNet18_Weights.DEFAULT` to get the most up-to-date weights.\n",
      "  warnings.warn(msg)\n"
     ]
    },
    {
     "ename": "NameError",
     "evalue": "name 'Distance' is not defined",
     "output_type": "error",
     "traceback": [
      "\u001b[0;31m---------------------------------------------------------------------------\u001b[0m",
      "\u001b[0;31mNameError\u001b[0m                                 Traceback (most recent call last)",
      "\u001b[0;32m/tmp/ipykernel_207822/3179041185.py\u001b[0m in \u001b[0;36m<module>\u001b[0;34m\u001b[0m\n\u001b[1;32m      5\u001b[0m \u001b[0mrandom_model\u001b[0m \u001b[0;34m=\u001b[0m \u001b[0mresnet18\u001b[0m\u001b[0;34m(\u001b[0m\u001b[0;34m)\u001b[0m\u001b[0;34m\u001b[0m\u001b[0;34m\u001b[0m\u001b[0m\n\u001b[1;32m      6\u001b[0m \u001b[0mlearned_model\u001b[0m \u001b[0;34m=\u001b[0m \u001b[0mresnet18\u001b[0m\u001b[0;34m(\u001b[0m\u001b[0mpretrained\u001b[0m\u001b[0;34m=\u001b[0m\u001b[0;32mTrue\u001b[0m\u001b[0;34m)\u001b[0m\u001b[0;34m\u001b[0m\u001b[0;34m\u001b[0m\u001b[0m\n\u001b[0;32m----> 7\u001b[0;31m \u001b[0mdistance\u001b[0m \u001b[0;34m=\u001b[0m \u001b[0mDistance\u001b[0m\u001b[0;34m(\u001b[0m\u001b[0mrandom_model\u001b[0m\u001b[0;34m,\u001b[0m \u001b[0mlearned_model\u001b[0m\u001b[0;34m,\u001b[0m \u001b[0mmethod\u001b[0m\u001b[0;34m=\u001b[0m\u001b[0;34m'lincka'\u001b[0m\u001b[0;34m)\u001b[0m\u001b[0;34m\u001b[0m\u001b[0;34m\u001b[0m\u001b[0m\n\u001b[0m\u001b[1;32m      8\u001b[0m \u001b[0;32mwith\u001b[0m \u001b[0mtorch\u001b[0m\u001b[0;34m.\u001b[0m\u001b[0mno_grad\u001b[0m\u001b[0;34m(\u001b[0m\u001b[0;34m)\u001b[0m\u001b[0;34m:\u001b[0m\u001b[0;34m\u001b[0m\u001b[0;34m\u001b[0m\u001b[0m\n\u001b[1;32m      9\u001b[0m     \u001b[0mdistance\u001b[0m\u001b[0;34m.\u001b[0m\u001b[0mforward\u001b[0m\u001b[0;34m(\u001b[0m\u001b[0mtorch\u001b[0m\u001b[0;34m.\u001b[0m\u001b[0mrandn\u001b[0m\u001b[0;34m(\u001b[0m\u001b[0;36m256\u001b[0m\u001b[0;34m,\u001b[0m \u001b[0;36m3\u001b[0m\u001b[0;34m,\u001b[0m \u001b[0;36m224\u001b[0m\u001b[0;34m,\u001b[0m \u001b[0;36m224\u001b[0m\u001b[0;34m)\u001b[0m\u001b[0;34m)\u001b[0m\u001b[0;34m\u001b[0m\u001b[0;34m\u001b[0m\u001b[0m\n",
      "\u001b[0;31mNameError\u001b[0m: name 'Distance' is not defined"
     ]
    }
   ],
   "source": [
    "import torch\n",
    "from torchvision.models import resnet18\n",
    "#from anatome import Distance\n",
    "\n",
    "random_model = resnet18()\n",
    "learned_model = resnet18(pretrained=True)\n",
    "distance = Distance(random_model, learned_model, method='lincka')\n",
    "with torch.no_grad():\n",
    "    distance.forward(torch.randn(256, 3, 224, 224))\n",
    "\n",
    "# resize if necessary by specifying `size`\n",
    "distance.between(\"layer3.0.conv1\", \"layer3.0.conv1\", size=8)"
   ]
  },
  {
   "cell_type": "code",
   "execution_count": 6,
   "metadata": {},
   "outputs": [
    {
     "ename": "NameError",
     "evalue": "name 'Tuple' is not defined",
     "output_type": "error",
     "traceback": [
      "\u001b[0;31m---------------------------------------------------------------------------\u001b[0m",
      "\u001b[0;31mNameError\u001b[0m                                 Traceback (most recent call last)",
      "\u001b[1;32m/home/vary/src/landing-generalized-stiefel/test_resnet_cca copy.ipynb Cell 2\u001b[0m in \u001b[0;36m<cell line: 1>\u001b[0;34m()\u001b[0m\n\u001b[0;32m----> <a href='vscode-notebook-cell://ssh-remote%2Banatole.inma.ucl.ac.be/home/vary/src/landing-generalized-stiefel/test_resnet_cca%20copy.ipynb#X26sdnNjb2RlLXJlbW90ZQ%3D%3D?line=0'>1</a>\u001b[0m Tuple\n",
      "\u001b[0;31mNameError\u001b[0m: name 'Tuple' is not defined"
     ]
    }
   ],
   "source": [
    "Tuple"
   ]
  },
  {
   "cell_type": "code",
   "execution_count": 3,
   "metadata": {},
   "outputs": [],
   "source": [
    "transform = transforms.Compose(\n",
    "    [transforms.ToTensor(),\n",
    "     transforms.Normalize((0.5, 0.5, 0.5), (0.5, 0.5, 0.5))])\n",
    "\n",
    "batch_size = 128\n",
    "\n",
    "trainset = torchvision.datasets.CIFAR10(root='data', train=True,\n",
    "                                        download=False, transform=transform)\n",
    "trainloader = torch.utils.data.DataLoader(trainset, batch_size=batch_size, shuffle=True, num_workers=2)\n",
    "\n",
    "testset = torchvision.datasets.CIFAR10(root='data', train=False,\n",
    "                                       download=False, transform=transform)\n",
    "testloader = torch.utils.data.DataLoader(testset, batch_size=batch_size, shuffle=False, num_workers=2)\n",
    "\n",
    "classes = ('plane', 'car', 'bird', 'cat',\n",
    "           'deer', 'dog', 'frog', 'horse', 'ship', 'truck')"
   ]
  },
  {
   "cell_type": "code",
   "execution_count": 5,
   "metadata": {},
   "outputs": [],
   "source": [
    "#model1 = torch.hub.load('pytorch/vision:v0.10.0', 'resnet18', pretrained=True)\n",
    "#model2 = torch.hub.load('pytorch/vision:v0.10.0', 'resnet34', pretrained = True)"
   ]
  },
  {
   "cell_type": "code",
   "execution_count": 10,
   "metadata": {},
   "outputs": [],
   "source": [
    "n_epochs = 15\n",
    "device = 'cuda'\n",
    "\n",
    "model1 = VGG16()\n",
    "model1.to(device)\n",
    "\n",
    "optimizer1 = optim.SGD(model1.parameters(), lr=1e-1, weight_decay=5e-4)\n",
    "\n",
    "model2 = VGG16()\n",
    "model2.to(device)\n",
    "\n",
    "optimizer2 = optim.SGD(model2.parameters(), lr=1e-1, weight_decay=5e-4)\n"
   ]
  },
  {
   "cell_type": "code",
   "execution_count": 11,
   "metadata": {},
   "outputs": [],
   "source": [
    "def train(model, optimizer, n_epochs):\n",
    "    best_test_acc = 0.\n",
    "    for epoch in range(n_epochs):\n",
    "        model.train()\n",
    "        train_loss = 0.0\n",
    "        for batch_idx, (batch_x, batch_y) in enumerate(trainloader):\n",
    "            batch_x, batch_y = batch_x.to(device), batch_y.to(device)\n",
    "            logits = model(batch_x)\n",
    "            loss = model.loss(logits, batch_y)\n",
    "            train_loss =+ loss.item() * batch_x.size(0)\n",
    "            optimizer.zero_grad()\n",
    "            loss.backward()\n",
    "            optimizer.step()\n",
    "        print(train_loss)\n",
    "\n",
    "        # Test\n",
    "        model.eval()\n",
    "        with torch.no_grad():\n",
    "            test_loss = 0.\n",
    "            correct = 0.\n",
    "            for batch_x, batch_y in testloader:\n",
    "                batch_x, batch_y = batch_x.to(device), batch_y.to(device)\n",
    "                logits = model(batch_x)\n",
    "                loss = model.loss(logits, batch_y)\n",
    "                test_loss += loss.item() * batch_x.size(0)\n",
    "                correct += model.correct(logits, batch_y).item()\n",
    "        print(100 * correct / len(testset))"
   ]
  },
  {
   "cell_type": "code",
   "execution_count": 12,
   "metadata": {},
   "outputs": [
    {
     "name": "stdout",
     "output_type": "stream",
     "text": [
      "146.0901927947998\n",
      "37.72\n",
      "98.41989517211914\n",
      "53.28\n",
      "64.87025260925293\n",
      "68.02\n",
      "41.58088207244873\n",
      "76.41\n",
      "36.66182041168213\n",
      "71.1\n",
      "33.64502668380737\n",
      "75.83\n",
      "32.3140287399292\n",
      "80.62\n",
      "20.468344688415527\n",
      "76.72\n",
      "20.15674114227295\n",
      "79.35\n",
      "4.543396532535553\n",
      "83.8\n",
      "16.39115333557129\n",
      "75.76\n",
      "12.135056257247925\n",
      "80.67\n",
      "34.26145553588867\n",
      "75.83\n",
      "19.666507244110107\n",
      "80.3\n",
      "10.329868793487549\n",
      "75.25\n",
      "151.77044868469238\n",
      "34.88\n",
      "109.2646598815918\n",
      "46.59\n",
      "57.803826332092285\n",
      "66.98\n",
      "61.077070236206055\n",
      "54.31\n",
      "58.540658950805664\n",
      "69.68\n",
      "48.58875751495361\n",
      "71.58\n",
      "35.38276195526123\n",
      "73.13\n",
      "42.11857795715332\n",
      "74.56\n",
      "22.157063484191895\n",
      "80.38\n",
      "16.11117720603943\n",
      "79.69\n",
      "15.63859224319458\n",
      "82.03\n",
      "31.00609302520752\n",
      "75.83\n",
      "5.202533006668091\n",
      "82.45\n",
      "4.297681450843811\n",
      "80.4\n",
      "11.684056520462036\n",
      "77.78\n"
     ]
    }
   ],
   "source": [
    "train(model1, optimizer1, 8)\n",
    "train(model2, optimizer2, 8)"
   ]
  },
  {
   "cell_type": "code",
   "execution_count": null,
   "metadata": {},
   "outputs": [],
   "source": []
  },
  {
   "cell_type": "code",
   "execution_count": 7,
   "metadata": {},
   "outputs": [
    {
     "name": "stdout",
     "output_type": "stream",
     "text": [
      "142.44824409484863\n",
      "29.33\n",
      "72.21125602722168\n",
      "59.78\n",
      "50.928659439086914\n",
      "71.39\n",
      "32.691588401794434\n",
      "79.32\n",
      "36.200642585754395\n",
      "76.58\n",
      "39.643661975860596\n",
      "73.61\n",
      "27.06418752670288\n",
      "80.48\n",
      "15.096169710159302\n",
      "79.73\n",
      "27.089715003967285\n",
      "80.97\n",
      "26.10924482345581\n",
      "77.8\n",
      "11.494476795196533\n",
      "81.91\n",
      "15.832401514053345\n",
      "79.62\n",
      "8.281112909317017\n",
      "77.01\n",
      "3.2907339930534363\n",
      "83.43\n",
      "28.171651363372803\n",
      "74.79\n"
     ]
    }
   ],
   "source": [
    "best_test_acc = 0.\n",
    "for epoch in range(n_epochs):\n",
    "    model.train()\n",
    "    train_loss = 0.0\n",
    "    for batch_idx, (batch_x, batch_y) in enumerate(trainloader):\n",
    "        batch_x, batch_y = batch_x.to(device), batch_y.to(device)\n",
    "        logits = model(batch_x)\n",
    "        loss = model.loss(logits, batch_y)\n",
    "        train_loss =+ loss.item() * batch_x.size(0)\n",
    "        optimizer.zero_grad()\n",
    "        loss.backward()\n",
    "        optimizer.step()\n",
    "    print(train_loss)\n",
    "\n",
    "    # Test\n",
    "    model.eval()\n",
    "    with torch.no_grad():\n",
    "        test_loss = 0.\n",
    "        correct = 0.\n",
    "        for batch_x, batch_y in testloader:\n",
    "            batch_x, batch_y = batch_x.to(device), batch_y.to(device)\n",
    "            logits = model(batch_x)\n",
    "            loss = model.loss(logits, batch_y)\n",
    "            test_loss += loss.item() * batch_x.size(0)\n",
    "            correct += model.correct(logits, batch_y).item()\n",
    "    print(100 * correct / len(testset))\n"
   ]
  },
  {
   "cell_type": "code",
   "execution_count": 18,
   "metadata": {},
   "outputs": [],
   "source": [
    "trainloader_enum = enumerate(trainloader)"
   ]
  },
  {
   "cell_type": "code",
   "execution_count": 33,
   "metadata": {},
   "outputs": [],
   "source": [
    "i, (batch_x, batch_y) = trainloader_enum.__next__()\n",
    "batch_x, batch_y = batch_x.to(device), batch_y.to(device)"
   ]
  },
  {
   "cell_type": "code",
   "execution_count": 63,
   "metadata": {},
   "outputs": [],
   "source": [
    "A1 = model1.features(batch_x)[:,:,0,0]\n",
    "A2 = model1.features(batch_x)[:,:,0,0]"
   ]
  },
  {
   "cell_type": "code",
   "execution_count": 68,
   "metadata": {},
   "outputs": [
    {
     "data": {
      "text/plain": [
       "torch.Size([512, 512])"
      ]
     },
     "execution_count": 68,
     "metadata": {},
     "output_type": "execute_result"
    }
   ],
   "source": [
    "(A1.T@A2).shape"
   ]
  },
  {
   "cell_type": "code",
   "execution_count": 75,
   "metadata": {},
   "outputs": [],
   "source": [
    "(U, S, V) = torch.pca_lowrank(A1.T@A2, q = 100, center=True, niter=20)"
   ]
  },
  {
   "cell_type": "code",
   "execution_count": 84,
   "metadata": {},
   "outputs": [
    {
     "data": {
      "text/plain": [
       "array([1.0347093e+04, 5.0820493e+03, 3.5821323e+03, 2.9084653e+03,\n",
       "       2.4939863e+03, 1.8302538e+03, 1.3989786e+03, 1.1476134e+03,\n",
       "       8.5155157e+02, 6.2643530e+02, 2.4559721e+02, 7.1573997e+01,\n",
       "       5.0670170e+01, 4.8174137e+01, 4.1952473e+01, 3.7283165e+01,\n",
       "       3.6203281e+01, 3.1056530e+01, 2.5350792e+01, 2.4845078e+01,\n",
       "       2.2801348e+01, 2.0585983e+01, 1.9518456e+01, 1.7976635e+01,\n",
       "       1.6180603e+01, 1.5687751e+01, 1.3683533e+01, 1.2015533e+01,\n",
       "       1.0651150e+01, 1.0012889e+01, 9.1580162e+00, 8.3238554e+00,\n",
       "       7.8208060e+00, 7.5031281e+00, 6.8287992e+00, 6.1659822e+00,\n",
       "       5.9519992e+00, 5.1096954e+00, 4.9533033e+00, 4.3717241e+00,\n",
       "       4.1098890e+00, 3.8927417e+00, 3.5315640e+00, 3.5272615e+00,\n",
       "       3.4553266e+00, 3.2666328e+00, 3.1249063e+00, 3.0096223e+00,\n",
       "       2.7635863e+00, 2.6369815e+00], dtype=float32)"
      ]
     },
     "execution_count": 84,
     "metadata": {},
     "output_type": "execute_result"
    }
   ],
   "source": [
    "S.cpu().detach().numpy()[:50]"
   ]
  },
  {
   "cell_type": "code",
   "execution_count": 82,
   "metadata": {},
   "outputs": [
    {
     "data": {
      "text/plain": [
       "[<matplotlib.lines.Line2D at 0x7fb110b2f5e0>]"
      ]
     },
     "execution_count": 82,
     "metadata": {},
     "output_type": "execute_result"
    },
    {
     "data": {
      "image/png": "[encoded data removed]",
      "text/plain": [
       "<Figure size 432x288 with 1 Axes>"
      ]
     },
     "metadata": {
      "needs_background": "light"
     },
     "output_type": "display_data"
    }
   ],
   "source": [
    "plt.semilogy(S.cpu().detach().numpy())"
   ]
  },
  {
   "cell_type": "code",
   "execution_count": 69,
   "metadata": {},
   "outputs": [
    {
     "data": {
      "text/plain": [
       "torch.Size([128, 512])"
      ]
     },
     "execution_count": 69,
     "metadata": {},
     "output_type": "execute_result"
    }
   ],
   "source": [
    "A1.shape"
   ]
  },
  {
   "cell_type": "code",
   "execution_count": 23,
   "metadata": {},
   "outputs": [
    {
     "data": {
      "text/plain": [
       "128"
      ]
     },
     "execution_count": 23,
     "metadata": {},
     "output_type": "execute_result"
    }
   ],
   "source": [
    "trainloader.batch_size"
   ]
  },
  {
   "cell_type": "code",
   "execution_count": 32,
   "metadata": {},
   "outputs": [
    {
     "data": {
      "text/plain": [
       "torch.Size([128, 3, 32, 32])"
      ]
     },
     "execution_count": 32,
     "metadata": {},
     "output_type": "execute_result"
    }
   ],
   "source": [
    "batch_x.shape"
   ]
  },
  {
   "cell_type": "code",
   "execution_count": 85,
   "metadata": {},
   "outputs": [
    {
     "ename": "TypeError",
     "evalue": "'type' object is not subscriptable",
     "output_type": "error",
     "traceback": [
      "\u001b[0;31m---------------------------------------------------------------------------\u001b[0m",
      "\u001b[0;31mTypeError\u001b[0m                                 Traceback (most recent call last)",
      "\u001b[1;32m/home/vary/src/landing-generalized-stiefel/test_resnet_cca.ipynb Cell 19\u001b[0m in \u001b[0;36m<cell line: 3>\u001b[0;34m()\u001b[0m\n\u001b[1;32m      <a href='vscode-notebook-cell://ssh-remote%2Banatole.inma.ucl.ac.be/home/vary/src/landing-generalized-stiefel/test_resnet_cca.ipynb#X25sdnNjb2RlLXJlbW90ZQ%3D%3D?line=0'>1</a>\u001b[0m \u001b[39mimport\u001b[39;00m \u001b[39mtorch\u001b[39;00m\n\u001b[1;32m      <a href='vscode-notebook-cell://ssh-remote%2Banatole.inma.ucl.ac.be/home/vary/src/landing-generalized-stiefel/test_resnet_cca.ipynb#X25sdnNjb2RlLXJlbW90ZQ%3D%3D?line=1'>2</a>\u001b[0m \u001b[39mfrom\u001b[39;00m \u001b[39mtorchvision\u001b[39;00m\u001b[39m.\u001b[39;00m\u001b[39mmodels\u001b[39;00m \u001b[39mimport\u001b[39;00m resnet18\n\u001b[0;32m----> <a href='vscode-notebook-cell://ssh-remote%2Banatole.inma.ucl.ac.be/home/vary/src/landing-generalized-stiefel/test_resnet_cca.ipynb#X25sdnNjb2RlLXJlbW90ZQ%3D%3D?line=2'>3</a>\u001b[0m \u001b[39mfrom\u001b[39;00m \u001b[39manatome\u001b[39;00m \u001b[39mimport\u001b[39;00m Distance\n\u001b[1;32m      <a href='vscode-notebook-cell://ssh-remote%2Banatole.inma.ucl.ac.be/home/vary/src/landing-generalized-stiefel/test_resnet_cca.ipynb#X25sdnNjb2RlLXJlbW90ZQ%3D%3D?line=4'>5</a>\u001b[0m random_model \u001b[39m=\u001b[39m resnet18()\n\u001b[1;32m      <a href='vscode-notebook-cell://ssh-remote%2Banatole.inma.ucl.ac.be/home/vary/src/landing-generalized-stiefel/test_resnet_cca.ipynb#X25sdnNjb2RlLXJlbW90ZQ%3D%3D?line=5'>6</a>\u001b[0m learned_model \u001b[39m=\u001b[39m resnet18(pretrained\u001b[39m=\u001b[39m\u001b[39mTrue\u001b[39;00m)\n",
      "File \u001b[0;32m~/.loc_conda/envs/landing/lib/python3.8/site-packages/anatome/__init__.py:1\u001b[0m, in \u001b[0;36m<module>\u001b[0;34m\u001b[0m\n\u001b[0;32m----> 1\u001b[0m \u001b[39mfrom\u001b[39;00m \u001b[39m.\u001b[39;00m\u001b[39mdistance\u001b[39;00m \u001b[39mimport\u001b[39;00m Distance\n\u001b[1;32m      2\u001b[0m \u001b[39mfrom\u001b[39;00m \u001b[39m.\u001b[39;00m\u001b[39mfourier\u001b[39;00m \u001b[39mimport\u001b[39;00m fourier_map\n\u001b[1;32m      3\u001b[0m \u001b[39mfrom\u001b[39;00m \u001b[39m.\u001b[39;00m\u001b[39mlandscape\u001b[39;00m \u001b[39mimport\u001b[39;00m landscape1d, landscape2d\n",
      "File \u001b[0;32m~/.loc_conda/envs/landing/lib/python3.8/site-packages/anatome/distance.py:11\u001b[0m, in \u001b[0;36m<module>\u001b[0;34m\u001b[0m\n\u001b[1;32m      8\u001b[0m \u001b[39mfrom\u001b[39;00m \u001b[39mtorch\u001b[39;00m\u001b[39m.\u001b[39;00m\u001b[39mnn\u001b[39;00m \u001b[39mimport\u001b[39;00m functional \u001b[39mas\u001b[39;00m F\n\u001b[1;32m      9\u001b[0m \u001b[39mfrom\u001b[39;00m \u001b[39mtorchvision\u001b[39;00m\u001b[39m.\u001b[39;00m\u001b[39mmodels\u001b[39;00m\u001b[39m.\u001b[39;00m\u001b[39mfeature_extraction\u001b[39;00m \u001b[39mimport\u001b[39;00m get_graph_node_names, create_feature_extractor\n\u001b[0;32m---> 11\u001b[0m \u001b[39mfrom\u001b[39;00m \u001b[39m.\u001b[39;00m\u001b[39mutils\u001b[39;00m \u001b[39mimport\u001b[39;00m _irfft, _rfft, _svd\n\u001b[1;32m     14\u001b[0m \u001b[39mdef\u001b[39;00m \u001b[39m_zero_mean\u001b[39m(\u001b[39minput\u001b[39m: Tensor,\n\u001b[1;32m     15\u001b[0m                dim: \u001b[39mint\u001b[39m\n\u001b[1;32m     16\u001b[0m                ) \u001b[39m-\u001b[39m\u001b[39m>\u001b[39m Tensor:\n\u001b[1;32m     17\u001b[0m     \u001b[39mreturn\u001b[39;00m \u001b[39minput\u001b[39m \u001b[39m-\u001b[39m \u001b[39minput\u001b[39m\u001b[39m.\u001b[39mmean(dim\u001b[39m=\u001b[39mdim, keepdim\u001b[39m=\u001b[39m\u001b[39mTrue\u001b[39;00m)\n",
      "File \u001b[0;32m~/.loc_conda/envs/landing/lib/python3.8/site-packages/anatome/utils.py:9\u001b[0m, in \u001b[0;36m<module>\u001b[0;34m\u001b[0m\n\u001b[1;32m      4\u001b[0m \u001b[39mimport\u001b[39;00m \u001b[39mtorch\u001b[39;00m\n\u001b[1;32m      5\u001b[0m \u001b[39mfrom\u001b[39;00m \u001b[39mtorch\u001b[39;00m \u001b[39mimport\u001b[39;00m Tensor, nn\n\u001b[1;32m      8\u001b[0m \u001b[39mdef\u001b[39;00m \u001b[39m_svd\u001b[39m(\u001b[39minput\u001b[39m: torch\u001b[39m.\u001b[39mTensor\n\u001b[0;32m----> 9\u001b[0m          ) \u001b[39m-\u001b[39m\u001b[39m>\u001b[39m \u001b[39mtuple\u001b[39;49m[torch\u001b[39m.\u001b[39;49mTensor, torch\u001b[39m.\u001b[39;49mTensor, torch\u001b[39m.\u001b[39;49mTensor]:\n\u001b[1;32m     10\u001b[0m     \u001b[39m# torch.svd style\u001b[39;00m\n\u001b[1;32m     11\u001b[0m     U, S, Vh \u001b[39m=\u001b[39m torch\u001b[39m.\u001b[39mlinalg\u001b[39m.\u001b[39msvd(\u001b[39minput\u001b[39m, full_matrices\u001b[39m=\u001b[39m\u001b[39mFalse\u001b[39;00m)\n\u001b[1;32m     12\u001b[0m     V \u001b[39m=\u001b[39m Vh\u001b[39m.\u001b[39mtranspose(\u001b[39m-\u001b[39m\u001b[39m2\u001b[39m, \u001b[39m-\u001b[39m\u001b[39m1\u001b[39m)\n",
      "\u001b[0;31mTypeError\u001b[0m: 'type' object is not subscriptable"
     ]
    }
   ],
   "source": [
    "import torch\n",
    "from torchvision.models import resnet18\n",
    "from anatome import Distance\n",
    "\n",
    "random_model = resnet18()\n",
    "learned_model = resnet18(pretrained=True)\n",
    "distance = Distance(random_model, learned_model, method='pwcca')\n",
    "with torch.no_grad():\n",
    "    distance.forward(torch.randn(256, 3, 224, 224))\n",
    "\n",
    "# resize if necessary by specifying `size`\n",
    "distance.between(\"layer3.0.conv1\", \"layer3.0.conv1\", size=8)"
   ]
  },
  {
   "cell_type": "code",
   "execution_count": null,
   "metadata": {},
   "outputs": [],
   "source": []
  }
 ],
 "metadata": {
  "kernelspec": {
   "display_name": "landing",
   "language": "python",
   "name": "python3"
  },
  "language_info": {
   "codemirror_mode": {
    "name": "ipython",
    "version": 3
   },
   "file_extension": ".py",
   "mimetype": "text/x-python",
   "name": "python",
   "nbconvert_exporter": "python",
   "pygments_lexer": "ipython3",
   "version": "3.8.15"
  },
  "orig_nbformat": 4,
  "vscode": {
   "interpreter": {
    "hash": "91fb3ebf0d9504166a4264755ce4c2b4bd7f0c5db33bebc72cad48811027e9a9"
   }
  }
 },
 "nbformat": 4,
 "nbformat_minor": 2
}
