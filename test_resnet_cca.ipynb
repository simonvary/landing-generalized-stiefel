{
 "cells": [
  {
   "cell_type": "code",
   "execution_count": 1,
   "metadata": {},
   "outputs": [
    {
     "name": "stderr",
     "output_type": "stream",
     "text": [
      "/opt/mambaforge/envs/landing/lib/python3.8/site-packages/tqdm/auto.py:22: TqdmWarning: IProgress not found. Please update jupyter and ipywidgets. See https://ipywidgets.readthedocs.io/en/stable/user_install.html\n",
      "  from .autonotebook import tqdm as notebook_tqdm\n"
     ]
    }
   ],
   "source": [
    "\"\"\"\n",
    "A simple example of the Stiefel landing algorithm on PCA problem\n",
    "\"\"\"\n",
    "from time import time\n",
    "\n",
    "import matplotlib.pyplot as plt\n",
    "\n",
    "import numpy as np\n",
    "\n",
    "import torch\n",
    "\n",
    "import torch.optim as optim\n",
    "import torch.nn as nn\n",
    "import torch.nn.functional as F\n",
    "\n",
    "import torchvision\n",
    "import torchvision.transforms as transforms\n",
    "\n",
    "from models import VGG16, ResNet18\n",
    "\n",
    "from solvers import *\n",
    "\n",
    "import cupy as cp\n",
    "from scipy.linalg import eigh"
   ]
  },
  {
   "cell_type": "code",
   "execution_count": 2,
   "metadata": {},
   "outputs": [],
   "source": [
    "transform = transforms.Compose(\n",
    "    [transforms.ToTensor(),\n",
    "     transforms.Normalize((0.5, 0.5, 0.5), (0.5, 0.5, 0.5))])\n",
    "\n",
    "batch_size = 2*1024\n",
    "\n",
    "trainset = torchvision.datasets.CIFAR10(root='data', train=True,\n",
    "                                        download=False, transform=transform)\n",
    "\n",
    "transform_MNIST = transforms.Compose([transforms.ToTensor(),\n",
    "                              transforms.Normalize((0.5,), (0.5,)),\n",
    "                              ])\n",
    "trainset_MNIST = torchvision.datasets.MNIST(root='data', download=True, train=True, transform=transform_MNIST)\n",
    "\n",
    "trainloader_MNIST = torch.utils.data.DataLoader(trainset_MNIST, batch_size=batch_size, shuffle=True)\n",
    "\n",
    "trainloader = torch.utils.data.DataLoader(trainset, batch_size=batch_size, shuffle=True, num_workers=2)\n",
    "\n",
    "testset = torchvision.datasets.CIFAR10(root='data', train=False,\n",
    "                                       download=False, transform=transform)\n",
    "testloader = torch.utils.data.DataLoader(testset, batch_size=batch_size, shuffle=False, num_workers=2)\n",
    "\n",
    "classes = ('plane', 'car', 'bird', 'cat',\n",
    "           'deer', 'dog', 'frog', 'horse', 'ship', 'truck')"
   ]
  },
  {
   "cell_type": "code",
   "execution_count": 3,
   "metadata": {},
   "outputs": [],
   "source": [
    "def VectorizeLeftImage(batch):\n",
    "    data = [item[0][:,:,:14].reshape(-1).unsqueeze(0) for item in batch]\n",
    "    return(torch.cat(data, dim = 0))\n",
    "\n",
    "def VectorizeRightImage(batch):\n",
    "    data = [item[0][:,:,14:].reshape(-1).unsqueeze(0) for item in batch]\n",
    "    return(torch.cat(data, dim = 0))\n",
    "\n",
    "loader_A = torch.utils.data.DataLoader(trainset_MNIST, batch_size=batch_size, shuffle=False, num_workers=2, collate_fn=VectorizeLeftImage)\n",
    "loader_B = torch.utils.data.DataLoader(trainset_MNIST, batch_size=batch_size, shuffle=False, num_workers=2, collate_fn=VectorizeRightImage)"
   ]
  },
  {
   "cell_type": "code",
   "execution_count": 4,
   "metadata": {},
   "outputs": [
    {
     "name": "stdout",
     "output_type": "stream",
     "text": [
      "Dist X: 1.88677\n",
      "Dist X: 1.88723\n",
      "Objective: -1.43049\n",
      "Dist X: 1.09321\n",
      "Dist Y: 0.88261\n",
      "Objective: -2.01677\n",
      "Dist X: 0.67351\n",
      "Dist Y: 0.87598\n",
      "Objective: -2.32416\n",
      "Dist X: 0.64894\n",
      "Dist Y: 0.78824\n",
      "Objective: -2.48953\n",
      "Dist X: 0.65412\n",
      "Dist Y: 0.74235\n",
      "Objective: -2.62008\n",
      "Dist X: 0.66227\n",
      "Dist Y: 0.70414\n",
      "Objective: -2.73890\n",
      "Dist X: 0.66100\n",
      "Dist Y: 0.67055\n",
      "Objective: -2.84434\n",
      "Dist X: 0.65281\n",
      "Dist Y: 0.64408\n",
      "Objective: -2.93489\n",
      "Dist X: 0.64164\n",
      "Dist Y: 0.62430\n",
      "Objective: -3.01168\n",
      "Dist X: 0.62975\n",
      "Dist Y: 0.60908\n",
      "Objective: -3.07680\n",
      "Dist X: 0.61818\n",
      "Dist Y: 0.59644\n",
      "Objective: -3.13240\n",
      "Dist X: 0.60730\n",
      "Dist Y: 0.58511\n",
      "Objective: -3.18035\n",
      "Dist X: 0.59720\n",
      "Dist Y: 0.57443\n",
      "Objective: -3.22219\n",
      "Dist X: 0.58783\n",
      "Dist Y: 0.56412\n",
      "Objective: -3.25912\n",
      "Dist X: 0.57909\n",
      "Dist Y: 0.55406\n",
      "Objective: -3.29208\n",
      "Dist X: 0.57089\n",
      "Dist Y: 0.54425\n",
      "Objective: -3.32181\n",
      "Dist X: 0.56314\n",
      "Dist Y: 0.53470\n",
      "Objective: -3.34886\n",
      "Dist X: 0.55576\n",
      "Dist Y: 0.52543\n",
      "Objective: -3.37365\n",
      "Dist X: 0.54870\n",
      "Dist Y: 0.51645\n",
      "Objective: -3.39652\n",
      "Dist X: 0.54194\n",
      "Dist Y: 0.50778\n",
      "Objective: -3.41772\n",
      "Dist X: 0.53543\n",
      "Dist Y: 0.49943\n",
      "Objective: -3.43745\n",
      "Dist X: 0.52918\n",
      "Dist Y: 0.49140\n",
      "Objective: -3.45588\n",
      "Dist X: 0.52317\n",
      "Dist Y: 0.48370\n",
      "Objective: -3.47313\n",
      "Dist X: 0.51741\n",
      "Dist Y: 0.47633\n",
      "Objective: -3.48931\n",
      "Dist X: 0.51188\n",
      "Dist Y: 0.46928\n",
      "Objective: -3.50452\n",
      "Dist X: 0.50659\n",
      "Dist Y: 0.46256\n",
      "Objective: -3.51883\n",
      "Dist X: 0.50153\n",
      "Dist Y: 0.45615\n",
      "Objective: -3.53232\n",
      "Dist X: 0.49671\n",
      "Dist Y: 0.45006\n",
      "Objective: -3.54505\n",
      "Dist X: 0.49211\n",
      "Dist Y: 0.44427\n",
      "Objective: -3.55707\n",
      "Dist X: 0.48774\n",
      "Dist Y: 0.43879\n",
      "Objective: -3.56844\n",
      "Dist X: 0.48357\n",
      "Dist Y: 0.43358\n",
      "Objective: -3.57919\n",
      "Dist X: 0.47961\n",
      "Dist Y: 0.42866\n",
      "Objective: -3.58938\n",
      "Dist X: 0.47585\n",
      "Dist Y: 0.42400\n",
      "Objective: -3.59903\n",
      "Dist X: 0.47228\n",
      "Dist Y: 0.41959\n",
      "Objective: -3.60818\n",
      "Dist X: 0.46888\n",
      "Dist Y: 0.41542\n",
      "Objective: -3.61688\n",
      "Dist X: 0.46566\n",
      "Dist Y: 0.41148\n",
      "Objective: -3.62513\n",
      "Dist X: 0.46260\n",
      "Dist Y: 0.40776\n",
      "Objective: -3.63298\n",
      "Dist X: 0.45969\n",
      "Dist Y: 0.40424\n",
      "Objective: -3.64045\n",
      "Dist X: 0.45692\n",
      "Dist Y: 0.40091\n",
      "Objective: -3.64757\n",
      "Dist X: 0.45429\n",
      "Dist Y: 0.39777\n",
      "Objective: -3.65434\n",
      "Dist X: 0.45179\n",
      "Dist Y: 0.39480\n",
      "Objective: -3.66081\n",
      "Dist X: 0.44942\n",
      "Dist Y: 0.39199\n",
      "Objective: -3.66698\n",
      "Dist X: 0.44715\n",
      "Dist Y: 0.38933\n",
      "Objective: -3.67287\n",
      "Dist X: 0.44500\n",
      "Dist Y: 0.38681\n",
      "Objective: -3.67850\n",
      "Dist X: 0.44295\n",
      "Dist Y: 0.38442\n",
      "Objective: -3.68389\n",
      "Dist X: 0.44099\n",
      "Dist Y: 0.38216\n",
      "Objective: -3.68904\n",
      "Dist X: 0.43913\n",
      "Dist Y: 0.38002\n",
      "Objective: -3.69398\n",
      "Dist X: 0.43735\n",
      "Dist Y: 0.37798\n",
      "Objective: -3.69871\n",
      "Dist X: 0.43566\n",
      "Dist Y: 0.37605\n",
      "Objective: -3.70325\n",
      "Dist X: 0.43404\n",
      "Dist Y: 0.37421\n",
      "Objective: -3.70761\n",
      "Dist X: 0.43250\n",
      "Dist Y: 0.37246\n"
     ]
    }
   ],
   "source": [
    "X, Y, covA, covB, covAB, out  = LandingCCA(loader_A, loader_B, p = 5, learning_rate = 1e-2, omega = 10,  n_epochs=150, device = torch.device('cuda'))\n",
    "#learning_rate = 1e-3, omega = 100,"
   ]
  },
  {
   "cell_type": "code",
   "execution_count": 5,
   "metadata": {},
   "outputs": [
    {
     "data": {
      "image/png": "[encoded data removed]",
      "text/plain": [
       "<Figure size 288x216 with 1 Axes>"
      ]
     },
     "metadata": {
      "needs_background": "light"
     },
     "output_type": "display_data"
    },
    {
     "data": {
      "image/png": "[encoded data removed]",
      "text/plain": [
       "<Figure size 288x216 with 1 Axes>"
      ]
     },
     "metadata": {
      "needs_background": "light"
     },
     "output_type": "display_data"
    }
   ],
   "source": [
    "plt.figure(figsize=(4, 3))\n",
    "plt.semilogy(out['distanceX'], label = 'Distance X')\n",
    "plt.semilogy(out['distanceY'], label = 'Distance Y')\n",
    "plt.xlim([0, 350])\n",
    "x_ = plt.xlabel('Iterations')\n",
    "y_ = plt.ylabel('Distance to the constraint $\\mathcal{N}(X)$')\n",
    "plt.grid()\n",
    "plt.legend(ncol=2, loc='upper right', columnspacing=.5, handlelength=2)\n",
    "plt.show()\n",
    "#plt.savefig('cca_distance.pdf', bbox_inches='tight', bbox_extra_artists=(x_, y_))\n",
    "\n",
    "plt.figure(figsize=(4, 3))\n",
    "plt.plot(np.array(out['objective']), label='Objective')\n",
    "plt.xlim([0, 350])\n",
    "x_ = plt.xlabel('Iterations')\n",
    "y_ = plt.ylabel('Objective')\n",
    "plt.legend(ncol=2, loc='upper right', columnspacing=.5, handlelength=2)\n",
    "\n",
    "plt.grid()\n",
    "plt.show()\n",
    "#plt.savefig('cca_objective.pdf', bbox_inches='tight', bbox_extra_artists=(x_, y_))"
   ]
  },
  {
   "cell_type": "code",
   "execution_count": 10,
   "metadata": {},
   "outputs": [],
   "source": [
    "X = X.detach()\n",
    "Y = Y.detach()"
   ]
  },
  {
   "cell_type": "code",
   "execution_count": 11,
   "metadata": {},
   "outputs": [
    {
     "data": {
      "image/png": "[encoded data removed]",
      "text/plain": [
       "<Figure size 432x288 with 2 Axes>"
      ]
     },
     "metadata": {
      "needs_background": "light"
     },
     "output_type": "display_data"
    },
    {
     "data": {
      "image/png": "[encoded data removed]",
      "text/plain": [
       "<Figure size 432x288 with 2 Axes>"
      ]
     },
     "metadata": {
      "needs_background": "light"
     },
     "output_type": "display_data"
    },
    {
     "data": {
      "image/png": "[encoded data removed]",
      "text/plain": [
       "<Figure size 432x288 with 2 Axes>"
      ]
     },
     "metadata": {
      "needs_background": "light"
     },
     "output_type": "display_data"
    },
    {
     "data": {
      "image/png": "[encoded data removed]",
      "text/plain": [
       "<Figure size 432x288 with 2 Axes>"
      ]
     },
     "metadata": {
      "needs_background": "light"
     },
     "output_type": "display_data"
    }
   ],
   "source": [
    "plt.imshow(BtB_full.to('cpu').numpy())\n",
    "plt.colorbar()\n",
    "plt.show()\n",
    "\n",
    "plt.imshow((X.T @ AtA_full @ X).to('cpu').numpy())\n",
    "plt.colorbar()\n",
    "plt.show()\n",
    "\n",
    "plt.imshow((Y.T @ BtB_full @ Y).to('cpu').numpy())\n",
    "plt.colorbar()\n",
    "plt.show()\n",
    "\n",
    "plt.imshow((X.T @ AtB_full @ Y).to('cpu').numpy())\n",
    "plt.colorbar()\n",
    "plt.show()"
   ]
  },
  {
   "cell_type": "code",
   "execution_count": 13,
   "metadata": {},
   "outputs": [],
   "source": [
    "covA, covB, covAB = loader_to_cov(loader_A, loader_B,device = 'cuda')"
   ]
  },
  {
   "cell_type": "code",
   "execution_count": 14,
   "metadata": {},
   "outputs": [
    {
     "name": "stdout",
     "output_type": "stream",
     "text": [
      "adding eps to diagonal and taking inverse\n",
      "taking square root\n",
      "dot products...\n",
      "trying to take final svd\n",
      "computed everything!\n"
     ]
    }
   ],
   "source": [
    "u2, s, v2 = cca_closed_form(covA, covB, covAB, epsilon=1e-3, verb = True)"
   ]
  },
  {
   "cell_type": "code",
   "execution_count": 15,
   "metadata": {},
   "outputs": [],
   "source": [
    "u3, s3, v3, covA_lr = svcca(covA, covB, covAB, 20,epsilon=1e-3, verb=False)"
   ]
  },
  {
   "cell_type": "code",
   "execution_count": 17,
   "metadata": {},
   "outputs": [
    {
     "data": {
      "text/plain": [
       "tensor(3.5696, device='cuda:0')"
      ]
     },
     "execution_count": 17,
     "metadata": {},
     "output_type": "execute_result"
    }
   ],
   "source": [
    "torch.trace(u3[:,:5].T @ covAB @ v3[:,:5])"
   ]
  },
  {
   "cell_type": "code",
   "execution_count": 131,
   "metadata": {},
   "outputs": [
    {
     "data": {
      "image/png": "[encoded data removed]",
      "text/plain": [
       "<Figure size 432x288 with 2 Axes>"
      ]
     },
     "metadata": {
      "needs_background": "light"
     },
     "output_type": "display_data"
    },
    {
     "data": {
      "image/png": "[encoded data removed]",
      "text/plain": [
       "<Figure size 432x288 with 2 Axes>"
      ]
     },
     "metadata": {
      "needs_background": "light"
     },
     "output_type": "display_data"
    }
   ],
   "source": [
    "t = (u2[:,:5].T @ (covA) @ u2[:,:5] )\n",
    "plt.imshow(t.to('cpu').numpy())\n",
    "plt.colorbar()\n",
    "plt.show()\n",
    "\n",
    "t = (u3[:,:5].T @ (covA) @ u3[:,:5] )\n",
    "plt.imshow(t.to('cpu').numpy())\n",
    "plt.colorbar()\n",
    "plt.show()"
   ]
  },
  {
   "cell_type": "code",
   "execution_count": 132,
   "metadata": {},
   "outputs": [
    {
     "data": {
      "text/plain": [
       "tensor(2.4585, device='cuda:0')"
      ]
     },
     "execution_count": 132,
     "metadata": {},
     "output_type": "execute_result"
    }
   ],
   "source": [
    "torch.trace(u3[:,:5].T @ covAB @ v3[:,:5])"
   ]
  },
  {
   "cell_type": "code",
   "execution_count": null,
   "metadata": {},
   "outputs": [],
   "source": []
  },
  {
   "cell_type": "code",
   "execution_count": 123,
   "metadata": {},
   "outputs": [
    {
     "data": {
      "image/png": "[encoded data removed]",
      "text/plain": [
       "<Figure size 432x288 with 2 Axes>"
      ]
     },
     "metadata": {
      "needs_background": "light"
     },
     "output_type": "display_data"
    },
    {
     "data": {
      "image/png": "[encoded data removed]",
      "text/plain": [
       "<Figure size 432x288 with 2 Axes>"
      ]
     },
     "metadata": {
      "needs_background": "light"
     },
     "output_type": "display_data"
    },
    {
     "data": {
      "image/png": "[encoded data removed]",
      "text/plain": [
       "<Figure size 432x288 with 2 Axes>"
      ]
     },
     "metadata": {
      "needs_background": "light"
     },
     "output_type": "display_data"
    }
   ],
   "source": [
    "t = (u3[:,:5].T @ (covA+ 0*torch.eye(covA.size(0),device = 'cuda')) @ u3[:,:5] )\n",
    "plt.imshow(t.to('cpu').numpy())\n",
    "plt.colorbar()\n",
    "plt.show()\n",
    "\n",
    "t = v3[:,:5].T @ covB @ v3[:,:5]\n",
    "plt.imshow(t.to('cpu').numpy())\n",
    "plt.colorbar()\n",
    "plt.show()\n",
    "\n",
    "t = u3[:,:5].T @ covAB @ v3[:,:5]\n",
    "plt.imshow(t.to('cpu').numpy())\n",
    "plt.colorbar()\n",
    "plt.show()"
   ]
  },
  {
   "cell_type": "code",
   "execution_count": 73,
   "metadata": {},
   "outputs": [
    {
     "data": {
      "text/plain": [
       "tensor(-5.1856, device='cuda:0')"
      ]
     },
     "execution_count": 73,
     "metadata": {},
     "output_type": "execute_result"
    }
   ],
   "source": [
    "-.5*torch.trace(u[:,:5].T @ covAB @ v2[:,:5])"
   ]
  },
  {
   "cell_type": "code",
   "execution_count": 38,
   "metadata": {},
   "outputs": [
    {
     "data": {
      "text/plain": [
       "tensor([9.5715e-01, 9.5101e-01, 9.4251e-01, 9.3523e-01, 9.2088e-01, 9.0934e-01,\n",
       "        8.8670e-01, 8.7153e-01, 8.6323e-01, 8.4781e-01, 8.2756e-01, 7.9694e-01,\n",
       "        7.9582e-01, 7.7435e-01, 7.1616e-01, 6.9989e-01, 6.7249e-01, 6.4909e-01,\n",
       "        6.1516e-01, 6.0704e-01, 6.0128e-01, 5.6698e-01, 5.6296e-01, 5.4830e-01,\n",
       "        5.2868e-01, 5.2117e-01, 5.0359e-01, 4.9318e-01, 4.7748e-01, 4.6498e-01,\n",
       "        4.4853e-01, 4.3690e-01, 4.1060e-01, 4.0842e-01, 4.0235e-01, 3.7984e-01,\n",
       "        3.6849e-01, 3.4648e-01, 3.3081e-01, 3.2615e-01, 3.2344e-01, 3.0239e-01,\n",
       "        2.9616e-01, 2.8004e-01, 2.6412e-01, 2.6223e-01, 2.5506e-01, 2.4749e-01,\n",
       "        2.3632e-01, 2.2991e-01, 2.2095e-01, 2.1566e-01, 2.1178e-01, 2.0379e-01,\n",
       "        1.9978e-01, 1.9227e-01, 1.8859e-01, 1.8609e-01, 1.8329e-01, 1.7779e-01,\n",
       "        1.7107e-01, 1.6841e-01, 1.6377e-01, 1.6031e-01, 1.5616e-01, 1.5267e-01,\n",
       "        1.4768e-01, 1.4719e-01, 1.4493e-01, 1.4224e-01, 1.3870e-01, 1.3528e-01,\n",
       "        1.3511e-01, 1.3339e-01, 1.3154e-01, 1.2894e-01, 1.2604e-01, 1.2422e-01,\n",
       "        1.2347e-01, 1.2030e-01, 1.1775e-01, 1.1750e-01, 1.1704e-01, 1.1611e-01,\n",
       "        1.1318e-01, 1.1060e-01, 1.1054e-01, 1.0807e-01, 1.0710e-01, 1.0552e-01,\n",
       "        1.0455e-01, 1.0311e-01, 1.0206e-01, 1.0178e-01, 9.9786e-02, 9.9407e-02,\n",
       "        9.7589e-02, 9.6264e-02, 9.6004e-02, 9.5566e-02, 9.4546e-02, 9.3372e-02,\n",
       "        9.2638e-02, 9.2485e-02, 9.1609e-02, 9.0740e-02, 8.9487e-02, 8.9017e-02,\n",
       "        8.7625e-02, 8.7500e-02, 8.6711e-02, 8.5688e-02, 8.5225e-02, 8.4537e-02,\n",
       "        8.4484e-02, 8.3288e-02, 8.2216e-02, 8.1879e-02, 8.1301e-02, 8.0790e-02,\n",
       "        7.9374e-02, 7.9005e-02, 7.8281e-02, 7.7152e-02, 7.6554e-02, 7.6442e-02,\n",
       "        7.5590e-02, 7.5220e-02, 7.4178e-02, 7.3278e-02, 7.2899e-02, 7.2304e-02,\n",
       "        7.1621e-02, 7.1285e-02, 7.0485e-02, 6.9795e-02, 6.8667e-02, 6.8487e-02,\n",
       "        6.7724e-02, 6.6311e-02, 6.6281e-02, 6.5784e-02, 6.4974e-02, 6.4357e-02,\n",
       "        6.4213e-02, 6.3955e-02, 6.3452e-02, 6.2790e-02, 6.1787e-02, 6.1345e-02,\n",
       "        6.0836e-02, 6.0031e-02, 5.9213e-02, 5.8682e-02, 5.8318e-02, 5.7703e-02,\n",
       "        5.7453e-02, 5.6902e-02, 5.6472e-02, 5.6072e-02, 5.5276e-02, 5.4762e-02,\n",
       "        5.4364e-02, 5.3812e-02, 5.3198e-02, 5.2509e-02, 5.1885e-02, 5.1419e-02,\n",
       "        5.0923e-02, 5.0727e-02, 5.0069e-02, 4.9369e-02, 4.8891e-02, 4.8557e-02,\n",
       "        4.7970e-02, 4.7747e-02, 4.7334e-02, 4.6561e-02, 4.6425e-02, 4.5886e-02,\n",
       "        4.5770e-02, 4.5097e-02, 4.4095e-02, 4.3679e-02, 4.3093e-02, 4.2926e-02,\n",
       "        4.2703e-02, 4.2271e-02, 4.1258e-02, 4.1138e-02, 4.0595e-02, 4.0208e-02,\n",
       "        3.9683e-02, 3.9556e-02, 3.9246e-02, 3.8304e-02, 3.7949e-02, 3.7443e-02,\n",
       "        3.7124e-02, 3.6691e-02, 3.6049e-02, 3.5773e-02, 3.5613e-02, 3.4992e-02,\n",
       "        3.4402e-02, 3.4347e-02, 3.4012e-02, 3.3481e-02, 3.3206e-02, 3.2809e-02,\n",
       "        3.2181e-02, 3.1773e-02, 3.1587e-02, 3.1165e-02, 3.1085e-02, 3.0438e-02,\n",
       "        3.0005e-02, 2.9317e-02, 2.8953e-02, 2.8748e-02, 2.7862e-02, 2.7753e-02,\n",
       "        2.7645e-02, 2.7098e-02, 2.6846e-02, 2.6591e-02, 2.6072e-02, 2.5704e-02,\n",
       "        2.5452e-02, 2.5083e-02, 2.4439e-02, 2.3750e-02, 2.3007e-02, 2.2901e-02,\n",
       "        2.2506e-02, 2.2231e-02, 2.2012e-02, 2.1561e-02, 2.1330e-02, 2.0967e-02,\n",
       "        2.0669e-02, 2.0228e-02, 1.9912e-02, 1.9216e-02, 1.9030e-02, 1.8889e-02,\n",
       "        1.8316e-02, 1.7861e-02, 1.7766e-02, 1.7367e-02, 1.7090e-02, 1.6880e-02,\n",
       "        1.6777e-02, 1.6428e-02, 1.5847e-02, 1.5485e-02, 1.5282e-02, 1.4833e-02,\n",
       "        1.4687e-02, 1.4256e-02, 1.3865e-02, 1.3298e-02, 1.3146e-02, 1.3036e-02,\n",
       "        1.2648e-02, 1.2318e-02, 1.2103e-02, 1.1823e-02, 1.1415e-02, 1.1101e-02,\n",
       "        1.0925e-02, 1.0538e-02, 1.0273e-02, 9.8679e-03, 9.6268e-03, 9.4785e-03,\n",
       "        9.0934e-03, 8.7556e-03, 8.5125e-03, 8.2743e-03, 8.1640e-03, 7.8895e-03,\n",
       "        7.7155e-03, 7.6234e-03, 7.3187e-03, 7.1367e-03, 6.9855e-03, 6.6390e-03,\n",
       "        6.4630e-03, 6.2927e-03, 5.9883e-03, 5.8487e-03, 5.7696e-03, 5.5239e-03,\n",
       "        5.1800e-03, 4.9281e-03, 4.8693e-03, 4.5520e-03, 4.3773e-03, 3.8895e-03,\n",
       "        3.7859e-03, 3.5045e-03, 3.2588e-03, 3.1150e-03, 3.0115e-03, 2.7148e-03,\n",
       "        2.6736e-03, 2.5660e-03, 2.4345e-03, 2.3481e-03, 2.0450e-03, 1.8463e-03,\n",
       "        1.7541e-03, 1.6187e-03, 1.5200e-03, 1.4683e-03, 1.4391e-03, 1.1882e-03,\n",
       "        1.1478e-03, 1.0702e-03, 1.0168e-03, 9.2644e-04, 8.7418e-04, 7.8864e-04,\n",
       "        6.8130e-04, 6.2203e-04, 6.1281e-04, 5.6420e-04, 4.6360e-04, 3.7940e-04,\n",
       "        3.5952e-04, 3.0866e-04, 2.8693e-04, 2.1405e-04, 1.9004e-04, 1.8538e-04,\n",
       "        1.5625e-04, 1.4257e-04, 1.2071e-04, 1.1005e-04, 9.4102e-05, 8.2093e-05,\n",
       "        5.8066e-05, 3.4777e-05, 2.9218e-05, 2.3651e-05, 1.7125e-05, 1.3926e-05,\n",
       "        9.1412e-06, 4.6798e-06, 2.8404e-06, 6.8963e-09, 1.8172e-09, 1.1644e-09,\n",
       "        1.0927e-09, 8.4535e-10, 8.3161e-10, 6.6466e-10, 5.4015e-10, 3.9747e-10,\n",
       "        2.6925e-10, 2.2071e-10, 1.4882e-10, 8.0228e-11, 0.0000e+00, 0.0000e+00,\n",
       "        0.0000e+00, 0.0000e+00, 0.0000e+00, 0.0000e+00, 0.0000e+00, 0.0000e+00,\n",
       "        0.0000e+00, 0.0000e+00, 0.0000e+00, 0.0000e+00, 0.0000e+00, 0.0000e+00,\n",
       "        0.0000e+00, 0.0000e+00, 0.0000e+00, 0.0000e+00, 0.0000e+00, 0.0000e+00,\n",
       "        0.0000e+00, 0.0000e+00, 0.0000e+00, 0.0000e+00, 0.0000e+00, 0.0000e+00,\n",
       "        0.0000e+00, 0.0000e+00], device='cuda:0')"
      ]
     },
     "execution_count": 38,
     "metadata": {},
     "output_type": "execute_result"
    }
   ],
   "source": [
    "s[]"
   ]
  },
  {
   "cell_type": "code",
   "execution_count": 39,
   "metadata": {},
   "outputs": [
    {
     "ename": "SyntaxError",
     "evalue": "invalid syntax (1910750013.py, line 1)",
     "output_type": "error",
     "traceback": [
      "\u001b[0;36m  File \u001b[0;32m\"/tmp/ipykernel_49722/1910750013.py\"\u001b[0;36m, line \u001b[0;32m1\u001b[0m\n\u001b[0;31m    :5def eval_CCA(covA, covB, covAB, num_components, eps):\u001b[0m\n\u001b[0m    ^\u001b[0m\n\u001b[0;31mSyntaxError\u001b[0m\u001b[0;31m:\u001b[0m invalid syntax\n"
     ]
    }
   ],
   "source": [
    "def eval_CCA(covA, covB, covAB, num_components, eps):\n",
    "    evals_covA, evecs_covA = torch.linalg.eigh(covA + eps*torch.eye(covA.size(0), device= covA.device))\n",
    "    evals_covB, evecs_covB = torch.linalg.eigh(covB + eps*torch.eye(covB.size(0), device= covA.device))\n",
    "    covA_isqrt = evecs_covA @ torch.diag(evals_covA**(-0.5)) @ evecs_covA.T\n",
    "    covB_isqrt = evecs_covB @ torch.diag(evals_covB**(-0.5)) @ evecs_covB.T\n",
    "    u, s, v = torch.linalg.svd(covA_isqrt @ covAB @ covB_isqrt, full_matrices = False)\n",
    "    x_true = u[:,:num_components]\n",
    "    xy_corr = s[:num_components]\n",
    "    y_true = v[:num_components,:].T\n",
    "    return(x_true, y_true, xy_corr)"
   ]
  },
  {
   "cell_type": "code",
   "execution_count": 15,
   "metadata": {},
   "outputs": [
    {
     "ename": "ValueError",
     "evalue": "too many values to unpack (expected 2)",
     "output_type": "error",
     "traceback": [
      "\u001b[0;31m---------------------------------------------------------------------------\u001b[0m",
      "\u001b[0;31mValueError\u001b[0m                                Traceback (most recent call last)",
      "\u001b[0;32m/tmp/ipykernel_49722/2295790591.py\u001b[0m in \u001b[0;36m<module>\u001b[0;34m\u001b[0m\n\u001b[0;32m----> 1\u001b[0;31m \u001b[0mcovA\u001b[0m\u001b[0;34m,\u001b[0m \u001b[0mcovB\u001b[0m\u001b[0;34m,\u001b[0m \u001b[0mcovAB\u001b[0m \u001b[0;34m=\u001b[0m \u001b[0mloader_to_cov\u001b[0m\u001b[0;34m(\u001b[0m\u001b[0mloader_A\u001b[0m\u001b[0;34m,\u001b[0m \u001b[0mloader_B\u001b[0m\u001b[0;34m,\u001b[0m\u001b[0mdevice\u001b[0m \u001b[0;34m=\u001b[0m \u001b[0;34m'cuda'\u001b[0m\u001b[0;34m)\u001b[0m\u001b[0;34m\u001b[0m\u001b[0;34m\u001b[0m\u001b[0m\n\u001b[0m",
      "\u001b[0;32m/tmp/ipykernel_49722/291984910.py\u001b[0m in \u001b[0;36mloader_to_cov\u001b[0;34m(loaderA, loaderB, loader_meanA, loader_meanB, device)\u001b[0m\n\u001b[1;32m     31\u001b[0m \u001b[0;32mdef\u001b[0m \u001b[0mloader_to_cov\u001b[0m\u001b[0;34m(\u001b[0m\u001b[0mloaderA\u001b[0m\u001b[0;34m,\u001b[0m \u001b[0mloaderB\u001b[0m\u001b[0;34m,\u001b[0m \u001b[0mloader_meanA\u001b[0m\u001b[0;34m=\u001b[0m\u001b[0;32mNone\u001b[0m\u001b[0;34m,\u001b[0m \u001b[0mloader_meanB\u001b[0m\u001b[0;34m=\u001b[0m\u001b[0;32mNone\u001b[0m\u001b[0;34m,\u001b[0m \u001b[0mdevice\u001b[0m\u001b[0;34m=\u001b[0m\u001b[0;34m'cpu'\u001b[0m\u001b[0;34m)\u001b[0m\u001b[0;34m:\u001b[0m\u001b[0;34m\u001b[0m\u001b[0;34m\u001b[0m\u001b[0m\n\u001b[1;32m     32\u001b[0m     \u001b[0;32mif\u001b[0m \u001b[0mloader_meanA\u001b[0m \u001b[0;32mis\u001b[0m \u001b[0;32mNone\u001b[0m\u001b[0;34m:\u001b[0m\u001b[0;34m\u001b[0m\u001b[0;34m\u001b[0m\u001b[0m\n\u001b[0;32m---> 33\u001b[0;31m         \u001b[0mloader_meanA\u001b[0m\u001b[0;34m,\u001b[0m\u001b[0m_\u001b[0m \u001b[0;34m=\u001b[0m \u001b[0mcompute_mean_std\u001b[0m\u001b[0;34m(\u001b[0m\u001b[0mloaderA\u001b[0m\u001b[0;34m)\u001b[0m\u001b[0;34m\u001b[0m\u001b[0;34m\u001b[0m\u001b[0m\n\u001b[0m\u001b[1;32m     34\u001b[0m     \u001b[0;32mif\u001b[0m \u001b[0mloader_meanB\u001b[0m \u001b[0;32mis\u001b[0m \u001b[0;32mNone\u001b[0m\u001b[0;34m:\u001b[0m\u001b[0;34m\u001b[0m\u001b[0;34m\u001b[0m\u001b[0m\n\u001b[1;32m     35\u001b[0m         \u001b[0mloader_meanB\u001b[0m\u001b[0;34m,\u001b[0m\u001b[0m_\u001b[0m \u001b[0;34m=\u001b[0m \u001b[0mcompute_mean_std\u001b[0m\u001b[0;34m(\u001b[0m\u001b[0mloaderB\u001b[0m\u001b[0;34m)\u001b[0m\u001b[0;34m\u001b[0m\u001b[0;34m\u001b[0m\u001b[0m\n",
      "\u001b[0;32m/tmp/ipykernel_49722/291984910.py\u001b[0m in \u001b[0;36mcompute_mean_std\u001b[0;34m(loader)\u001b[0m\n\u001b[1;32m     20\u001b[0m     \u001b[0mmean\u001b[0m \u001b[0;34m=\u001b[0m \u001b[0;36m0.\u001b[0m\u001b[0;34m\u001b[0m\u001b[0;34m\u001b[0m\u001b[0m\n\u001b[1;32m     21\u001b[0m     \u001b[0mstd\u001b[0m \u001b[0;34m=\u001b[0m \u001b[0;36m0.\u001b[0m\u001b[0;34m\u001b[0m\u001b[0;34m\u001b[0m\u001b[0m\n\u001b[0;32m---> 22\u001b[0;31m     \u001b[0;32mfor\u001b[0m \u001b[0mbatch\u001b[0m\u001b[0;34m,\u001b[0m \u001b[0m_\u001b[0m \u001b[0;32min\u001b[0m \u001b[0mloader\u001b[0m\u001b[0;34m:\u001b[0m\u001b[0;34m\u001b[0m\u001b[0;34m\u001b[0m\u001b[0m\n\u001b[0m\u001b[1;32m     23\u001b[0m         \u001b[0mbatch_n\u001b[0m \u001b[0;34m=\u001b[0m \u001b[0mbatch\u001b[0m\u001b[0;34m.\u001b[0m\u001b[0msize\u001b[0m\u001b[0;34m(\u001b[0m\u001b[0;36m0\u001b[0m\u001b[0;34m)\u001b[0m\u001b[0;34m\u001b[0m\u001b[0;34m\u001b[0m\u001b[0m\n\u001b[1;32m     24\u001b[0m         \u001b[0mbatch\u001b[0m \u001b[0;34m=\u001b[0m \u001b[0mbatch\u001b[0m\u001b[0;34m.\u001b[0m\u001b[0mview\u001b[0m\u001b[0;34m(\u001b[0m\u001b[0mbatch_n\u001b[0m\u001b[0;34m,\u001b[0m \u001b[0mbatch\u001b[0m\u001b[0;34m.\u001b[0m\u001b[0msize\u001b[0m\u001b[0;34m(\u001b[0m\u001b[0;36m1\u001b[0m\u001b[0;34m)\u001b[0m\u001b[0;34m,\u001b[0m \u001b[0;34m-\u001b[0m\u001b[0;36m1\u001b[0m\u001b[0;34m)\u001b[0m\u001b[0;34m\u001b[0m\u001b[0;34m\u001b[0m\u001b[0m\n",
      "\u001b[0;31mValueError\u001b[0m: too many values to unpack (expected 2)"
     ]
    }
   ],
   "source": [
    "covA, covB, covAB = loader_to_cov(loader_A, loader_B,device = 'cuda')"
   ]
  },
  {
   "cell_type": "code",
   "execution_count": 9,
   "metadata": {},
   "outputs": [],
   "source": [
    "x_true, y_true, xy_corr = eval_CCA(AtA_full, BtB_full, AtB_full, 10, eps = 1e-5)\n",
    "x_true = x_true.cpu().numpy()\n",
    "y_true = y_true.cpu().numpy()"
   ]
  },
  {
   "cell_type": "code",
   "execution_count": 23,
   "metadata": {},
   "outputs": [
    {
     "data": {
      "text/plain": [
       "302.72025"
      ]
     },
     "execution_count": 23,
     "metadata": {},
     "output_type": "execute_result"
    }
   ],
   "source": [
    "np.trace(x_true.T @ AtB @ y_true )"
   ]
  },
  {
   "cell_type": "code",
   "execution_count": 11,
   "metadata": {},
   "outputs": [
    {
     "data": {
      "text/plain": [
       "0.93079555"
      ]
     },
     "execution_count": 11,
     "metadata": {},
     "output_type": "execute_result"
    }
   ],
   "source": [
    "np.trace(X_cpu.T @ AtB @ Y_cpu )"
   ]
  },
  {
   "cell_type": "code",
   "execution_count": 24,
   "metadata": {},
   "outputs": [
    {
     "data": {
      "text/plain": [
       "266.71440591739673"
      ]
     },
     "execution_count": 24,
     "metadata": {},
     "output_type": "execute_result"
    }
   ],
   "source": [
    "np.linalg.norm(x_true.T @ AtA @ x_true - np.eye(x_true.shape[1]))"
   ]
  },
  {
   "cell_type": "code",
   "execution_count": 25,
   "metadata": {},
   "outputs": [
    {
     "data": {
      "text/plain": [
       "1.9673596152934258"
      ]
     },
     "execution_count": 25,
     "metadata": {},
     "output_type": "execute_result"
    }
   ],
   "source": [
    "np.linalg.norm(X_cpu.T @ AtA @ X_cpu - np.eye(X_cpu.shape[1]))"
   ]
  },
  {
   "cell_type": "code",
   "execution_count": 30,
   "metadata": {},
   "outputs": [
    {
     "data": {
      "text/plain": [
       "<matplotlib.colorbar.Colorbar at 0x7fd61a45a190>"
      ]
     },
     "execution_count": 30,
     "metadata": {},
     "output_type": "execute_result"
    },
    {
     "data": {
      "image/png": "[encoded data removed]",
      "text/plain": [
       "<Figure size 432x288 with 2 Axes>"
      ]
     },
     "metadata": {
      "needs_background": "light"
     },
     "output_type": "display_data"
    }
   ],
   "source": [
    "plt.imshow(x_true.T @ AtA @ x_true/250 )\n",
    "plt.colorbar()"
   ]
  },
  {
   "cell_type": "code",
   "execution_count": 17,
   "metadata": {},
   "outputs": [
    {
     "data": {
      "text/plain": [
       "(392, 5)"
      ]
     },
     "execution_count": 17,
     "metadata": {},
     "output_type": "execute_result"
    }
   ],
   "source": [
    "X_cpu.shape"
   ]
  },
  {
   "cell_type": "code",
   "execution_count": 71,
   "metadata": {},
   "outputs": [
    {
     "ename": "NameError",
     "evalue": "name 'x_true' is not defined",
     "output_type": "error",
     "traceback": [
      "\u001b[0;31m---------------------------------------------------------------------------\u001b[0m",
      "\u001b[0;31mNameError\u001b[0m                                 Traceback (most recent call last)",
      "\u001b[0;32m/tmp/ipykernel_49722/1729824934.py\u001b[0m in \u001b[0;36m<module>\u001b[0;34m\u001b[0m\n\u001b[1;32m      1\u001b[0m \u001b[0mind\u001b[0m \u001b[0;34m=\u001b[0m \u001b[0;36m1\u001b[0m\u001b[0;34m\u001b[0m\u001b[0;34m\u001b[0m\u001b[0m\n\u001b[0;32m----> 2\u001b[0;31m \u001b[0mplt\u001b[0m\u001b[0;34m.\u001b[0m\u001b[0mimshow\u001b[0m\u001b[0;34m(\u001b[0m\u001b[0mnp\u001b[0m\u001b[0;34m.\u001b[0m\u001b[0mhstack\u001b[0m\u001b[0;34m(\u001b[0m\u001b[0;34m(\u001b[0m\u001b[0mx_true\u001b[0m\u001b[0;34m[\u001b[0m\u001b[0;34m:\u001b[0m\u001b[0;34m,\u001b[0m\u001b[0mind\u001b[0m\u001b[0;34m]\u001b[0m\u001b[0;34m.\u001b[0m\u001b[0mreshape\u001b[0m\u001b[0;34m(\u001b[0m\u001b[0;36m28\u001b[0m\u001b[0;34m,\u001b[0m\u001b[0;36m14\u001b[0m\u001b[0;34m)\u001b[0m\u001b[0;34m,\u001b[0m \u001b[0mX_cpu\u001b[0m\u001b[0;34m[\u001b[0m\u001b[0;34m:\u001b[0m\u001b[0;34m,\u001b[0m\u001b[0mind\u001b[0m\u001b[0;34m]\u001b[0m\u001b[0;34m.\u001b[0m\u001b[0mreshape\u001b[0m\u001b[0;34m(\u001b[0m\u001b[0;36m28\u001b[0m\u001b[0;34m,\u001b[0m\u001b[0;36m14\u001b[0m\u001b[0;34m)\u001b[0m\u001b[0;34m)\u001b[0m\u001b[0;34m)\u001b[0m\u001b[0;34m)\u001b[0m\u001b[0;34m\u001b[0m\u001b[0;34m\u001b[0m\u001b[0m\n\u001b[0m\u001b[1;32m      3\u001b[0m \u001b[0mplt\u001b[0m\u001b[0;34m.\u001b[0m\u001b[0mshow\u001b[0m\u001b[0;34m(\u001b[0m\u001b[0;34m)\u001b[0m\u001b[0;34m\u001b[0m\u001b[0;34m\u001b[0m\u001b[0m\n\u001b[1;32m      4\u001b[0m \u001b[0mplt\u001b[0m\u001b[0;34m.\u001b[0m\u001b[0mimshow\u001b[0m\u001b[0;34m(\u001b[0m\u001b[0mnp\u001b[0m\u001b[0;34m.\u001b[0m\u001b[0mhstack\u001b[0m\u001b[0;34m(\u001b[0m\u001b[0;34m(\u001b[0m\u001b[0my_true\u001b[0m\u001b[0;34m[\u001b[0m\u001b[0;34m:\u001b[0m\u001b[0;34m,\u001b[0m\u001b[0mind\u001b[0m\u001b[0;34m]\u001b[0m\u001b[0;34m.\u001b[0m\u001b[0mreshape\u001b[0m\u001b[0;34m(\u001b[0m\u001b[0;36m28\u001b[0m\u001b[0;34m,\u001b[0m\u001b[0;36m14\u001b[0m\u001b[0;34m)\u001b[0m\u001b[0;34m,\u001b[0m \u001b[0mY_cpu\u001b[0m\u001b[0;34m[\u001b[0m\u001b[0;34m:\u001b[0m\u001b[0;34m,\u001b[0m\u001b[0mind\u001b[0m\u001b[0;34m]\u001b[0m\u001b[0;34m.\u001b[0m\u001b[0mreshape\u001b[0m\u001b[0;34m(\u001b[0m\u001b[0;36m28\u001b[0m\u001b[0;34m,\u001b[0m\u001b[0;36m14\u001b[0m\u001b[0;34m)\u001b[0m\u001b[0;34m)\u001b[0m\u001b[0;34m)\u001b[0m\u001b[0;34m)\u001b[0m\u001b[0;34m\u001b[0m\u001b[0;34m\u001b[0m\u001b[0m\n\u001b[1;32m      5\u001b[0m \u001b[0mplt\u001b[0m\u001b[0;34m.\u001b[0m\u001b[0mshow\u001b[0m\u001b[0;34m(\u001b[0m\u001b[0;34m)\u001b[0m\u001b[0;34m\u001b[0m\u001b[0;34m\u001b[0m\u001b[0m\n",
      "\u001b[0;31mNameError\u001b[0m: name 'x_true' is not defined"
     ]
    }
   ],
   "source": [
    "ind = 1\n",
    "plt.imshow(np.hstack((x_true[:,ind].reshape(28,14), X_cpu[:,ind].reshape(28,14))))\n",
    "plt.show()\n",
    "plt.imshow(np.hstack((y_true[:,ind].reshape(28,14), Y_cpu[:,ind].reshape(28,14))))\n",
    "plt.show()"
   ]
  },
  {
   "cell_type": "code",
   "execution_count": 14,
   "metadata": {},
   "outputs": [
    {
     "data": {
      "text/plain": [
       "286.57953"
      ]
     },
     "execution_count": 14,
     "metadata": {},
     "output_type": "execute_result"
    }
   ],
   "source": [
    "np.trace(x_true.T @ AtB @ y_true)"
   ]
  },
  {
   "cell_type": "code",
   "execution_count": 15,
   "metadata": {},
   "outputs": [
    {
     "data": {
      "text/plain": [
       "tensor(258.4471, device='cuda:0')"
      ]
     },
     "execution_count": 15,
     "metadata": {},
     "output_type": "execute_result"
    }
   ],
   "source": [
    "torch.linalg.norm(AtB_full)"
   ]
  },
  {
   "cell_type": "code",
   "execution_count": 16,
   "metadata": {},
   "outputs": [
    {
     "data": {
      "text/plain": [
       "tensor(3.4283, device='cuda:0', grad_fn=<TraceBackward0>)"
      ]
     },
     "execution_count": 16,
     "metadata": {},
     "output_type": "execute_result"
    }
   ],
   "source": [
    "torch.trace(X.T @ AtB_full @ Y)"
   ]
  },
  {
   "cell_type": "code",
   "execution_count": 36,
   "metadata": {},
   "outputs": [
    {
     "data": {
      "text/plain": [
       "<matplotlib.colorbar.Colorbar at 0x7f306e671bb0>"
      ]
     },
     "execution_count": 36,
     "metadata": {},
     "output_type": "execute_result"
    },
    {
     "data": {
      "image/png": "[encoded data removed]",
      "text/plain": [
       "<Figure size 432x288 with 2 Axes>"
      ]
     },
     "metadata": {
      "needs_background": "light"
     },
     "output_type": "display_data"
    }
   ],
   "source": [
    "plt.imshow(np.abs(x_true.T @ (AtA +1e-5* np.eye(AtA.shape[0]))@ x_true)/1e-5)\n",
    "plt.colorbar()\n"
   ]
  },
  {
   "cell_type": "code",
   "execution_count": 26,
   "metadata": {},
   "outputs": [
    {
     "data": {
      "image/png": "[encoded data removed]",
      "text/plain": [
       "<Figure size 432x288 with 2 Axes>"
      ]
     },
     "metadata": {
      "needs_background": "light"
     },
     "output_type": "display_data"
    },
    {
     "data": {
      "image/png": "[encoded data removed]",
      "text/plain": [
       "<Figure size 432x288 with 2 Axes>"
      ]
     },
     "metadata": {
      "needs_background": "light"
     },
     "output_type": "display_data"
    },
    {
     "data": {
      "image/png": "[encoded data removed]",
      "text/plain": [
       "<Figure size 432x288 with 2 Axes>"
      ]
     },
     "metadata": {
      "needs_background": "light"
     },
     "output_type": "display_data"
    }
   ],
   "source": [
    "plt.imshow(np.abs(x_true.T @ AtB @ y_true))\n",
    "plt.colorbar()\n",
    "plt.show()\n",
    "plt.imshow(np.abs(x_true.T @ (AtA + np.eye(AtA.shape[0]))@ x_true))\n",
    "plt.colorbar()\n",
    "plt.show()\n",
    "plt.imshow(np.abs(y_true.T @ BtB @ y_true))\n",
    "plt.colorbar()\n",
    "plt.show()"
   ]
  },
  {
   "cell_type": "code",
   "execution_count": 21,
   "metadata": {},
   "outputs": [
    {
     "data": {
      "image/png": "[encoded data removed]",
      "text/plain": [
       "<Figure size 432x288 with 2 Axes>"
      ]
     },
     "metadata": {
      "needs_background": "light"
     },
     "output_type": "display_data"
    },
    {
     "data": {
      "image/png": "[encoded data removed]",
      "text/plain": [
       "<Figure size 432x288 with 2 Axes>"
      ]
     },
     "metadata": {
      "needs_background": "light"
     },
     "output_type": "display_data"
    },
    {
     "data": {
      "image/png": "[encoded data removed]",
      "text/plain": [
       "<Figure size 432x288 with 2 Axes>"
      ]
     },
     "metadata": {
      "needs_background": "light"
     },
     "output_type": "display_data"
    }
   ],
   "source": [
    "plt.imshow(np.abs(X_cpu.T @ AtB @ Y_cpu), clim=[0,1])\n",
    "plt.colorbar()\n",
    "plt.show()\n",
    "plt.imshow(np.abs(X_cpu.T @ AtA @ X_cpu), clim=[0,1])\n",
    "plt.colorbar()\n",
    "plt.show()\n",
    "plt.imshow(np.abs(Y_cpu.T @ BtB @ Y_cpu), clim=[0,1])\n",
    "plt.colorbar()\n",
    "plt.show()"
   ]
  },
  {
   "cell_type": "code",
   "execution_count": 13,
   "metadata": {},
   "outputs": [],
   "source": [
    "etmp, _ = np.linalg.eig(AtA - np.eye(392))"
   ]
  },
  {
   "cell_type": "code",
   "execution_count": 15,
   "metadata": {},
   "outputs": [
    {
     "data": {
      "text/plain": [
       "array([ 2.66689097e+02+0.0000000e+00j,  9.43700916e+00+0.0000000e+00j,\n",
       "        8.70814200e+00+0.0000000e+00j,  7.32059792e+00+0.0000000e+00j,\n",
       "        6.66185297e+00+0.0000000e+00j,  5.01854101e+00+0.0000000e+00j,\n",
       "        4.05924116e+00+0.0000000e+00j,  2.72082343e+00+0.0000000e+00j,\n",
       "        2.36344196e+00+0.0000000e+00j,  1.95435479e+00+0.0000000e+00j,\n",
       "        1.57381174e+00+0.0000000e+00j,  1.37952409e+00+0.0000000e+00j,\n",
       "        1.06334154e+00+0.0000000e+00j,  1.00946705e+00+0.0000000e+00j,\n",
       "        6.99567605e-01+0.0000000e+00j,  6.22834248e-01+0.0000000e+00j,\n",
       "        4.86948107e-01+0.0000000e+00j,  2.85375365e-01+0.0000000e+00j,\n",
       "        1.96197248e-01+0.0000000e+00j,  1.72451268e-01+0.0000000e+00j,\n",
       "        2.67297552e-02+0.0000000e+00j,  4.09396356e-03+0.0000000e+00j,\n",
       "       -1.25836575e-01+0.0000000e+00j, -1.51021580e-01+0.0000000e+00j,\n",
       "       -2.28162298e-01+0.0000000e+00j, -2.50873026e-01+0.0000000e+00j,\n",
       "       -3.42771064e-01+0.0000000e+00j, -3.90080180e-01+0.0000000e+00j,\n",
       "       -4.09942503e-01+0.0000000e+00j, -4.43502485e-01+0.0000000e+00j,\n",
       "       -4.53773085e-01+0.0000000e+00j, -4.99540962e-01+0.0000000e+00j,\n",
       "       -5.14584710e-01+0.0000000e+00j, -5.43586631e-01+0.0000000e+00j,\n",
       "       -5.80861768e-01+0.0000000e+00j, -6.17327202e-01+0.0000000e+00j,\n",
       "       -6.21145263e-01+0.0000000e+00j, -6.37647979e-01+0.0000000e+00j,\n",
       "       -6.52054051e-01+0.0000000e+00j, -6.69938699e-01+0.0000000e+00j,\n",
       "       -6.87405452e-01+0.0000000e+00j, -7.10647156e-01+0.0000000e+00j,\n",
       "       -7.18307922e-01+0.0000000e+00j, -7.24335171e-01+0.0000000e+00j,\n",
       "       -7.32421359e-01+0.0000000e+00j, -7.51197041e-01+0.0000000e+00j,\n",
       "       -7.59287010e-01+0.0000000e+00j, -7.62292036e-01+0.0000000e+00j,\n",
       "       -7.82607682e-01+0.0000000e+00j, -7.92285495e-01+0.0000000e+00j,\n",
       "       -7.94713190e-01+0.0000000e+00j, -8.01747110e-01+0.0000000e+00j,\n",
       "       -8.06174181e-01+0.0000000e+00j, -8.13332966e-01+0.0000000e+00j,\n",
       "       -8.24630367e-01+0.0000000e+00j, -8.31543455e-01+0.0000000e+00j,\n",
       "       -8.36954751e-01+0.0000000e+00j, -8.41024114e-01+0.0000000e+00j,\n",
       "       -8.47849693e-01+0.0000000e+00j, -8.47574722e-01+0.0000000e+00j,\n",
       "       -8.55453777e-01+0.0000000e+00j, -8.56535990e-01+0.0000000e+00j,\n",
       "       -8.64853934e-01+0.0000000e+00j, -8.68019743e-01+0.0000000e+00j,\n",
       "       -8.69884959e-01+0.0000000e+00j, -8.74162191e-01+0.0000000e+00j,\n",
       "       -8.82247422e-01+0.0000000e+00j, -8.83502860e-01+0.0000000e+00j,\n",
       "       -8.86227043e-01+0.0000000e+00j, -8.89369127e-01+0.0000000e+00j,\n",
       "       -8.93199907e-01+0.0000000e+00j, -8.95546056e-01+0.0000000e+00j,\n",
       "       -8.96085884e-01+0.0000000e+00j, -9.01072476e-01+0.0000000e+00j,\n",
       "       -9.05705204e-01+0.0000000e+00j, -9.04392314e-01+0.0000000e+00j,\n",
       "       -9.07831446e-01+0.0000000e+00j, -9.09320061e-01+0.0000000e+00j,\n",
       "       -9.10261127e-01+0.0000000e+00j, -9.12181138e-01+0.0000000e+00j,\n",
       "       -9.15550900e-01+0.0000000e+00j, -9.17516009e-01+0.0000000e+00j,\n",
       "       -9.19420473e-01+0.0000000e+00j, -9.20956144e-01+0.0000000e+00j,\n",
       "       -9.23484958e-01+0.0000000e+00j, -9.23394777e-01+0.0000000e+00j,\n",
       "       -9.25716936e-01+0.0000000e+00j, -9.28657063e-01+0.0000000e+00j,\n",
       "       -9.29982835e-01+0.0000000e+00j, -9.31681053e-01+0.0000000e+00j,\n",
       "       -9.32824949e-01+0.0000000e+00j, -9.33408522e-01+0.0000000e+00j,\n",
       "       -9.35234977e-01+0.0000000e+00j, -9.36219136e-01+0.0000000e+00j,\n",
       "       -9.37213281e-01+0.0000000e+00j, -9.38513556e-01+0.0000000e+00j,\n",
       "       -9.50646661e-01+0.0000000e+00j, -9.39458715e-01+0.0000000e+00j,\n",
       "       -9.49151573e-01+0.0000000e+00j, -9.47838403e-01+0.0000000e+00j,\n",
       "       -9.47006985e-01+0.0000000e+00j, -9.41230357e-01+0.0000000e+00j,\n",
       "       -9.41685309e-01+0.0000000e+00j, -9.42031225e-01+0.0000000e+00j,\n",
       "       -9.45276560e-01+0.0000000e+00j, -9.44596987e-01+0.0000000e+00j,\n",
       "       -9.43587124e-01+0.0000000e+00j, -9.43022871e-01+0.0000000e+00j,\n",
       "       -9.51490243e-01+0.0000000e+00j, -9.51805009e-01+0.0000000e+00j,\n",
       "       -9.52890844e-01+0.0000000e+00j, -9.53452124e-01+0.0000000e+00j,\n",
       "       -9.54331244e-01+0.0000000e+00j, -9.54463238e-01+0.0000000e+00j,\n",
       "       -9.55798913e-01+0.0000000e+00j, -9.55824043e-01+0.0000000e+00j,\n",
       "       -9.56150941e-01+0.0000000e+00j, -9.56518687e-01+0.0000000e+00j,\n",
       "       -9.64257850e-01+0.0000000e+00j, -9.63946267e-01+0.0000000e+00j,\n",
       "       -9.57819557e-01+0.0000000e+00j, -9.58558193e-01+0.0000000e+00j,\n",
       "       -9.58468343e-01+0.0000000e+00j, -9.59259797e-01+0.0000000e+00j,\n",
       "       -9.62682304e-01+0.0000000e+00j, -9.62389748e-01+0.0000000e+00j,\n",
       "       -9.61810538e-01+0.0000000e+00j, -9.60913391e-01+0.0000000e+00j,\n",
       "       -9.60301792e-01+0.0000000e+00j, -9.60355011e-01+0.0000000e+00j,\n",
       "       -9.65055636e-01+0.0000000e+00j, -9.65806952e-01+0.0000000e+00j,\n",
       "       -9.66014765e-01+0.0000000e+00j, -9.66528542e-01+0.0000000e+00j,\n",
       "       -9.66957326e-01+0.0000000e+00j, -9.67718525e-01+0.0000000e+00j,\n",
       "       -9.68109861e-01+0.0000000e+00j, -9.68958567e-01+0.0000000e+00j,\n",
       "       -9.69224400e-01+0.0000000e+00j, -9.69275668e-01+0.0000000e+00j,\n",
       "       -9.72188004e-01+0.0000000e+00j, -9.71870307e-01+0.0000000e+00j,\n",
       "       -9.71186929e-01+0.0000000e+00j, -9.71263532e-01+0.0000000e+00j,\n",
       "       -9.70760214e-01+0.0000000e+00j, -9.70242040e-01+0.0000000e+00j,\n",
       "       -9.70336039e-01+0.0000000e+00j, -9.73012695e-01+0.0000000e+00j,\n",
       "       -9.73295525e-01+0.0000000e+00j, -9.73581468e-01+0.0000000e+00j,\n",
       "       -9.73969602e-01+0.0000000e+00j, -9.74355144e-01+0.0000000e+00j,\n",
       "       -9.78129540e-01+0.0000000e+00j, -9.77941642e-01+0.0000000e+00j,\n",
       "       -9.77574503e-01+0.0000000e+00j, -9.77190690e-01+0.0000000e+00j,\n",
       "       -9.76827543e-01+0.0000000e+00j, -9.74788292e-01+0.0000000e+00j,\n",
       "       -9.76238566e-01+0.0000000e+00j, -9.75372482e-01+0.0000000e+00j,\n",
       "       -9.75671748e-01+0.0000000e+00j, -9.75746739e-01+0.0000000e+00j,\n",
       "       -9.76444480e-01+0.0000000e+00j, -9.78664892e-01+0.0000000e+00j,\n",
       "       -9.77917733e-01+0.0000000e+00j, -9.79473730e-01+0.0000000e+00j,\n",
       "       -9.80125802e-01+0.0000000e+00j, -9.80270501e-01+0.0000000e+00j,\n",
       "       -9.80533373e-01+0.0000000e+00j, -9.80714701e-01+0.0000000e+00j,\n",
       "       -9.81018538e-01+0.0000000e+00j, -9.81389181e-01+0.0000000e+00j,\n",
       "       -9.81869417e-01+0.0000000e+00j, -9.81728671e-01+0.0000000e+00j,\n",
       "       -9.84510660e-01+0.0000000e+00j, -9.82454785e-01+0.0000000e+00j,\n",
       "       -9.84036747e-01+0.0000000e+00j, -9.82988585e-01+0.0000000e+00j,\n",
       "       -9.82954340e-01+0.0000000e+00j, -9.83804690e-01+0.0000000e+00j,\n",
       "       -9.83668563e-01+0.0000000e+00j, -9.84709735e-01+0.0000000e+00j,\n",
       "       -9.85093946e-01+0.0000000e+00j, -9.84929368e-01+0.0000000e+00j,\n",
       "       -9.85568298e-01+0.0000000e+00j, -9.86176641e-01+0.0000000e+00j,\n",
       "       -9.85881600e-01+0.0000000e+00j, -9.85800954e-01+0.0000000e+00j,\n",
       "       -9.86537164e-01+0.0000000e+00j, -9.87091009e-01+0.0000000e+00j,\n",
       "       -9.87364655e-01+0.0000000e+00j, -9.87608961e-01+0.0000000e+00j,\n",
       "       -9.90032412e-01+0.0000000e+00j, -9.87915438e-01+0.0000000e+00j,\n",
       "       -9.89594514e-01+0.0000000e+00j, -9.88263420e-01+0.0000000e+00j,\n",
       "       -9.89179092e-01+0.0000000e+00j, -9.89002746e-01+0.0000000e+00j,\n",
       "       -9.88731445e-01+0.0000000e+00j, -9.88604503e-01+0.0000000e+00j,\n",
       "       -9.93623325e-01+0.0000000e+00j, -9.89385102e-01+0.0000000e+00j,\n",
       "       -9.93329129e-01+0.0000000e+00j, -9.90484611e-01+0.0000000e+00j,\n",
       "       -9.93062010e-01+0.0000000e+00j, -9.92785604e-01+0.0000000e+00j,\n",
       "       -9.92616248e-01+0.0000000e+00j, -9.92566584e-01+0.0000000e+00j,\n",
       "       -9.90844230e-01+0.0000000e+00j, -9.92388582e-01+0.0000000e+00j,\n",
       "       -9.92127548e-01+0.0000000e+00j, -9.91937105e-01+0.0000000e+00j,\n",
       "       -9.91837636e-01+0.0000000e+00j, -9.91049076e-01+0.0000000e+00j,\n",
       "       -9.91132765e-01+0.0000000e+00j, -9.91351339e-01+0.0000000e+00j,\n",
       "       -9.91293695e-01+0.0000000e+00j, -9.94201458e-01+0.0000000e+00j,\n",
       "       -9.94059578e-01+0.0000000e+00j, -9.94045389e-01+0.0000000e+00j,\n",
       "       -9.95858506e-01+0.0000000e+00j, -9.95752632e-01+0.0000000e+00j,\n",
       "       -9.95531826e-01+0.0000000e+00j, -9.95446957e-01+0.0000000e+00j,\n",
       "       -9.94460915e-01+0.0000000e+00j, -9.95101732e-01+0.0000000e+00j,\n",
       "       -9.94983337e-01+0.0000000e+00j, -9.94634466e-01+0.0000000e+00j,\n",
       "       -9.94715002e-01+0.0000000e+00j, -9.94871142e-01+0.0000000e+00j,\n",
       "       -9.94807808e-01+0.0000000e+00j, -9.95802083e-01+0.0000000e+00j,\n",
       "       -9.96113880e-01+0.0000000e+00j, -9.96249833e-01+0.0000000e+00j,\n",
       "       -9.96556472e-01+0.0000000e+00j, -9.96576775e-01+0.0000000e+00j,\n",
       "       -9.96749436e-01+0.0000000e+00j, -9.96827791e-01+0.0000000e+00j,\n",
       "       -9.96912649e-01+0.0000000e+00j, -9.96939333e-01+0.0000000e+00j,\n",
       "       -9.96965450e-01+0.0000000e+00j, -9.97118993e-01+0.0000000e+00j,\n",
       "       -9.97062546e-01+0.0000000e+00j, -9.98171417e-01+0.0000000e+00j,\n",
       "       -9.98050734e-01+0.0000000e+00j, -9.97847138e-01+0.0000000e+00j,\n",
       "       -9.97690169e-01+0.0000000e+00j, -9.97599267e-01+0.0000000e+00j,\n",
       "       -9.97417170e-01+0.0000000e+00j, -9.97349417e-01+0.0000000e+00j,\n",
       "       -9.97367119e-01+0.0000000e+00j, -9.98025946e-01+0.0000000e+00j,\n",
       "       -9.98112637e-01+0.0000000e+00j, -9.98245664e-01+0.0000000e+00j,\n",
       "       -9.98310007e-01+0.0000000e+00j, -9.98327430e-01+0.0000000e+00j,\n",
       "       -9.98376395e-01+0.0000000e+00j, -9.98447112e-01+0.0000000e+00j,\n",
       "       -9.98612163e-01+0.0000000e+00j, -9.98467547e-01+0.0000000e+00j,\n",
       "       -9.98523952e-01+0.0000000e+00j, -9.98529044e-01+0.0000000e+00j,\n",
       "       -9.98720178e-01+0.0000000e+00j, -9.98816223e-01+0.0000000e+00j,\n",
       "       -9.98784337e-01+0.0000000e+00j, -9.98885656e-01+0.0000000e+00j,\n",
       "       -9.98902281e-01+0.0000000e+00j, -9.98949915e-01+0.0000000e+00j,\n",
       "       -9.98995591e-01+0.0000000e+00j, -9.99020983e-01+0.0000000e+00j,\n",
       "       -9.99165641e-01+0.0000000e+00j, -9.99106436e-01+0.0000000e+00j,\n",
       "       -9.99105167e-01+0.0000000e+00j, -9.99458914e-01+0.0000000e+00j,\n",
       "       -9.99308165e-01+0.0000000e+00j, -9.99398874e-01+0.0000000e+00j,\n",
       "       -9.99393111e-01+0.0000000e+00j, -9.99333588e-01+0.0000000e+00j,\n",
       "       -9.99345836e-01+0.0000000e+00j, -9.99371471e-01+0.0000000e+00j,\n",
       "       -9.99358534e-01+0.0000000e+00j, -9.99554380e-01+0.0000000e+00j,\n",
       "       -9.99534039e-01+0.0000000e+00j, -9.99524564e-01+0.0000000e+00j,\n",
       "       -9.99528932e-01+0.0000000e+00j, -9.99588925e-01+0.0000000e+00j,\n",
       "       -9.99612007e-01+0.0000000e+00j, -9.99629934e-01+0.0000000e+00j,\n",
       "       -9.99657098e-01+0.0000000e+00j, -9.99718412e-01+0.0000000e+00j,\n",
       "       -9.99676490e-01+0.0000000e+00j, -9.99685218e-01+0.0000000e+00j,\n",
       "       -9.99704215e-01+0.0000000e+00j, -9.99775598e-01+0.0000000e+00j,\n",
       "       -9.99779652e-01+0.0000000e+00j, -9.99792337e-01+0.0000000e+00j,\n",
       "       -9.99798767e-01+0.0000000e+00j, -9.99807327e-01+0.0000000e+00j,\n",
       "       -9.99811929e-01+0.0000000e+00j, -9.99823844e-01+0.0000000e+00j,\n",
       "       -9.99842633e-01+0.0000000e+00j, -9.99846781e-01+0.0000000e+00j,\n",
       "       -9.99865381e-01+0.0000000e+00j, -9.99876904e-01+0.0000000e+00j,\n",
       "       -9.99881957e-01+0.0000000e+00j, -9.99885990e-01+0.0000000e+00j,\n",
       "       -9.99888813e-01+0.0000000e+00j, -9.99899870e-01+0.0000000e+00j,\n",
       "       -9.99905514e-01+0.0000000e+00j, -9.99915010e-01+0.0000000e+00j,\n",
       "       -9.99919841e-01+0.0000000e+00j, -9.99934077e-01+0.0000000e+00j,\n",
       "       -9.99936207e-01+0.0000000e+00j, -9.99939605e-01+0.0000000e+00j,\n",
       "       -9.99941247e-01+0.0000000e+00j, -9.99950399e-01+0.0000000e+00j,\n",
       "       -9.99950890e-01+0.0000000e+00j, -9.99955420e-01+0.0000000e+00j,\n",
       "       -9.99957288e-01+0.0000000e+00j, -9.99958771e-01+0.0000000e+00j,\n",
       "       -9.99962649e-01+0.0000000e+00j, -9.99968354e-01+0.0000000e+00j,\n",
       "       -9.99971610e-01+0.0000000e+00j, -9.99973406e-01+0.0000000e+00j,\n",
       "       -9.99977414e-01+0.0000000e+00j, -9.99980198e-01+0.0000000e+00j,\n",
       "       -9.99984157e-01+0.0000000e+00j, -9.99986024e-01+0.0000000e+00j,\n",
       "       -9.99990124e-01+0.0000000e+00j, -9.99990345e-01+0.0000000e+00j,\n",
       "       -9.99991412e-01+0.0000000e+00j, -9.99991773e-01+0.0000000e+00j,\n",
       "       -9.99993526e-01+0.0000000e+00j, -9.99993799e-01+0.0000000e+00j,\n",
       "       -9.99994046e-01+0.0000000e+00j, -9.99995840e-01+0.0000000e+00j,\n",
       "       -9.99996348e-01+0.0000000e+00j, -9.99997704e-01+0.0000000e+00j,\n",
       "       -9.99997931e-01+0.0000000e+00j, -9.99998099e-01+0.0000000e+00j,\n",
       "       -9.99998321e-01+0.0000000e+00j, -9.99998419e-01+0.0000000e+00j,\n",
       "       -9.99998670e-01+0.0000000e+00j, -9.99998908e-01+0.0000000e+00j,\n",
       "       -9.99999143e-01+0.0000000e+00j, -9.99999200e-01+0.0000000e+00j,\n",
       "       -9.99999551e-01+0.0000000e+00j, -9.99999791e-01+0.0000000e+00j,\n",
       "       -1.00000004e+00+0.0000000e+00j, -9.99999913e-01+0.0000000e+00j,\n",
       "       -9.99999932e-01+0.0000000e+00j, -9.99999950e-01+0.0000000e+00j,\n",
       "       -1.00000001e+00+0.0000000e+00j, -9.99999998e-01+0.0000000e+00j,\n",
       "       -1.00000000e+00+2.5373591e-14j, -1.00000000e+00-2.5373591e-14j,\n",
       "       -1.00000000e+00+0.0000000e+00j, -1.00000000e+00+0.0000000e+00j,\n",
       "       -1.00000000e+00+0.0000000e+00j, -1.00000000e+00+0.0000000e+00j,\n",
       "       -1.00000000e+00+0.0000000e+00j, -1.00000000e+00+0.0000000e+00j,\n",
       "       -1.00000000e+00+0.0000000e+00j, -1.00000000e+00+0.0000000e+00j,\n",
       "       -1.00000000e+00+0.0000000e+00j, -1.00000000e+00+0.0000000e+00j,\n",
       "       -1.00000000e+00+0.0000000e+00j, -1.00000000e+00+0.0000000e+00j,\n",
       "       -1.00000000e+00+0.0000000e+00j, -1.00000000e+00+0.0000000e+00j,\n",
       "       -1.00000000e+00+0.0000000e+00j, -1.00000000e+00+0.0000000e+00j,\n",
       "       -1.00000000e+00+0.0000000e+00j, -1.00000000e+00+0.0000000e+00j,\n",
       "       -1.00000000e+00+0.0000000e+00j, -1.00000000e+00+0.0000000e+00j,\n",
       "       -1.00000000e+00+0.0000000e+00j, -1.00000000e+00+0.0000000e+00j,\n",
       "       -1.00000000e+00+0.0000000e+00j, -1.00000000e+00+0.0000000e+00j,\n",
       "       -1.00000000e+00+0.0000000e+00j, -1.00000000e+00+0.0000000e+00j,\n",
       "       -1.00000000e+00+0.0000000e+00j, -1.00000000e+00+0.0000000e+00j,\n",
       "       -1.00000000e+00+0.0000000e+00j, -1.00000000e+00+0.0000000e+00j,\n",
       "       -1.00000000e+00+0.0000000e+00j, -1.00000000e+00+0.0000000e+00j,\n",
       "       -1.00000000e+00+0.0000000e+00j, -1.00000000e+00+0.0000000e+00j,\n",
       "       -1.00000000e+00+0.0000000e+00j, -1.00000000e+00+0.0000000e+00j])"
      ]
     },
     "execution_count": 15,
     "metadata": {},
     "output_type": "execute_result"
    }
   ],
   "source": [
    "etmp"
   ]
  },
  {
   "cell_type": "code",
   "execution_count": 14,
   "metadata": {},
   "outputs": [
    {
     "name": "stderr",
     "output_type": "stream",
     "text": [
      "/opt/mambaforge/envs/landing/lib/python3.8/site-packages/numpy/lib/histograms.py:839: ComplexWarning: Casting complex values to real discards the imaginary part\n",
      "  indices = f_indices.astype(np.intp)\n",
      "/opt/mambaforge/envs/landing/lib/python3.8/site-packages/matplotlib/axes/_axes.py:6740: ComplexWarning: Casting complex values to real discards the imaginary part\n",
      "  bins = np.array(bins, float)  # causes problems if float16\n"
     ]
    },
    {
     "data": {
      "text/plain": [
       "(array([391.,   0.,   0.,   0.,   0.,   0.,   0.,   0.,   0.,   1.]),\n",
       " array([ -1.00000004,  25.7689097 ,  52.53781943,  79.30672917,\n",
       "        106.0756389 , 132.84454864, 159.61345838, 186.38236811,\n",
       "        213.15127785, 239.92018759, 266.68909732]),\n",
       " <BarContainer object of 10 artists>)"
      ]
     },
     "execution_count": 14,
     "metadata": {},
     "output_type": "execute_result"
    },
    {
     "data": {
      "image/png": "[encoded data removed]",
      "text/plain": [
       "<Figure size 432x288 with 1 Axes>"
      ]
     },
     "metadata": {
      "needs_background": "light"
     },
     "output_type": "display_data"
    }
   ],
   "source": [
    "plt.hist(etmp)"
   ]
  },
  {
   "cell_type": "code",
   "execution_count": 6,
   "metadata": {},
   "outputs": [],
   "source": [
    "AtAinv = np.linalg.inv(AtA+0.000005*np.eye(392,392))\n",
    "BtBinv = np.linalg.inv(BtB+0.000005*np.eye(392,392))"
   ]
  },
  {
   "cell_type": "code",
   "execution_count": 7,
   "metadata": {},
   "outputs": [],
   "source": [
    "# True solution:\n",
    "d, u  = np.linalg.eig(AtAinv@AtB@BtBinv@AtB.T)\n",
    "u1 = u[:,:10]\n",
    "d, u  = np.linalg.eig(BtBinv@AtB.T@AtAinv@AtB)\n",
    "u2 = u[:,:10]"
   ]
  },
  {
   "cell_type": "code",
   "execution_count": 8,
   "metadata": {},
   "outputs": [
    {
     "data": {
      "text/plain": [
       "(392, 392)"
      ]
     },
     "execution_count": 8,
     "metadata": {},
     "output_type": "execute_result"
    }
   ],
   "source": [
    "u.shape"
   ]
  },
  {
   "cell_type": "code",
   "execution_count": 9,
   "metadata": {},
   "outputs": [
    {
     "data": {
      "text/plain": [
       "<matplotlib.colorbar.Colorbar at 0x7f4e43121400>"
      ]
     },
     "execution_count": 9,
     "metadata": {},
     "output_type": "execute_result"
    },
    {
     "data": {
      "image/png": "[encoded data removed]",
      "text/plain": [
       "<Figure size 432x288 with 2 Axes>"
      ]
     },
     "metadata": {
      "needs_background": "light"
     },
     "output_type": "display_data"
    }
   ],
   "source": [
    "plt.imshow(np.abs(u1.T @ AtB @ u2))\n",
    "plt.colorbar()"
   ]
  },
  {
   "cell_type": "code",
   "execution_count": 10,
   "metadata": {},
   "outputs": [],
   "source": [
    "plt.rcParams.update({'text.usetex' : True})"
   ]
  },
  {
   "cell_type": "code",
   "execution_count": 15,
   "metadata": {},
   "outputs": [
    {
     "data": {
      "image/png": "[encoded data removed]",
      "text/plain": [
       "<Figure size 288x216 with 1 Axes>"
      ]
     },
     "metadata": {
      "needs_background": "light"
     },
     "output_type": "display_data"
    },
    {
     "data": {
      "image/png": "[encoded data removed]",
      "text/plain": [
       "<Figure size 288x216 with 1 Axes>"
      ]
     },
     "metadata": {
      "needs_background": "light"
     },
     "output_type": "display_data"
    }
   ],
   "source": [
    "plt.figure(figsize=(4, 3))\n",
    "plt.semilogy(out['distanceX'], label = 'Distance X')\n",
    "plt.semilogy(out['distanceY'], label = 'Distance Y')\n",
    "plt.xlim([0, 100])\n",
    "plt.ylim([1e-1, 1e1])\n",
    "x_ = plt.xlabel('Iterations')\n",
    "y_ = plt.ylabel('Distance to the constraint $\\mathcal{N}(X)$')\n",
    "plt.grid()\n",
    "plt.legend(ncol=2, loc='upper right', columnspacing=.5, handlelength=2)\n",
    "plt.show()\n",
    "#plt.savefig('cca_distance.pdf', bbox_inches='tight', bbox_extra_artists=(x_, y_))\n",
    "\n",
    "plt.figure(figsize=(4, 3))\n",
    "plt.plot(np.array(out['objective']), label='Objective')\n",
    "plt.xlim([0, 100])\n",
    "x_ = plt.xlabel('Iterations')\n",
    "y_ = plt.ylabel('Objective')\n",
    "plt.legend(ncol=2, loc='upper right', columnspacing=.5, handlelength=2)\n",
    "\n",
    "plt.grid()\n",
    "plt.show()\n",
    "#plt.savefig('cca_objective.pdf', bbox_inches='tight', bbox_extra_artists=(x_, y_))\n",
    "\n"
   ]
  },
  {
   "cell_type": "code",
   "execution_count": 20,
   "metadata": {},
   "outputs": [
    {
     "data": {
      "text/plain": [
       "[<matplotlib.lines.Line2D at 0x7fc3cc1f2fa0>]"
      ]
     },
     "execution_count": 20,
     "metadata": {},
     "output_type": "execute_result"
    },
    {
     "data": {
      "image/png": "[encoded data removed]",
      "text/plain": [
       "<Figure size 432x288 with 1 Axes>"
      ]
     },
     "metadata": {
      "needs_background": "light"
     },
     "output_type": "display_data"
    }
   ],
   "source": [
    "plt.semilogy(np.array(out['objective'])+7.5)"
   ]
  },
  {
   "cell_type": "code",
   "execution_count": 27,
   "metadata": {},
   "outputs": [],
   "source": [
    "AtA = AtA_full.cpu().numpy()\n",
    "BtB = BtB_full.cpu().numpy()\n",
    "AtB = AtB_full.cpu().numpy()\n",
    "\n",
    "X_cpu = X.detach().cpu().numpy()\n",
    "Y_cpu = Y.detach().cpu().numpy()"
   ]
  },
  {
   "cell_type": "code",
   "execution_count": 12,
   "metadata": {},
   "outputs": [
    {
     "data": {
      "image/png": "[encoded data removed]",
      "text/plain": [
       "<Figure size 432x288 with 2 Axes>"
      ]
     },
     "metadata": {
      "needs_background": "light"
     },
     "output_type": "display_data"
    },
    {
     "data": {
      "image/png": "[encoded data removed]",
      "text/plain": [
       "<Figure size 432x288 with 2 Axes>"
      ]
     },
     "metadata": {
      "needs_background": "light"
     },
     "output_type": "display_data"
    },
    {
     "data": {
      "image/png": "[encoded data removed]",
      "text/plain": [
       "<Figure size 432x288 with 2 Axes>"
      ]
     },
     "metadata": {
      "needs_background": "light"
     },
     "output_type": "display_data"
    }
   ],
   "source": [
    "plt.imshow(np.abs(X_cpu.T @ AtB @ Y_cpu), clim=[0,1])\n",
    "plt.colorbar()\n",
    "plt.show()\n",
    "plt.imshow(np.abs(X_cpu.T @ AtA @ X_cpu), clim=[0,1])\n",
    "plt.colorbar()\n",
    "plt.show()\n",
    "plt.imshow(np.abs(Y_cpu.T @ BtB @ Y_cpu), clim=[0,1])\n",
    "plt.colorbar()\n",
    "plt.show()"
   ]
  },
  {
   "cell_type": "code",
   "execution_count": 25,
   "metadata": {},
   "outputs": [
    {
     "data": {
      "text/plain": [
       "12.141672"
      ]
     },
     "execution_count": 25,
     "metadata": {},
     "output_type": "execute_result"
    }
   ],
   "source": [
    "np.linalg.norm(np.diag(AtB))"
   ]
  },
  {
   "cell_type": "code",
   "execution_count": 27,
   "metadata": {},
   "outputs": [
    {
     "data": {
      "text/plain": [
       "(392, 392)"
      ]
     },
     "execution_count": 27,
     "metadata": {},
     "output_type": "execute_result"
    }
   ],
   "source": [
    "AtB.shape"
   ]
  },
  {
   "cell_type": "code",
   "execution_count": 13,
   "metadata": {},
   "outputs": [
    {
     "data": {
      "image/png": "[encoded data removed]",
      "text/plain": [
       "<Figure size 432x288 with 2 Axes>"
      ]
     },
     "metadata": {
      "needs_background": "light"
     },
     "output_type": "display_data"
    },
    {
     "data": {
      "image/png": "[encoded data removed]",
      "text/plain": [
       "<Figure size 432x288 with 2 Axes>"
      ]
     },
     "metadata": {
      "needs_background": "light"
     },
     "output_type": "display_data"
    },
    {
     "data": {
      "image/png": "[encoded data removed]",
      "text/plain": [
       "<Figure size 432x288 with 2 Axes>"
      ]
     },
     "metadata": {
      "needs_background": "light"
     },
     "output_type": "display_data"
    },
    {
     "data": {
      "image/png": "[encoded data removed]",
      "text/plain": [
       "<Figure size 432x288 with 2 Axes>"
      ]
     },
     "metadata": {
      "needs_background": "light"
     },
     "output_type": "display_data"
    },
    {
     "data": {
      "image/png": "[encoded data removed]",
      "text/plain": [
       "<Figure size 432x288 with 2 Axes>"
      ]
     },
     "metadata": {
      "needs_background": "light"
     },
     "output_type": "display_data"
    },
    {
     "data": {
      "image/png": "[encoded data removed]",
      "text/plain": [
       "<Figure size 432x288 with 2 Axes>"
      ]
     },
     "metadata": {
      "needs_background": "light"
     },
     "output_type": "display_data"
    },
    {
     "data": {
      "image/png": "[encoded data removed]",
      "text/plain": [
       "<Figure size 432x288 with 2 Axes>"
      ]
     },
     "metadata": {
      "needs_background": "light"
     },
     "output_type": "display_data"
    },
    {
     "data": {
      "image/png": "[encoded data removed]",
      "text/plain": [
       "<Figure size 432x288 with 2 Axes>"
      ]
     },
     "metadata": {
      "needs_background": "light"
     },
     "output_type": "display_data"
    },
    {
     "data": {
      "image/png": "[encoded data removed]",
      "text/plain": [
       "<Figure size 432x288 with 2 Axes>"
      ]
     },
     "metadata": {
      "needs_background": "light"
     },
     "output_type": "display_data"
    },
    {
     "data": {
      "image/png": "[encoded data removed]",
      "text/plain": [
       "<Figure size 432x288 with 2 Axes>"
      ]
     },
     "metadata": {
      "needs_background": "light"
     },
     "output_type": "display_data"
    }
   ],
   "source": [
    "for i in range(10):\n",
    "    x_tmp = (X_cpu[:,i]).reshape(28,-1)\n",
    "    y_tmp = (Y_cpu[:,i]).reshape(28,-1)\n",
    "    plt.imshow(np.concatenate([x_tmp,y_tmp],axis=1))\n",
    "    plt.colorbar()\n",
    "    plt.show()"
   ]
  },
  {
   "cell_type": "code",
   "execution_count": 20,
   "metadata": {},
   "outputs": [
    {
     "data": {
      "text/plain": [
       "<matplotlib.image.AxesImage at 0x7fcdf4892ee0>"
      ]
     },
     "execution_count": 20,
     "metadata": {},
     "output_type": "execute_result"
    },
    {
     "data": {
      "image/png": "[encoded data removed]",
      "text/plain": [
       "<Figure size 432x288 with 1 Axes>"
      ]
     },
     "metadata": {
      "needs_background": "light"
     },
     "output_type": "display_data"
    }
   ],
   "source": [
    "plt.imshow((Y_cpu[:,1]).reshape(28,-1))"
   ]
  },
  {
   "cell_type": "code",
   "execution_count": 8,
   "metadata": {},
   "outputs": [
    {
     "data": {
      "text/plain": [
       "(392, 10)"
      ]
     },
     "execution_count": 8,
     "metadata": {},
     "output_type": "execute_result"
    }
   ],
   "source": [
    "(AtA@X_cpu).shape"
   ]
  },
  {
   "cell_type": "code",
   "execution_count": 9,
   "metadata": {},
   "outputs": [
    {
     "data": {
      "text/plain": [
       "array([[  920.11036875, -2085.72863305,    73.47406366, ...,\n",
       "          -51.14708096,  -130.66572299,   723.7861788 ],\n",
       "       [  920.11036875, -2085.72863305,    73.47406366, ...,\n",
       "          -51.14708096,  -130.66572299,   723.7861788 ],\n",
       "       [  920.11036875, -2085.72863305,    73.47406366, ...,\n",
       "          -51.14708096,  -130.66572299,   723.7861788 ],\n",
       "       ...,\n",
       "       [  924.12707451, -2077.03577179,    83.54595979, ...,\n",
       "          -53.66739613,  -124.3442831 ,   724.10880686],\n",
       "       [  925.05992824, -2072.99607729,    85.97999375, ...,\n",
       "          -55.178644  ,  -122.47910508,   723.33150251],\n",
       "       [  925.23880473, -2069.96477653,    87.36572159, ...,\n",
       "          -56.11967307,  -121.45809028,   722.52802804]])"
      ]
     },
     "execution_count": 9,
     "metadata": {},
     "output_type": "execute_result"
    }
   ],
   "source": [
    "((AtA@X_cpu) @ (X_cpu.T @ AtA @ X_cpu - np.eye(10,10)))"
   ]
  },
  {
   "cell_type": "code",
   "execution_count": null,
   "metadata": {},
   "outputs": [],
   "source": [
    "plt.imshow((Q2.T @ features2.T@ features2 @ Q2).cpu().detach().numpy())\n",
    "plt.colorbar()\n",
    "plt.show()\n",
    "\n",
    "plt.imshow((Q1.T @ features1.T@ features1 @ Q1).cpu().detach().numpy())\n",
    "plt.colorbar()\n",
    "plt.show()\n",
    "\n",
    "plt.imshow(np.abs((Q1.T @ features1.T@ features2 @ Q2).cpu().detach().numpy()))\n",
    "plt.colorbar()\n",
    "plt.show()\n",
    "\n",
    "print(torch.diag((features1 @ Q1).T @ (features2 @ Q2)))"
   ]
  },
  {
   "cell_type": "code",
   "execution_count": 3,
   "metadata": {},
   "outputs": [],
   "source": [
    "n_epochs = 15\n",
    "device = 'cuda'\n",
    "\n",
    "model1 = VGG16()\n",
    "model1.to(device)\n",
    "\n",
    "optimizer1 = optim.SGD(model1.parameters(), lr=1e-1, weight_decay=5e-4)\n",
    "\n",
    "model2 = VGG16()\n",
    "model2.to(device)\n",
    "\n",
    "optimizer2 = optim.SGD(model2.parameters(), lr=1e-1, weight_decay=5e-4)\n"
   ]
  },
  {
   "cell_type": "code",
   "execution_count": 4,
   "metadata": {},
   "outputs": [
    {
     "name": "stdout",
     "output_type": "stream",
     "text": [
      "1773.303123474121\n",
      "15.86\n",
      "1374.267978668213\n",
      "33.33\n",
      "1244.390037536621\n",
      "41.07\n"
     ]
    },
    {
     "ename": "KeyboardInterrupt",
     "evalue": "",
     "output_type": "error",
     "traceback": [
      "\u001b[0;31m---------------------------------------------------------------------------\u001b[0m",
      "\u001b[0;31mKeyboardInterrupt\u001b[0m                         Traceback (most recent call last)",
      "\u001b[0;32m/tmp/ipykernel_370591/3162060030.py\u001b[0m in \u001b[0;36m<module>\u001b[0;34m\u001b[0m\n\u001b[1;32m     27\u001b[0m         \u001b[0mprint\u001b[0m\u001b[0;34m(\u001b[0m\u001b[0;36m100\u001b[0m \u001b[0;34m*\u001b[0m \u001b[0mcorrect\u001b[0m \u001b[0;34m/\u001b[0m \u001b[0mlen\u001b[0m\u001b[0;34m(\u001b[0m\u001b[0mtestset\u001b[0m\u001b[0;34m)\u001b[0m\u001b[0;34m)\u001b[0m\u001b[0;34m\u001b[0m\u001b[0;34m\u001b[0m\u001b[0m\n\u001b[1;32m     28\u001b[0m \u001b[0;34m\u001b[0m\u001b[0m\n\u001b[0;32m---> 29\u001b[0;31m \u001b[0mtrain\u001b[0m\u001b[0;34m(\u001b[0m\u001b[0mmodel1\u001b[0m\u001b[0;34m,\u001b[0m \u001b[0moptimizer1\u001b[0m\u001b[0;34m,\u001b[0m \u001b[0;36m50\u001b[0m\u001b[0;34m)\u001b[0m\u001b[0;34m\u001b[0m\u001b[0;34m\u001b[0m\u001b[0m\n\u001b[0m\u001b[1;32m     30\u001b[0m \u001b[0;31m#train(model2, optimizer2, 8)\u001b[0m\u001b[0;34m\u001b[0m\u001b[0;34m\u001b[0m\u001b[0;34m\u001b[0m\u001b[0m\n",
      "\u001b[0;32m/tmp/ipykernel_370591/3162060030.py\u001b[0m in \u001b[0;36mtrain\u001b[0;34m(model, optimizer, n_epochs)\u001b[0m\n\u001b[1;32m      4\u001b[0m         \u001b[0mmodel\u001b[0m\u001b[0;34m.\u001b[0m\u001b[0mtrain\u001b[0m\u001b[0;34m(\u001b[0m\u001b[0;34m)\u001b[0m\u001b[0;34m\u001b[0m\u001b[0;34m\u001b[0m\u001b[0m\n\u001b[1;32m      5\u001b[0m         \u001b[0mtrain_loss\u001b[0m \u001b[0;34m=\u001b[0m \u001b[0;36m0.0\u001b[0m\u001b[0;34m\u001b[0m\u001b[0;34m\u001b[0m\u001b[0m\n\u001b[0;32m----> 6\u001b[0;31m         \u001b[0;32mfor\u001b[0m \u001b[0mbatch_idx\u001b[0m\u001b[0;34m,\u001b[0m \u001b[0;34m(\u001b[0m\u001b[0mbatch_x\u001b[0m\u001b[0;34m,\u001b[0m \u001b[0mbatch_y\u001b[0m\u001b[0;34m)\u001b[0m \u001b[0;32min\u001b[0m \u001b[0menumerate\u001b[0m\u001b[0;34m(\u001b[0m\u001b[0mtrainloader\u001b[0m\u001b[0;34m)\u001b[0m\u001b[0;34m:\u001b[0m\u001b[0;34m\u001b[0m\u001b[0;34m\u001b[0m\u001b[0m\n\u001b[0m\u001b[1;32m      7\u001b[0m             \u001b[0mbatch_x\u001b[0m\u001b[0;34m,\u001b[0m \u001b[0mbatch_y\u001b[0m \u001b[0;34m=\u001b[0m \u001b[0mbatch_x\u001b[0m\u001b[0;34m.\u001b[0m\u001b[0mto\u001b[0m\u001b[0;34m(\u001b[0m\u001b[0mdevice\u001b[0m\u001b[0;34m)\u001b[0m\u001b[0;34m,\u001b[0m \u001b[0mbatch_y\u001b[0m\u001b[0;34m.\u001b[0m\u001b[0mto\u001b[0m\u001b[0;34m(\u001b[0m\u001b[0mdevice\u001b[0m\u001b[0;34m)\u001b[0m\u001b[0;34m\u001b[0m\u001b[0;34m\u001b[0m\u001b[0m\n\u001b[1;32m      8\u001b[0m             \u001b[0mlogits\u001b[0m \u001b[0;34m=\u001b[0m \u001b[0mmodel\u001b[0m\u001b[0;34m(\u001b[0m\u001b[0mbatch_x\u001b[0m\u001b[0;34m)\u001b[0m\u001b[0;34m\u001b[0m\u001b[0;34m\u001b[0m\u001b[0m\n",
      "\u001b[0;32m/opt/mambaforge/envs/landing/lib/python3.8/site-packages/torch/utils/data/dataloader.py\u001b[0m in \u001b[0;36m__next__\u001b[0;34m(self)\u001b[0m\n\u001b[1;32m    679\u001b[0m                 \u001b[0;31m# TODO(https://github.com/pytorch/pytorch/issues/76750)\u001b[0m\u001b[0;34m\u001b[0m\u001b[0;34m\u001b[0m\u001b[0;34m\u001b[0m\u001b[0m\n\u001b[1;32m    680\u001b[0m                 \u001b[0mself\u001b[0m\u001b[0;34m.\u001b[0m\u001b[0m_reset\u001b[0m\u001b[0;34m(\u001b[0m\u001b[0;34m)\u001b[0m  \u001b[0;31m# type: ignore[call-arg]\u001b[0m\u001b[0;34m\u001b[0m\u001b[0;34m\u001b[0m\u001b[0m\n\u001b[0;32m--> 681\u001b[0;31m             \u001b[0mdata\u001b[0m \u001b[0;34m=\u001b[0m \u001b[0mself\u001b[0m\u001b[0;34m.\u001b[0m\u001b[0m_next_data\u001b[0m\u001b[0;34m(\u001b[0m\u001b[0;34m)\u001b[0m\u001b[0;34m\u001b[0m\u001b[0;34m\u001b[0m\u001b[0m\n\u001b[0m\u001b[1;32m    682\u001b[0m             \u001b[0mself\u001b[0m\u001b[0;34m.\u001b[0m\u001b[0m_num_yielded\u001b[0m \u001b[0;34m+=\u001b[0m \u001b[0;36m1\u001b[0m\u001b[0;34m\u001b[0m\u001b[0;34m\u001b[0m\u001b[0m\n\u001b[1;32m    683\u001b[0m             \u001b[0;32mif\u001b[0m \u001b[0mself\u001b[0m\u001b[0;34m.\u001b[0m\u001b[0m_dataset_kind\u001b[0m \u001b[0;34m==\u001b[0m \u001b[0m_DatasetKind\u001b[0m\u001b[0;34m.\u001b[0m\u001b[0mIterable\u001b[0m \u001b[0;32mand\u001b[0m\u001b[0;31m \u001b[0m\u001b[0;31m\\\u001b[0m\u001b[0;34m\u001b[0m\u001b[0;34m\u001b[0m\u001b[0m\n",
      "\u001b[0;32m/opt/mambaforge/envs/landing/lib/python3.8/site-packages/torch/utils/data/dataloader.py\u001b[0m in \u001b[0;36m_next_data\u001b[0;34m(self)\u001b[0m\n\u001b[1;32m   1357\u001b[0m \u001b[0;34m\u001b[0m\u001b[0m\n\u001b[1;32m   1358\u001b[0m             \u001b[0;32massert\u001b[0m \u001b[0;32mnot\u001b[0m \u001b[0mself\u001b[0m\u001b[0;34m.\u001b[0m\u001b[0m_shutdown\u001b[0m \u001b[0;32mand\u001b[0m \u001b[0mself\u001b[0m\u001b[0;34m.\u001b[0m\u001b[0m_tasks_outstanding\u001b[0m \u001b[0;34m>\u001b[0m \u001b[0;36m0\u001b[0m\u001b[0;34m\u001b[0m\u001b[0;34m\u001b[0m\u001b[0m\n\u001b[0;32m-> 1359\u001b[0;31m             \u001b[0midx\u001b[0m\u001b[0;34m,\u001b[0m \u001b[0mdata\u001b[0m \u001b[0;34m=\u001b[0m \u001b[0mself\u001b[0m\u001b[0;34m.\u001b[0m\u001b[0m_get_data\u001b[0m\u001b[0;34m(\u001b[0m\u001b[0;34m)\u001b[0m\u001b[0;34m\u001b[0m\u001b[0;34m\u001b[0m\u001b[0m\n\u001b[0m\u001b[1;32m   1360\u001b[0m             \u001b[0mself\u001b[0m\u001b[0;34m.\u001b[0m\u001b[0m_tasks_outstanding\u001b[0m \u001b[0;34m-=\u001b[0m \u001b[0;36m1\u001b[0m\u001b[0;34m\u001b[0m\u001b[0;34m\u001b[0m\u001b[0m\n\u001b[1;32m   1361\u001b[0m             \u001b[0;32mif\u001b[0m \u001b[0mself\u001b[0m\u001b[0;34m.\u001b[0m\u001b[0m_dataset_kind\u001b[0m \u001b[0;34m==\u001b[0m \u001b[0m_DatasetKind\u001b[0m\u001b[0;34m.\u001b[0m\u001b[0mIterable\u001b[0m\u001b[0;34m:\u001b[0m\u001b[0;34m\u001b[0m\u001b[0;34m\u001b[0m\u001b[0m\n",
      "\u001b[0;32m/opt/mambaforge/envs/landing/lib/python3.8/site-packages/torch/utils/data/dataloader.py\u001b[0m in \u001b[0;36m_get_data\u001b[0;34m(self)\u001b[0m\n\u001b[1;32m   1323\u001b[0m         \u001b[0;32melse\u001b[0m\u001b[0;34m:\u001b[0m\u001b[0;34m\u001b[0m\u001b[0;34m\u001b[0m\u001b[0m\n\u001b[1;32m   1324\u001b[0m             \u001b[0;32mwhile\u001b[0m \u001b[0;32mTrue\u001b[0m\u001b[0;34m:\u001b[0m\u001b[0;34m\u001b[0m\u001b[0;34m\u001b[0m\u001b[0m\n\u001b[0;32m-> 1325\u001b[0;31m                 \u001b[0msuccess\u001b[0m\u001b[0;34m,\u001b[0m \u001b[0mdata\u001b[0m \u001b[0;34m=\u001b[0m \u001b[0mself\u001b[0m\u001b[0;34m.\u001b[0m\u001b[0m_try_get_data\u001b[0m\u001b[0;34m(\u001b[0m\u001b[0;34m)\u001b[0m\u001b[0;34m\u001b[0m\u001b[0;34m\u001b[0m\u001b[0m\n\u001b[0m\u001b[1;32m   1326\u001b[0m                 \u001b[0;32mif\u001b[0m \u001b[0msuccess\u001b[0m\u001b[0;34m:\u001b[0m\u001b[0;34m\u001b[0m\u001b[0;34m\u001b[0m\u001b[0m\n\u001b[1;32m   1327\u001b[0m                     \u001b[0;32mreturn\u001b[0m \u001b[0mdata\u001b[0m\u001b[0;34m\u001b[0m\u001b[0;34m\u001b[0m\u001b[0m\n",
      "\u001b[0;32m/opt/mambaforge/envs/landing/lib/python3.8/site-packages/torch/utils/data/dataloader.py\u001b[0m in \u001b[0;36m_try_get_data\u001b[0;34m(self, timeout)\u001b[0m\n\u001b[1;32m   1161\u001b[0m         \u001b[0;31m#   (bool: whether successfully get data, any: data if successful else None)\u001b[0m\u001b[0;34m\u001b[0m\u001b[0;34m\u001b[0m\u001b[0;34m\u001b[0m\u001b[0m\n\u001b[1;32m   1162\u001b[0m         \u001b[0;32mtry\u001b[0m\u001b[0;34m:\u001b[0m\u001b[0;34m\u001b[0m\u001b[0;34m\u001b[0m\u001b[0m\n\u001b[0;32m-> 1163\u001b[0;31m             \u001b[0mdata\u001b[0m \u001b[0;34m=\u001b[0m \u001b[0mself\u001b[0m\u001b[0;34m.\u001b[0m\u001b[0m_data_queue\u001b[0m\u001b[0;34m.\u001b[0m\u001b[0mget\u001b[0m\u001b[0;34m(\u001b[0m\u001b[0mtimeout\u001b[0m\u001b[0;34m=\u001b[0m\u001b[0mtimeout\u001b[0m\u001b[0;34m)\u001b[0m\u001b[0;34m\u001b[0m\u001b[0;34m\u001b[0m\u001b[0m\n\u001b[0m\u001b[1;32m   1164\u001b[0m             \u001b[0;32mreturn\u001b[0m \u001b[0;34m(\u001b[0m\u001b[0;32mTrue\u001b[0m\u001b[0;34m,\u001b[0m \u001b[0mdata\u001b[0m\u001b[0;34m)\u001b[0m\u001b[0;34m\u001b[0m\u001b[0;34m\u001b[0m\u001b[0m\n\u001b[1;32m   1165\u001b[0m         \u001b[0;32mexcept\u001b[0m \u001b[0mException\u001b[0m \u001b[0;32mas\u001b[0m \u001b[0me\u001b[0m\u001b[0;34m:\u001b[0m\u001b[0;34m\u001b[0m\u001b[0;34m\u001b[0m\u001b[0m\n",
      "\u001b[0;32m/opt/mambaforge/envs/landing/lib/python3.8/multiprocessing/queues.py\u001b[0m in \u001b[0;36mget\u001b[0;34m(self, block, timeout)\u001b[0m\n\u001b[1;32m    105\u001b[0m                 \u001b[0;32mif\u001b[0m \u001b[0mblock\u001b[0m\u001b[0;34m:\u001b[0m\u001b[0;34m\u001b[0m\u001b[0;34m\u001b[0m\u001b[0m\n\u001b[1;32m    106\u001b[0m                     \u001b[0mtimeout\u001b[0m \u001b[0;34m=\u001b[0m \u001b[0mdeadline\u001b[0m \u001b[0;34m-\u001b[0m \u001b[0mtime\u001b[0m\u001b[0;34m.\u001b[0m\u001b[0mmonotonic\u001b[0m\u001b[0;34m(\u001b[0m\u001b[0;34m)\u001b[0m\u001b[0;34m\u001b[0m\u001b[0;34m\u001b[0m\u001b[0m\n\u001b[0;32m--> 107\u001b[0;31m                     \u001b[0;32mif\u001b[0m \u001b[0;32mnot\u001b[0m \u001b[0mself\u001b[0m\u001b[0;34m.\u001b[0m\u001b[0m_poll\u001b[0m\u001b[0;34m(\u001b[0m\u001b[0mtimeout\u001b[0m\u001b[0;34m)\u001b[0m\u001b[0;34m:\u001b[0m\u001b[0;34m\u001b[0m\u001b[0;34m\u001b[0m\u001b[0m\n\u001b[0m\u001b[1;32m    108\u001b[0m                         \u001b[0;32mraise\u001b[0m \u001b[0mEmpty\u001b[0m\u001b[0;34m\u001b[0m\u001b[0;34m\u001b[0m\u001b[0m\n\u001b[1;32m    109\u001b[0m                 \u001b[0;32melif\u001b[0m \u001b[0;32mnot\u001b[0m \u001b[0mself\u001b[0m\u001b[0;34m.\u001b[0m\u001b[0m_poll\u001b[0m\u001b[0;34m(\u001b[0m\u001b[0;34m)\u001b[0m\u001b[0;34m:\u001b[0m\u001b[0;34m\u001b[0m\u001b[0;34m\u001b[0m\u001b[0m\n",
      "\u001b[0;32m/opt/mambaforge/envs/landing/lib/python3.8/multiprocessing/connection.py\u001b[0m in \u001b[0;36mpoll\u001b[0;34m(self, timeout)\u001b[0m\n\u001b[1;32m    255\u001b[0m         \u001b[0mself\u001b[0m\u001b[0;34m.\u001b[0m\u001b[0m_check_closed\u001b[0m\u001b[0;34m(\u001b[0m\u001b[0;34m)\u001b[0m\u001b[0;34m\u001b[0m\u001b[0;34m\u001b[0m\u001b[0m\n\u001b[1;32m    256\u001b[0m         \u001b[0mself\u001b[0m\u001b[0;34m.\u001b[0m\u001b[0m_check_readable\u001b[0m\u001b[0;34m(\u001b[0m\u001b[0;34m)\u001b[0m\u001b[0;34m\u001b[0m\u001b[0;34m\u001b[0m\u001b[0m\n\u001b[0;32m--> 257\u001b[0;31m         \u001b[0;32mreturn\u001b[0m \u001b[0mself\u001b[0m\u001b[0;34m.\u001b[0m\u001b[0m_poll\u001b[0m\u001b[0;34m(\u001b[0m\u001b[0mtimeout\u001b[0m\u001b[0;34m)\u001b[0m\u001b[0;34m\u001b[0m\u001b[0;34m\u001b[0m\u001b[0m\n\u001b[0m\u001b[1;32m    258\u001b[0m \u001b[0;34m\u001b[0m\u001b[0m\n\u001b[1;32m    259\u001b[0m     \u001b[0;32mdef\u001b[0m \u001b[0m__enter__\u001b[0m\u001b[0;34m(\u001b[0m\u001b[0mself\u001b[0m\u001b[0;34m)\u001b[0m\u001b[0;34m:\u001b[0m\u001b[0;34m\u001b[0m\u001b[0;34m\u001b[0m\u001b[0m\n",
      "\u001b[0;32m/opt/mambaforge/envs/landing/lib/python3.8/multiprocessing/connection.py\u001b[0m in \u001b[0;36m_poll\u001b[0;34m(self, timeout)\u001b[0m\n\u001b[1;32m    422\u001b[0m \u001b[0;34m\u001b[0m\u001b[0m\n\u001b[1;32m    423\u001b[0m     \u001b[0;32mdef\u001b[0m \u001b[0m_poll\u001b[0m\u001b[0;34m(\u001b[0m\u001b[0mself\u001b[0m\u001b[0;34m,\u001b[0m \u001b[0mtimeout\u001b[0m\u001b[0;34m)\u001b[0m\u001b[0;34m:\u001b[0m\u001b[0;34m\u001b[0m\u001b[0;34m\u001b[0m\u001b[0m\n\u001b[0;32m--> 424\u001b[0;31m         \u001b[0mr\u001b[0m \u001b[0;34m=\u001b[0m \u001b[0mwait\u001b[0m\u001b[0;34m(\u001b[0m\u001b[0;34m[\u001b[0m\u001b[0mself\u001b[0m\u001b[0;34m]\u001b[0m\u001b[0;34m,\u001b[0m \u001b[0mtimeout\u001b[0m\u001b[0;34m)\u001b[0m\u001b[0;34m\u001b[0m\u001b[0;34m\u001b[0m\u001b[0m\n\u001b[0m\u001b[1;32m    425\u001b[0m         \u001b[0;32mreturn\u001b[0m \u001b[0mbool\u001b[0m\u001b[0;34m(\u001b[0m\u001b[0mr\u001b[0m\u001b[0;34m)\u001b[0m\u001b[0;34m\u001b[0m\u001b[0;34m\u001b[0m\u001b[0m\n\u001b[1;32m    426\u001b[0m \u001b[0;34m\u001b[0m\u001b[0m\n",
      "\u001b[0;32m/opt/mambaforge/envs/landing/lib/python3.8/multiprocessing/connection.py\u001b[0m in \u001b[0;36mwait\u001b[0;34m(object_list, timeout)\u001b[0m\n\u001b[1;32m    929\u001b[0m \u001b[0;34m\u001b[0m\u001b[0m\n\u001b[1;32m    930\u001b[0m             \u001b[0;32mwhile\u001b[0m \u001b[0;32mTrue\u001b[0m\u001b[0;34m:\u001b[0m\u001b[0;34m\u001b[0m\u001b[0;34m\u001b[0m\u001b[0m\n\u001b[0;32m--> 931\u001b[0;31m                 \u001b[0mready\u001b[0m \u001b[0;34m=\u001b[0m \u001b[0mselector\u001b[0m\u001b[0;34m.\u001b[0m\u001b[0mselect\u001b[0m\u001b[0;34m(\u001b[0m\u001b[0mtimeout\u001b[0m\u001b[0;34m)\u001b[0m\u001b[0;34m\u001b[0m\u001b[0;34m\u001b[0m\u001b[0m\n\u001b[0m\u001b[1;32m    932\u001b[0m                 \u001b[0;32mif\u001b[0m \u001b[0mready\u001b[0m\u001b[0;34m:\u001b[0m\u001b[0;34m\u001b[0m\u001b[0;34m\u001b[0m\u001b[0m\n\u001b[1;32m    933\u001b[0m                     \u001b[0;32mreturn\u001b[0m \u001b[0;34m[\u001b[0m\u001b[0mkey\u001b[0m\u001b[0;34m.\u001b[0m\u001b[0mfileobj\u001b[0m \u001b[0;32mfor\u001b[0m \u001b[0;34m(\u001b[0m\u001b[0mkey\u001b[0m\u001b[0;34m,\u001b[0m \u001b[0mevents\u001b[0m\u001b[0;34m)\u001b[0m \u001b[0;32min\u001b[0m \u001b[0mready\u001b[0m\u001b[0;34m]\u001b[0m\u001b[0;34m\u001b[0m\u001b[0;34m\u001b[0m\u001b[0m\n",
      "\u001b[0;32m/opt/mambaforge/envs/landing/lib/python3.8/selectors.py\u001b[0m in \u001b[0;36mselect\u001b[0;34m(self, timeout)\u001b[0m\n\u001b[1;32m    413\u001b[0m         \u001b[0mready\u001b[0m \u001b[0;34m=\u001b[0m \u001b[0;34m[\u001b[0m\u001b[0;34m]\u001b[0m\u001b[0;34m\u001b[0m\u001b[0;34m\u001b[0m\u001b[0m\n\u001b[1;32m    414\u001b[0m         \u001b[0;32mtry\u001b[0m\u001b[0;34m:\u001b[0m\u001b[0;34m\u001b[0m\u001b[0;34m\u001b[0m\u001b[0m\n\u001b[0;32m--> 415\u001b[0;31m             \u001b[0mfd_event_list\u001b[0m \u001b[0;34m=\u001b[0m \u001b[0mself\u001b[0m\u001b[0;34m.\u001b[0m\u001b[0m_selector\u001b[0m\u001b[0;34m.\u001b[0m\u001b[0mpoll\u001b[0m\u001b[0;34m(\u001b[0m\u001b[0mtimeout\u001b[0m\u001b[0;34m)\u001b[0m\u001b[0;34m\u001b[0m\u001b[0;34m\u001b[0m\u001b[0m\n\u001b[0m\u001b[1;32m    416\u001b[0m         \u001b[0;32mexcept\u001b[0m \u001b[0mInterruptedError\u001b[0m\u001b[0;34m:\u001b[0m\u001b[0;34m\u001b[0m\u001b[0;34m\u001b[0m\u001b[0m\n\u001b[1;32m    417\u001b[0m             \u001b[0;32mreturn\u001b[0m \u001b[0mready\u001b[0m\u001b[0;34m\u001b[0m\u001b[0;34m\u001b[0m\u001b[0m\n",
      "\u001b[0;31mKeyboardInterrupt\u001b[0m: "
     ]
    }
   ],
   "source": [
    "def train(model, optimizer, n_epochs):\n",
    "    best_test_acc = 0.\n",
    "    for epoch in range(n_epochs):\n",
    "        model.train()\n",
    "        train_loss = 0.0\n",
    "        for batch_idx, (batch_x, batch_y) in enumerate(trainloader):\n",
    "            batch_x, batch_y = batch_x.to(device), batch_y.to(device)\n",
    "            logits = model(batch_x)\n",
    "            loss = model.loss(logits, batch_y)\n",
    "            train_loss =+ loss.item() * batch_x.size(0)\n",
    "            optimizer.zero_grad()\n",
    "            loss.backward()\n",
    "            optimizer.step()\n",
    "        print(train_loss)\n",
    "\n",
    "        # Test\n",
    "        model.eval()\n",
    "        with torch.no_grad():\n",
    "            test_loss = 0.\n",
    "            correct = 0.\n",
    "            for batch_x, batch_y in testloader:\n",
    "                batch_x, batch_y = batch_x.to(device), batch_y.to(device)\n",
    "                logits = model(batch_x)\n",
    "                loss = model.loss(logits, batch_y)\n",
    "                test_loss += loss.item() * batch_x.size(0)\n",
    "                correct += model.correct(logits, batch_y).item()\n",
    "        print(100 * correct / len(testset))\n",
    "\n",
    "train(model1, optimizer1, 50)\n",
    "#train(model2, optimizer2, 8)"
   ]
  },
  {
   "cell_type": "code",
   "execution_count": 4,
   "metadata": {},
   "outputs": [],
   "source": [
    "#torch.save(model1, 'VGG16_1.pt')\n",
    "#torch.save(model2, 'VGG16_2.pt')\n",
    "model1 = torch.load('VGG16_1.pt')\n",
    "model2 = torch.load('VGG16_2.pt')"
   ]
  },
  {
   "cell_type": "code",
   "execution_count": 5,
   "metadata": {},
   "outputs": [
    {
     "data": {
      "text/plain": [
       "<torch.utils.hooks.RemovableHandle at 0x7f50be48c3d0>"
      ]
     },
     "execution_count": 5,
     "metadata": {},
     "output_type": "execute_result"
    }
   ],
   "source": [
    "activation = {}\n",
    "def get_activation(name):\n",
    "    def hook(model, input, output):\n",
    "        activation[name] = output.detach()\n",
    "    return hook\n",
    "\n",
    "model1.features[10].register_forward_hook(get_activation('features1'))\n",
    "model2.features[10].register_forward_hook(get_activation('features2'))"
   ]
  },
  {
   "cell_type": "code",
   "execution_count": 6,
   "metadata": {},
   "outputs": [],
   "source": [
    "batch_idx, (batch_x, batch_y) = enumerate(trainloader).__next__()\n",
    "batch_x, batch_y = batch_x.to(device), batch_y.to(device)\n",
    "\n",
    "\n",
    "with torch.no_grad():\n",
    "    _ = model1(batch_x)\n",
    "    _ = model2(batch_x)\n",
    "    features1 = activation['features1'].view((activation['features1'].shape[0],-1))\n",
    "    features2 = activation['features2'].view((activation['features2'].shape[0],-1))\n",
    "    features1 = (features1 - torch.mean(features1, dim=0))\n",
    "    features2 = (features2 - torch.mean(features2, dim=0))\n",
    "\n",
    "p = 20\n",
    "_, S1, Q1 = torch.linalg.svd(features1, full_matrices=False)\n",
    "_, S2, Q2 = torch.linalg.svd(features2, full_matrices=False)\n",
    "Q1 = Q1[:p,:].T / S1[:p]\n",
    "Q2 = Q2[:p,:].T / S2[:p]\n",
    "\n",
    "best_test_acc = 0.\n",
    "learning_rate = 1e-8\n",
    "lambda_regul = 1\n",
    "Q1 = torch.nn.Parameter(Q1)\n",
    "Q2 = torch.nn.Parameter(Q2)\n",
    "\n",
    "optimizerCCA = LandingGeneralizedStiefel((Q1,Q2), \n",
    "        lr=learning_rate, lambda_regul=lambda_regul)"
   ]
  },
  {
   "cell_type": "code",
   "execution_count": 7,
   "metadata": {},
   "outputs": [
    {
     "data": {
      "image/png": "[encoded data removed]",
      "text/plain": [
       "<Figure size 432x288 with 2 Axes>"
      ]
     },
     "metadata": {
      "needs_background": "light"
     },
     "output_type": "display_data"
    },
    {
     "data": {
      "image/png": "[encoded data removed]",
      "text/plain": [
       "<Figure size 432x288 with 2 Axes>"
      ]
     },
     "metadata": {
      "needs_background": "light"
     },
     "output_type": "display_data"
    },
    {
     "data": {
      "image/png": "[encoded data removed]",
      "text/plain": [
       "<Figure size 432x288 with 2 Axes>"
      ]
     },
     "metadata": {
      "needs_background": "light"
     },
     "output_type": "display_data"
    },
    {
     "name": "stdout",
     "output_type": "stream",
     "text": [
      "tensor([ 0.9232, -0.3281, -0.0975,  0.2592, -0.0148, -0.1336, -0.0028,  0.2133,\n",
      "         0.2294,  0.2198,  0.0368, -0.1025, -0.1010,  0.2862, -0.0598,  0.0766,\n",
      "         0.0082, -0.0771,  0.0641, -0.0572], device='cuda:0',\n",
      "       grad_fn=<DiagBackward0>)\n"
     ]
    }
   ],
   "source": [
    "plt.imshow((Q2.T @ features2.T@ features2 @ Q2).cpu().detach().numpy())\n",
    "plt.colorbar()\n",
    "plt.show()\n",
    "\n",
    "plt.imshow((Q1.T @ features1.T@ features1 @ Q1).cpu().detach().numpy())\n",
    "plt.colorbar()\n",
    "plt.show()\n",
    "\n",
    "plt.imshow(np.abs((Q1.T @ features1.T@ features2 @ Q2).cpu().detach().numpy()))\n",
    "plt.colorbar()\n",
    "plt.show()\n",
    "\n",
    "print(torch.diag((features1 @ Q1).T @ (features2 @ Q2)))"
   ]
  },
  {
   "cell_type": "code",
   "execution_count": 8,
   "metadata": {},
   "outputs": [],
   "source": [
    "for g in optimizerCCA.param_groups:\n",
    "      g['lr'] = g['lr'] / 10\n",
    "      g['lambda_regul'] = g['lambda_regul']"
   ]
  },
  {
   "cell_type": "code",
   "execution_count": 9,
   "metadata": {},
   "outputs": [
    {
     "name": "stdout",
     "output_type": "stream",
     "text": [
      "Objective: -9.61416\n",
      "Dist Q1: 3.65003\n",
      "Dist Q2: 3.80091\n",
      "Objective: -11.50668\n",
      "Dist Q1: 3.65394\n",
      "Dist Q2: 3.85008\n",
      "Objective: -12.63437\n",
      "Dist Q1: 3.65651\n",
      "Dist Q2: 3.83800\n",
      "Objective: -13.01447\n",
      "Dist Q1: 3.65966\n",
      "Dist Q2: 3.82516\n",
      "Objective: -13.49870\n",
      "Dist Q1: 3.66194\n",
      "Dist Q2: 3.81374\n",
      "Objective: -13.58173\n",
      "Dist Q1: 3.66460\n",
      "Dist Q2: 3.80699\n",
      "Objective: -13.77267\n",
      "Dist Q1: 3.66724\n",
      "Dist Q2: 3.80016\n",
      "Objective: -13.37390\n",
      "Dist Q1: 3.66966\n",
      "Dist Q2: 3.79381\n",
      "Objective: -13.87409\n",
      "Dist Q1: 3.67225\n",
      "Dist Q2: 3.78871\n",
      "Objective: -13.73200\n",
      "Dist Q1: 3.67494\n",
      "Dist Q2: 3.78571\n",
      "Objective: -13.83156\n",
      "Dist Q1: 3.67704\n",
      "Dist Q2: 3.78237\n",
      "Objective: -13.64179\n",
      "Dist Q1: 3.68011\n",
      "Dist Q2: 3.77989\n",
      "Objective: -13.66645\n",
      "Dist Q1: 3.68256\n",
      "Dist Q2: 3.77719\n",
      "Objective: -13.82600\n",
      "Dist Q1: 3.68515\n",
      "Dist Q2: 3.77541\n",
      "Objective: -13.63936\n",
      "Dist Q1: 3.68733\n",
      "Dist Q2: 3.77366\n",
      "Objective: -13.83434\n",
      "Dist Q1: 3.68974\n",
      "Dist Q2: 3.77330\n",
      "Objective: -13.85437\n",
      "Dist Q1: 3.69237\n",
      "Dist Q2: 3.77259\n",
      "Objective: -13.80661\n",
      "Dist Q1: 3.69492\n",
      "Dist Q2: 3.77249\n",
      "Objective: -13.77804\n",
      "Dist Q1: 3.69726\n",
      "Dist Q2: 3.77291\n",
      "Objective: -13.81183\n",
      "Dist Q1: 3.69960\n",
      "Dist Q2: 3.77288\n"
     ]
    }
   ],
   "source": [
    "for epoch in range(20):\n",
    "    model1.eval()\n",
    "    model2.eval()\n",
    "    train_loss = 0\n",
    "    dist1 = torch.zeros(p,p, device = device)\n",
    "    dist2 = torch.zeros(p,p, device = device)\n",
    "    for batch_idx, (batch_x, batch_y) in enumerate(trainloader):\n",
    "        batch_x, batch_y = batch_x.to(device), batch_y.to(device)\n",
    "        with torch.no_grad():\n",
    "            _ = model1(batch_x)\n",
    "            _ = model2(batch_x)\n",
    "            features1 = activation['features1'].view((activation['features1'].shape[0],-1))\n",
    "            features2 = activation['features2'].view((activation['features2'].shape[0],-1))\n",
    "            features1 = (features1 - torch.mean(features1, dim=0))\n",
    "            features2 = (features2 - torch.mean(features2, dim=0))\n",
    "        loss = -torch.trace( (Q1.T @ features1.T) @ (features2 @ Q2)) /  (batch_x.size(0))\n",
    "        train_loss =+ loss.item() * batch_x.size(0)\n",
    "        dist1 += (features1 @ Q1).T @ (features1 @ Q1) \n",
    "        dist2 += (features2 @ Q2).T @ (features2 @ Q2)\n",
    "        optimizerCCA.zero_grad()\n",
    "        loss.backward()\n",
    "        optimizerCCA.step(((features1, features2 ),))\n",
    "    print('Objective: %2.5f' % train_loss)\n",
    "    print('Dist Q1: %2.5f' % (torch.linalg.norm(dist1 - torch.eye(p,p, device = device)).item() / len(trainloader)))\n",
    "    print('Dist Q2: %2.5f' % (torch.linalg.norm(dist2 - torch.eye(p,p, device = device)).item() /len(trainloader)) )"
   ]
  },
  {
   "cell_type": "code",
   "execution_count": 3,
   "metadata": {},
   "outputs": [],
   "source": [
    "def VectorizeImage(batch):\n",
    "    data = [item[0].view(-1).unsqueeze(1)[:500] for item in batch]\n",
    "    return(torch.cat(data, dim = 1))\n",
    "\n",
    "loader_A = torch.utils.data.DataLoader(trainset, batch_size=batch_size, shuffle=False, num_workers=2, collate_fn=VectorizeImage)"
   ]
  },
  {
   "cell_type": "code",
   "execution_count": 6,
   "metadata": {},
   "outputs": [
    {
     "ename": "KeyboardInterrupt",
     "evalue": "",
     "output_type": "error",
     "traceback": [
      "\u001b[0;31m---------------------------------------------------------------------------\u001b[0m",
      "\u001b[0;31mKeyboardInterrupt\u001b[0m                         Traceback (most recent call last)",
      "\u001b[0;32m/tmp/ipykernel_366434/4260686686.py\u001b[0m in \u001b[0;36m<module>\u001b[0;34m\u001b[0m\n\u001b[0;32m----> 1\u001b[0;31m \u001b[0mLandingCCA\u001b[0m\u001b[0;34m(\u001b[0m\u001b[0miter\u001b[0m\u001b[0;34m(\u001b[0m\u001b[0mloader_A\u001b[0m\u001b[0;34m)\u001b[0m\u001b[0;34m,\u001b[0m \u001b[0miter\u001b[0m\u001b[0;34m(\u001b[0m\u001b[0mloader_A\u001b[0m\u001b[0;34m)\u001b[0m\u001b[0;34m,\u001b[0m \u001b[0mp\u001b[0m \u001b[0;34m=\u001b[0m \u001b[0;36m10\u001b[0m\u001b[0;34m,\u001b[0m \u001b[0mlearning_rate\u001b[0m \u001b[0;34m=\u001b[0m \u001b[0;36m1e-3\u001b[0m\u001b[0;34m,\u001b[0m \u001b[0mlambda_regul\u001b[0m \u001b[0;34m=\u001b[0m \u001b[0;36m1\u001b[0m\u001b[0;34m,\u001b[0m  \u001b[0mn_epochs\u001b[0m\u001b[0;34m=\u001b[0m\u001b[0;36m5\u001b[0m\u001b[0;34m,\u001b[0m \u001b[0mdevice\u001b[0m \u001b[0;34m=\u001b[0m \u001b[0;34m'cuda'\u001b[0m\u001b[0;34m)\u001b[0m\u001b[0;34m\u001b[0m\u001b[0;34m\u001b[0m\u001b[0m\n\u001b[0m",
      "\u001b[0;32m~/src/landing-generalized-stiefel/solvers/landing_cca.py\u001b[0m in \u001b[0;36mLandingCCA\u001b[0;34m(dataloader_A, dataloader_B, p, learning_rate, lambda_regul, n_epochs, device)\u001b[0m\n\u001b[1;32m      8\u001b[0m     \u001b[0;34m''' Takes two iter objects that return matrices that return the same number of batches'''\u001b[0m\u001b[0;34m\u001b[0m\u001b[0;34m\u001b[0m\u001b[0m\n\u001b[1;32m      9\u001b[0m \u001b[0;34m\u001b[0m\u001b[0m\n\u001b[0;32m---> 10\u001b[0;31m     \u001b[0mA\u001b[0m \u001b[0;34m=\u001b[0m \u001b[0mdataloader_A\u001b[0m\u001b[0;34m.\u001b[0m\u001b[0m__next__\u001b[0m\u001b[0;34m(\u001b[0m\u001b[0;34m)\u001b[0m\u001b[0;34m.\u001b[0m\u001b[0mto\u001b[0m\u001b[0;34m(\u001b[0m\u001b[0mdevice\u001b[0m\u001b[0;34m)\u001b[0m\u001b[0;34m\u001b[0m\u001b[0;34m\u001b[0m\u001b[0m\n\u001b[0m\u001b[1;32m     11\u001b[0m     \u001b[0mB\u001b[0m \u001b[0;34m=\u001b[0m \u001b[0mdataloader_B\u001b[0m\u001b[0;34m.\u001b[0m\u001b[0m__next__\u001b[0m\u001b[0;34m(\u001b[0m\u001b[0;34m)\u001b[0m\u001b[0;34m.\u001b[0m\u001b[0mto\u001b[0m\u001b[0;34m(\u001b[0m\u001b[0mdevice\u001b[0m\u001b[0;34m)\u001b[0m\u001b[0;34m\u001b[0m\u001b[0;34m\u001b[0m\u001b[0m\n\u001b[1;32m     12\u001b[0m \u001b[0;34m\u001b[0m\u001b[0m\n",
      "\u001b[0;32m/opt/mambaforge/envs/landing/lib/python3.8/site-packages/torch/utils/data/dataloader.py\u001b[0m in \u001b[0;36m__next__\u001b[0;34m(self)\u001b[0m\n\u001b[1;32m    679\u001b[0m                 \u001b[0;31m# TODO(https://github.com/pytorch/pytorch/issues/76750)\u001b[0m\u001b[0;34m\u001b[0m\u001b[0;34m\u001b[0m\u001b[0;34m\u001b[0m\u001b[0m\n\u001b[1;32m    680\u001b[0m                 \u001b[0mself\u001b[0m\u001b[0;34m.\u001b[0m\u001b[0m_reset\u001b[0m\u001b[0;34m(\u001b[0m\u001b[0;34m)\u001b[0m  \u001b[0;31m# type: ignore[call-arg]\u001b[0m\u001b[0;34m\u001b[0m\u001b[0;34m\u001b[0m\u001b[0m\n\u001b[0;32m--> 681\u001b[0;31m             \u001b[0mdata\u001b[0m \u001b[0;34m=\u001b[0m \u001b[0mself\u001b[0m\u001b[0;34m.\u001b[0m\u001b[0m_next_data\u001b[0m\u001b[0;34m(\u001b[0m\u001b[0;34m)\u001b[0m\u001b[0;34m\u001b[0m\u001b[0;34m\u001b[0m\u001b[0m\n\u001b[0m\u001b[1;32m    682\u001b[0m             \u001b[0mself\u001b[0m\u001b[0;34m.\u001b[0m\u001b[0m_num_yielded\u001b[0m \u001b[0;34m+=\u001b[0m \u001b[0;36m1\u001b[0m\u001b[0;34m\u001b[0m\u001b[0;34m\u001b[0m\u001b[0m\n\u001b[1;32m    683\u001b[0m             \u001b[0;32mif\u001b[0m \u001b[0mself\u001b[0m\u001b[0;34m.\u001b[0m\u001b[0m_dataset_kind\u001b[0m \u001b[0;34m==\u001b[0m \u001b[0m_DatasetKind\u001b[0m\u001b[0;34m.\u001b[0m\u001b[0mIterable\u001b[0m \u001b[0;32mand\u001b[0m\u001b[0;31m \u001b[0m\u001b[0;31m\\\u001b[0m\u001b[0;34m\u001b[0m\u001b[0;34m\u001b[0m\u001b[0m\n",
      "\u001b[0;32m/opt/mambaforge/envs/landing/lib/python3.8/site-packages/torch/utils/data/dataloader.py\u001b[0m in \u001b[0;36m_next_data\u001b[0;34m(self)\u001b[0m\n\u001b[1;32m   1357\u001b[0m \u001b[0;34m\u001b[0m\u001b[0m\n\u001b[1;32m   1358\u001b[0m             \u001b[0;32massert\u001b[0m \u001b[0;32mnot\u001b[0m \u001b[0mself\u001b[0m\u001b[0;34m.\u001b[0m\u001b[0m_shutdown\u001b[0m \u001b[0;32mand\u001b[0m \u001b[0mself\u001b[0m\u001b[0;34m.\u001b[0m\u001b[0m_tasks_outstanding\u001b[0m \u001b[0;34m>\u001b[0m \u001b[0;36m0\u001b[0m\u001b[0;34m\u001b[0m\u001b[0;34m\u001b[0m\u001b[0m\n\u001b[0;32m-> 1359\u001b[0;31m             \u001b[0midx\u001b[0m\u001b[0;34m,\u001b[0m \u001b[0mdata\u001b[0m \u001b[0;34m=\u001b[0m \u001b[0mself\u001b[0m\u001b[0;34m.\u001b[0m\u001b[0m_get_data\u001b[0m\u001b[0;34m(\u001b[0m\u001b[0;34m)\u001b[0m\u001b[0;34m\u001b[0m\u001b[0;34m\u001b[0m\u001b[0m\n\u001b[0m\u001b[1;32m   1360\u001b[0m             \u001b[0mself\u001b[0m\u001b[0;34m.\u001b[0m\u001b[0m_tasks_outstanding\u001b[0m \u001b[0;34m-=\u001b[0m \u001b[0;36m1\u001b[0m\u001b[0;34m\u001b[0m\u001b[0;34m\u001b[0m\u001b[0m\n\u001b[1;32m   1361\u001b[0m             \u001b[0;32mif\u001b[0m \u001b[0mself\u001b[0m\u001b[0;34m.\u001b[0m\u001b[0m_dataset_kind\u001b[0m \u001b[0;34m==\u001b[0m \u001b[0m_DatasetKind\u001b[0m\u001b[0;34m.\u001b[0m\u001b[0mIterable\u001b[0m\u001b[0;34m:\u001b[0m\u001b[0;34m\u001b[0m\u001b[0;34m\u001b[0m\u001b[0m\n",
      "\u001b[0;32m/opt/mambaforge/envs/landing/lib/python3.8/site-packages/torch/utils/data/dataloader.py\u001b[0m in \u001b[0;36m_get_data\u001b[0;34m(self)\u001b[0m\n\u001b[1;32m   1323\u001b[0m         \u001b[0;32melse\u001b[0m\u001b[0;34m:\u001b[0m\u001b[0;34m\u001b[0m\u001b[0;34m\u001b[0m\u001b[0m\n\u001b[1;32m   1324\u001b[0m             \u001b[0;32mwhile\u001b[0m \u001b[0;32mTrue\u001b[0m\u001b[0;34m:\u001b[0m\u001b[0;34m\u001b[0m\u001b[0;34m\u001b[0m\u001b[0m\n\u001b[0;32m-> 1325\u001b[0;31m                 \u001b[0msuccess\u001b[0m\u001b[0;34m,\u001b[0m \u001b[0mdata\u001b[0m \u001b[0;34m=\u001b[0m \u001b[0mself\u001b[0m\u001b[0;34m.\u001b[0m\u001b[0m_try_get_data\u001b[0m\u001b[0;34m(\u001b[0m\u001b[0;34m)\u001b[0m\u001b[0;34m\u001b[0m\u001b[0;34m\u001b[0m\u001b[0m\n\u001b[0m\u001b[1;32m   1326\u001b[0m                 \u001b[0;32mif\u001b[0m \u001b[0msuccess\u001b[0m\u001b[0;34m:\u001b[0m\u001b[0;34m\u001b[0m\u001b[0;34m\u001b[0m\u001b[0m\n\u001b[1;32m   1327\u001b[0m                     \u001b[0;32mreturn\u001b[0m \u001b[0mdata\u001b[0m\u001b[0;34m\u001b[0m\u001b[0;34m\u001b[0m\u001b[0m\n",
      "\u001b[0;32m/opt/mambaforge/envs/landing/lib/python3.8/site-packages/torch/utils/data/dataloader.py\u001b[0m in \u001b[0;36m_try_get_data\u001b[0;34m(self, timeout)\u001b[0m\n\u001b[1;32m   1161\u001b[0m         \u001b[0;31m#   (bool: whether successfully get data, any: data if successful else None)\u001b[0m\u001b[0;34m\u001b[0m\u001b[0;34m\u001b[0m\u001b[0;34m\u001b[0m\u001b[0m\n\u001b[1;32m   1162\u001b[0m         \u001b[0;32mtry\u001b[0m\u001b[0;34m:\u001b[0m\u001b[0;34m\u001b[0m\u001b[0;34m\u001b[0m\u001b[0m\n\u001b[0;32m-> 1163\u001b[0;31m             \u001b[0mdata\u001b[0m \u001b[0;34m=\u001b[0m \u001b[0mself\u001b[0m\u001b[0;34m.\u001b[0m\u001b[0m_data_queue\u001b[0m\u001b[0;34m.\u001b[0m\u001b[0mget\u001b[0m\u001b[0;34m(\u001b[0m\u001b[0mtimeout\u001b[0m\u001b[0;34m=\u001b[0m\u001b[0mtimeout\u001b[0m\u001b[0;34m)\u001b[0m\u001b[0;34m\u001b[0m\u001b[0;34m\u001b[0m\u001b[0m\n\u001b[0m\u001b[1;32m   1164\u001b[0m             \u001b[0;32mreturn\u001b[0m \u001b[0;34m(\u001b[0m\u001b[0;32mTrue\u001b[0m\u001b[0;34m,\u001b[0m \u001b[0mdata\u001b[0m\u001b[0;34m)\u001b[0m\u001b[0;34m\u001b[0m\u001b[0;34m\u001b[0m\u001b[0m\n\u001b[1;32m   1165\u001b[0m         \u001b[0;32mexcept\u001b[0m \u001b[0mException\u001b[0m \u001b[0;32mas\u001b[0m \u001b[0me\u001b[0m\u001b[0;34m:\u001b[0m\u001b[0;34m\u001b[0m\u001b[0;34m\u001b[0m\u001b[0m\n",
      "\u001b[0;32m/opt/mambaforge/envs/landing/lib/python3.8/multiprocessing/queues.py\u001b[0m in \u001b[0;36mget\u001b[0;34m(self, block, timeout)\u001b[0m\n\u001b[1;32m    105\u001b[0m                 \u001b[0;32mif\u001b[0m \u001b[0mblock\u001b[0m\u001b[0;34m:\u001b[0m\u001b[0;34m\u001b[0m\u001b[0;34m\u001b[0m\u001b[0m\n\u001b[1;32m    106\u001b[0m                     \u001b[0mtimeout\u001b[0m \u001b[0;34m=\u001b[0m \u001b[0mdeadline\u001b[0m \u001b[0;34m-\u001b[0m \u001b[0mtime\u001b[0m\u001b[0;34m.\u001b[0m\u001b[0mmonotonic\u001b[0m\u001b[0;34m(\u001b[0m\u001b[0;34m)\u001b[0m\u001b[0;34m\u001b[0m\u001b[0;34m\u001b[0m\u001b[0m\n\u001b[0;32m--> 107\u001b[0;31m                     \u001b[0;32mif\u001b[0m \u001b[0;32mnot\u001b[0m \u001b[0mself\u001b[0m\u001b[0;34m.\u001b[0m\u001b[0m_poll\u001b[0m\u001b[0;34m(\u001b[0m\u001b[0mtimeout\u001b[0m\u001b[0;34m)\u001b[0m\u001b[0;34m:\u001b[0m\u001b[0;34m\u001b[0m\u001b[0;34m\u001b[0m\u001b[0m\n\u001b[0m\u001b[1;32m    108\u001b[0m                         \u001b[0;32mraise\u001b[0m \u001b[0mEmpty\u001b[0m\u001b[0;34m\u001b[0m\u001b[0;34m\u001b[0m\u001b[0m\n\u001b[1;32m    109\u001b[0m                 \u001b[0;32melif\u001b[0m \u001b[0;32mnot\u001b[0m \u001b[0mself\u001b[0m\u001b[0;34m.\u001b[0m\u001b[0m_poll\u001b[0m\u001b[0;34m(\u001b[0m\u001b[0;34m)\u001b[0m\u001b[0;34m:\u001b[0m\u001b[0;34m\u001b[0m\u001b[0;34m\u001b[0m\u001b[0m\n",
      "\u001b[0;32m/opt/mambaforge/envs/landing/lib/python3.8/multiprocessing/connection.py\u001b[0m in \u001b[0;36mpoll\u001b[0;34m(self, timeout)\u001b[0m\n\u001b[1;32m    255\u001b[0m         \u001b[0mself\u001b[0m\u001b[0;34m.\u001b[0m\u001b[0m_check_closed\u001b[0m\u001b[0;34m(\u001b[0m\u001b[0;34m)\u001b[0m\u001b[0;34m\u001b[0m\u001b[0;34m\u001b[0m\u001b[0m\n\u001b[1;32m    256\u001b[0m         \u001b[0mself\u001b[0m\u001b[0;34m.\u001b[0m\u001b[0m_check_readable\u001b[0m\u001b[0;34m(\u001b[0m\u001b[0;34m)\u001b[0m\u001b[0;34m\u001b[0m\u001b[0;34m\u001b[0m\u001b[0m\n\u001b[0;32m--> 257\u001b[0;31m         \u001b[0;32mreturn\u001b[0m \u001b[0mself\u001b[0m\u001b[0;34m.\u001b[0m\u001b[0m_poll\u001b[0m\u001b[0;34m(\u001b[0m\u001b[0mtimeout\u001b[0m\u001b[0;34m)\u001b[0m\u001b[0;34m\u001b[0m\u001b[0;34m\u001b[0m\u001b[0m\n\u001b[0m\u001b[1;32m    258\u001b[0m \u001b[0;34m\u001b[0m\u001b[0m\n\u001b[1;32m    259\u001b[0m     \u001b[0;32mdef\u001b[0m \u001b[0m__enter__\u001b[0m\u001b[0;34m(\u001b[0m\u001b[0mself\u001b[0m\u001b[0;34m)\u001b[0m\u001b[0;34m:\u001b[0m\u001b[0;34m\u001b[0m\u001b[0;34m\u001b[0m\u001b[0m\n",
      "\u001b[0;32m/opt/mambaforge/envs/landing/lib/python3.8/multiprocessing/connection.py\u001b[0m in \u001b[0;36m_poll\u001b[0;34m(self, timeout)\u001b[0m\n\u001b[1;32m    422\u001b[0m \u001b[0;34m\u001b[0m\u001b[0m\n\u001b[1;32m    423\u001b[0m     \u001b[0;32mdef\u001b[0m \u001b[0m_poll\u001b[0m\u001b[0;34m(\u001b[0m\u001b[0mself\u001b[0m\u001b[0;34m,\u001b[0m \u001b[0mtimeout\u001b[0m\u001b[0;34m)\u001b[0m\u001b[0;34m:\u001b[0m\u001b[0;34m\u001b[0m\u001b[0;34m\u001b[0m\u001b[0m\n\u001b[0;32m--> 424\u001b[0;31m         \u001b[0mr\u001b[0m \u001b[0;34m=\u001b[0m \u001b[0mwait\u001b[0m\u001b[0;34m(\u001b[0m\u001b[0;34m[\u001b[0m\u001b[0mself\u001b[0m\u001b[0;34m]\u001b[0m\u001b[0;34m,\u001b[0m \u001b[0mtimeout\u001b[0m\u001b[0;34m)\u001b[0m\u001b[0;34m\u001b[0m\u001b[0;34m\u001b[0m\u001b[0m\n\u001b[0m\u001b[1;32m    425\u001b[0m         \u001b[0;32mreturn\u001b[0m \u001b[0mbool\u001b[0m\u001b[0;34m(\u001b[0m\u001b[0mr\u001b[0m\u001b[0;34m)\u001b[0m\u001b[0;34m\u001b[0m\u001b[0;34m\u001b[0m\u001b[0m\n\u001b[1;32m    426\u001b[0m \u001b[0;34m\u001b[0m\u001b[0m\n",
      "\u001b[0;32m/opt/mambaforge/envs/landing/lib/python3.8/multiprocessing/connection.py\u001b[0m in \u001b[0;36mwait\u001b[0;34m(object_list, timeout)\u001b[0m\n\u001b[1;32m    929\u001b[0m \u001b[0;34m\u001b[0m\u001b[0m\n\u001b[1;32m    930\u001b[0m             \u001b[0;32mwhile\u001b[0m \u001b[0;32mTrue\u001b[0m\u001b[0;34m:\u001b[0m\u001b[0;34m\u001b[0m\u001b[0;34m\u001b[0m\u001b[0m\n\u001b[0;32m--> 931\u001b[0;31m                 \u001b[0mready\u001b[0m \u001b[0;34m=\u001b[0m \u001b[0mselector\u001b[0m\u001b[0;34m.\u001b[0m\u001b[0mselect\u001b[0m\u001b[0;34m(\u001b[0m\u001b[0mtimeout\u001b[0m\u001b[0;34m)\u001b[0m\u001b[0;34m\u001b[0m\u001b[0;34m\u001b[0m\u001b[0m\n\u001b[0m\u001b[1;32m    932\u001b[0m                 \u001b[0;32mif\u001b[0m \u001b[0mready\u001b[0m\u001b[0;34m:\u001b[0m\u001b[0;34m\u001b[0m\u001b[0;34m\u001b[0m\u001b[0m\n\u001b[1;32m    933\u001b[0m                     \u001b[0;32mreturn\u001b[0m \u001b[0;34m[\u001b[0m\u001b[0mkey\u001b[0m\u001b[0;34m.\u001b[0m\u001b[0mfileobj\u001b[0m \u001b[0;32mfor\u001b[0m \u001b[0;34m(\u001b[0m\u001b[0mkey\u001b[0m\u001b[0;34m,\u001b[0m \u001b[0mevents\u001b[0m\u001b[0;34m)\u001b[0m \u001b[0;32min\u001b[0m \u001b[0mready\u001b[0m\u001b[0;34m]\u001b[0m\u001b[0;34m\u001b[0m\u001b[0;34m\u001b[0m\u001b[0m\n",
      "\u001b[0;32m/opt/mambaforge/envs/landing/lib/python3.8/selectors.py\u001b[0m in \u001b[0;36mselect\u001b[0;34m(self, timeout)\u001b[0m\n\u001b[1;32m    413\u001b[0m         \u001b[0mready\u001b[0m \u001b[0;34m=\u001b[0m \u001b[0;34m[\u001b[0m\u001b[0;34m]\u001b[0m\u001b[0;34m\u001b[0m\u001b[0;34m\u001b[0m\u001b[0m\n\u001b[1;32m    414\u001b[0m         \u001b[0;32mtry\u001b[0m\u001b[0;34m:\u001b[0m\u001b[0;34m\u001b[0m\u001b[0;34m\u001b[0m\u001b[0m\n\u001b[0;32m--> 415\u001b[0;31m             \u001b[0mfd_event_list\u001b[0m \u001b[0;34m=\u001b[0m \u001b[0mself\u001b[0m\u001b[0;34m.\u001b[0m\u001b[0m_selector\u001b[0m\u001b[0;34m.\u001b[0m\u001b[0mpoll\u001b[0m\u001b[0;34m(\u001b[0m\u001b[0mtimeout\u001b[0m\u001b[0;34m)\u001b[0m\u001b[0;34m\u001b[0m\u001b[0;34m\u001b[0m\u001b[0m\n\u001b[0m\u001b[1;32m    416\u001b[0m         \u001b[0;32mexcept\u001b[0m \u001b[0mInterruptedError\u001b[0m\u001b[0;34m:\u001b[0m\u001b[0;34m\u001b[0m\u001b[0;34m\u001b[0m\u001b[0m\n\u001b[1;32m    417\u001b[0m             \u001b[0;32mreturn\u001b[0m \u001b[0mready\u001b[0m\u001b[0;34m\u001b[0m\u001b[0;34m\u001b[0m\u001b[0m\n",
      "\u001b[0;31mKeyboardInterrupt\u001b[0m: "
     ]
    }
   ],
   "source": [
    "LandingCCA(iter(loader_A), iter(loader_A), p = 10, learning_rate = 1e-3, lambda_regul = 1,  n_epochs=5, device = 'cuda')"
   ]
  },
  {
   "cell_type": "code",
   "execution_count": 10,
   "metadata": {},
   "outputs": [
    {
     "data": {
      "image/png": "[encoded data removed]",
      "text/plain": [
       "<Figure size 432x288 with 2 Axes>"
      ]
     },
     "metadata": {
      "needs_background": "light"
     },
     "output_type": "display_data"
    },
    {
     "data": {
      "image/png": "[encoded data removed]",
      "text/plain": [
       "<Figure size 432x288 with 2 Axes>"
      ]
     },
     "metadata": {
      "needs_background": "light"
     },
     "output_type": "display_data"
    },
    {
     "data": {
      "image/png": "[encoded data removed]",
      "text/plain": [
       "<Figure size 432x288 with 2 Axes>"
      ]
     },
     "metadata": {
      "needs_background": "light"
     },
     "output_type": "display_data"
    }
   ],
   "source": [
    "plt.imshow(dist1.cpu().detach().numpy()/len(trainloader))\n",
    "plt.colorbar()\n",
    "plt.show()\n",
    "\n",
    "plt.imshow(dist2.cpu().detach().numpy()/len(trainloader))\n",
    "plt.colorbar()\n",
    "plt.show()\n",
    "\n",
    "plt.imshow((Q1.T @ features1.T@ features2 @ Q2).cpu().detach().numpy())\n",
    "plt.colorbar()\n",
    "plt.show()"
   ]
  },
  {
   "cell_type": "code",
   "execution_count": 12,
   "metadata": {},
   "outputs": [
    {
     "data": {
      "image/png": "[encoded data removed]",
      "text/plain": [
       "<Figure size 432x288 with 2 Axes>"
      ]
     },
     "metadata": {
      "needs_background": "light"
     },
     "output_type": "display_data"
    },
    {
     "data": {
      "image/png": "[encoded data removed]",
      "text/plain": [
       "<Figure size 432x288 with 2 Axes>"
      ]
     },
     "metadata": {
      "needs_background": "light"
     },
     "output_type": "display_data"
    },
    {
     "data": {
      "image/png": "[encoded data removed]",
      "text/plain": [
       "<Figure size 432x288 with 2 Axes>"
      ]
     },
     "metadata": {
      "needs_background": "light"
     },
     "output_type": "display_data"
    }
   ],
   "source": [
    "plt.imshow((Q2.T @ features2.T@ features2 @ Q2).cpu().detach().numpy())\n",
    "plt.colorbar()\n",
    "plt.show()\n",
    "\n",
    "plt.imshow((Q1.T @ features1.T@ features1 @ Q1).cpu().detach().numpy())\n",
    "plt.colorbar()\n",
    "plt.show()\n",
    "\n",
    "plt.imshow((Q1.T @ features1.T@ features2 @ Q2).cpu().detach().numpy())\n",
    "plt.colorbar()\n",
    "plt.show()"
   ]
  },
  {
   "cell_type": "code",
   "execution_count": null,
   "metadata": {},
   "outputs": [
    {
     "data": {
      "text/plain": [
       "tensor(25.3942, device='cuda:0', grad_fn=<SumBackward0>)"
      ]
     },
     "execution_count": 387,
     "metadata": {},
     "output_type": "execute_result"
    }
   ],
   "source": [
    "torch.diag(Q1.T @ features1.T@ features2 @ Q2).sum()"
   ]
  },
  {
   "cell_type": "code",
   "execution_count": null,
   "metadata": {},
   "outputs": [
    {
     "ename": "RuntimeError",
     "evalue": "mat1 and mat2 shapes cannot be multiplied (848x32768 and 16384x848)",
     "output_type": "error",
     "traceback": [
      "\u001b[0;31m---------------------------------------------------------------------------\u001b[0m",
      "\u001b[0;31mRuntimeError\u001b[0m                              Traceback (most recent call last)",
      "\u001b[0;32m/tmp/ipykernel_641341/4260050219.py\u001b[0m in \u001b[0;36m<module>\u001b[0;34m\u001b[0m\n\u001b[0;32m----> 1\u001b[0;31m \u001b[0mtorch\u001b[0m\u001b[0;34m.\u001b[0m\u001b[0mlinalg\u001b[0m\u001b[0;34m.\u001b[0m\u001b[0mnorm\u001b[0m\u001b[0;34m(\u001b[0m\u001b[0mfeatures1\u001b[0m \u001b[0;34m@\u001b[0m \u001b[0mfeatures2\u001b[0m\u001b[0;34m.\u001b[0m\u001b[0mT\u001b[0m\u001b[0;34m)\u001b[0m\u001b[0;34m\u001b[0m\u001b[0;34m\u001b[0m\u001b[0m\n\u001b[0m",
      "\u001b[0;31mRuntimeError\u001b[0m: mat1 and mat2 shapes cannot be multiplied (848x32768 and 16384x848)"
     ]
    }
   ],
   "source": [
    "torch.linalg.norm(features1 @ features2.T)"
   ]
  },
  {
   "cell_type": "code",
   "execution_count": null,
   "metadata": {},
   "outputs": [
    {
     "data": {
      "text/plain": [
       "tensor(1.7435, device='cuda:0', grad_fn=<LinalgVectorNormBackward0>)"
      ]
     },
     "execution_count": 243,
     "metadata": {},
     "output_type": "execute_result"
    }
   ],
   "source": [
    "torch.linalg.norm(features1 @ Q1 @ Q2.T @ features2.T)"
   ]
  },
  {
   "cell_type": "code",
   "execution_count": null,
   "metadata": {},
   "outputs": [
    {
     "data": {
      "text/plain": [
       "torch.Size([80, 80])"
      ]
     },
     "execution_count": 242,
     "metadata": {},
     "output_type": "execute_result"
    }
   ],
   "source": [
    "(features1 @ Q1 @ Q2.T @ features2.T).shape"
   ]
  },
  {
   "cell_type": "code",
   "execution_count": null,
   "metadata": {},
   "outputs": [
    {
     "data": {
      "text/plain": [
       "torch.Size([80, 80])"
      ]
     },
     "execution_count": 241,
     "metadata": {},
     "output_type": "execute_result"
    }
   ],
   "source": [
    "(features1 @ features2.T).shape"
   ]
  },
  {
   "cell_type": "code",
   "execution_count": 217,
   "metadata": {},
   "outputs": [
    {
     "ename": "NameError",
     "evalue": "name 'B_sqrt_inv' is not defined",
     "output_type": "error",
     "traceback": [
      "\u001b[0;31m---------------------------------------------------------------------------\u001b[0m",
      "\u001b[0;31mNameError\u001b[0m                                 Traceback (most recent call last)",
      "\u001b[0;32m/tmp/ipykernel_641341/1391235975.py\u001b[0m in \u001b[0;36m<module>\u001b[0;34m\u001b[0m\n\u001b[0;32m----> 1\u001b[0;31m \u001b[0mx_true\u001b[0m \u001b[0;34m=\u001b[0m \u001b[0mB_sqrt_inv\u001b[0m  \u001b[0;34m@\u001b[0m \u001b[0muG\u001b[0m\u001b[0;34m[\u001b[0m\u001b[0;34m:\u001b[0m\u001b[0;34m,\u001b[0m\u001b[0;34m:\u001b[0m\u001b[0mp\u001b[0m\u001b[0;34m]\u001b[0m\u001b[0;34m\u001b[0m\u001b[0;34m\u001b[0m\u001b[0m\n\u001b[0m",
      "\u001b[0;31mNameError\u001b[0m: name 'B_sqrt_inv' is not defined"
     ]
    }
   ],
   "source": [
    "x_true = B_sqrt_inv  @ uG[:,:p]"
   ]
  },
  {
   "cell_type": "code",
   "execution_count": 204,
   "metadata": {},
   "outputs": [
    {
     "data": {
      "text/plain": [
       "tensor(4.3785, device='cuda:0', grad_fn=<LinalgVectorNormBackward0>)"
      ]
     },
     "execution_count": 204,
     "metadata": {},
     "output_type": "execute_result"
    }
   ],
   "source": [
    "torch.linalg.norm((features1 @ Q1).T @ (features1 @ Q1) - torch.eye(p,p, device = device))"
   ]
  },
  {
   "cell_type": "code",
   "execution_count": 218,
   "metadata": {},
   "outputs": [
    {
     "data": {
      "text/plain": [
       "tensor([0.3751, 0.4544, 0.3530, 0.4672, 0.3098, 0.4153, 0.3651, 0.4537, 0.3104,\n",
       "        0.4110, 0.4458, 0.3260, 0.3644, 0.4497, 0.4044, 0.4983, 0.4550, 0.3374,\n",
       "        0.3649, 0.3223, 0.4536, 0.3510, 0.5946, 0.3729, 0.4212, 0.4352, 0.5927,\n",
       "        0.4242, 0.3799, 0.4061, 0.4219, 0.4915, 0.3397, 0.4305, 0.4621, 0.5205,\n",
       "        0.3581, 0.3714, 0.3048, 0.3836], device='cuda:0',\n",
       "       grad_fn=<DiagBackward0>)"
      ]
     },
     "execution_count": 218,
     "metadata": {},
     "output_type": "execute_result"
    }
   ],
   "source": [
    "torch.diag((features1 @ Q1).T @ (features2 @ Q2))"
   ]
  },
  {
   "cell_type": "code",
   "execution_count": 219,
   "metadata": {},
   "outputs": [
    {
     "data": {
      "text/plain": [
       "tensor(-17784.1172, device='cuda:0')"
      ]
     },
     "execution_count": 219,
     "metadata": {},
     "output_type": "execute_result"
    }
   ],
   "source": [
    "torch.trace( (features1).T @ features2 )"
   ]
  },
  {
   "cell_type": "code",
   "execution_count": 321,
   "metadata": {},
   "outputs": [
    {
     "data": {
      "text/plain": [
       "tensor(0.6224, device='cuda:0', grad_fn=<DivBackward0>)"
      ]
     },
     "execution_count": 321,
     "metadata": {},
     "output_type": "execute_result"
    }
   ],
   "source": [
    "torch.trace( (features1 @ Q1).T @ features2 @ Q2) / 40"
   ]
  },
  {
   "cell_type": "code",
   "execution_count": 221,
   "metadata": {},
   "outputs": [
    {
     "data": {
      "image/png": "[encoded data removed]",
      "text/plain": [
       "<Figure size 432x288 with 2 Axes>"
      ]
     },
     "metadata": {
      "needs_background": "light"
     },
     "output_type": "display_data"
    },
    {
     "data": {
      "image/png": "[encoded data removed]",
      "text/plain": [
       "<Figure size 432x288 with 2 Axes>"
      ]
     },
     "metadata": {
      "needs_background": "light"
     },
     "output_type": "display_data"
    },
    {
     "data": {
      "image/png": "[encoded data removed]",
      "text/plain": [
       "<Figure size 432x288 with 2 Axes>"
      ]
     },
     "metadata": {
      "needs_background": "light"
     },
     "output_type": "display_data"
    }
   ],
   "source": [
    "plt.imshow((Q2.T @ features2.T@ features2 @ Q2).cpu().detach().numpy())\n",
    "plt.colorbar()\n",
    "plt.show()\n",
    "\n",
    "plt.imshow((Q1.T @ features1.T@ features1 @ Q1).cpu().detach().numpy())\n",
    "plt.colorbar()\n",
    "plt.show()\n",
    "\n",
    "plt.imshow((Q1.T @ features1.T@ features2 @ Q2).cpu().detach().numpy())\n",
    "plt.colorbar()\n",
    "plt.show()"
   ]
  },
  {
   "cell_type": "code",
   "execution_count": 246,
   "metadata": {},
   "outputs": [
    {
     "data": {
      "text/plain": [
       "tensor(6.8522, device='cuda:0', grad_fn=<TraceBackward0>)"
      ]
     },
     "execution_count": 246,
     "metadata": {},
     "output_type": "execute_result"
    }
   ],
   "source": [
    "torch.trace(Q1.T @ features1.T@ features2 @ Q2)"
   ]
  },
  {
   "cell_type": "code",
   "execution_count": 19,
   "metadata": {},
   "outputs": [
    {
     "data": {
      "text/plain": [
       "torch.Size([80, 40])"
      ]
     },
     "execution_count": 19,
     "metadata": {},
     "output_type": "execute_result"
    }
   ],
   "source": [
    "(features1 @ Q1).T @ "
   ]
  },
  {
   "cell_type": "code",
   "execution_count": 53,
   "metadata": {},
   "outputs": [],
   "source": [
    "D1 = (features1 @ Q1).cpu().detach().numpy()\n",
    "D2 = (features2 @ Q2).cpu().detach().numpy()\n",
    "\n",
    "D1 = (D1 - D1.mean(axis=0)) #  / D1.std(axis=0) \n",
    "D2 = (D2 - D2.mean(axis=0)) # / D2.std(axis=0)\n",
    "Cov12 = D1.T @ D2 / D1.shape[0]\n"
   ]
  },
  {
   "cell_type": "code",
   "execution_count": 55,
   "metadata": {},
   "outputs": [],
   "source": [
    "from scipy.stats import pearsonr"
   ]
  },
  {
   "cell_type": "code",
   "execution_count": 54,
   "metadata": {},
   "outputs": [
    {
     "data": {
      "text/plain": [
       "<matplotlib.colorbar.Colorbar at 0x7f1d782c6fa0>"
      ]
     },
     "execution_count": 54,
     "metadata": {},
     "output_type": "execute_result"
    },
    {
     "data": {
      "image/png": "[encoded data removed]",
      "text/plain": [
       "<Figure size 432x288 with 2 Axes>"
      ]
     },
     "metadata": {
      "needs_background": "light"
     },
     "output_type": "display_data"
    }
   ],
   "source": [
    "plt.imshow(Cov12 / ())\n",
    "plt.colorbar()"
   ]
  },
  {
   "cell_type": "code",
   "execution_count": 56,
   "metadata": {},
   "outputs": [
    {
     "ename": "TypeError",
     "evalue": "corrcoef() takes 1 positional argument but 2 were given",
     "output_type": "error",
     "traceback": [
      "\u001b[0;31m---------------------------------------------------------------------------\u001b[0m",
      "\u001b[0;31mTypeError\u001b[0m                                 Traceback (most recent call last)",
      "\u001b[0;32m/tmp/ipykernel_641341/2447054774.py\u001b[0m in \u001b[0;36m<module>\u001b[0;34m\u001b[0m\n\u001b[0;32m----> 1\u001b[0;31m \u001b[0mtorch\u001b[0m\u001b[0;34m.\u001b[0m\u001b[0mcorrcoef\u001b[0m\u001b[0;34m(\u001b[0m\u001b[0;34m(\u001b[0m\u001b[0mfeatures1\u001b[0m \u001b[0;34m@\u001b[0m \u001b[0mQ1\u001b[0m\u001b[0;34m)\u001b[0m\u001b[0;34m.\u001b[0m\u001b[0mT\u001b[0m\u001b[0;34m,\u001b[0m \u001b[0;34m(\u001b[0m\u001b[0mfeatures2\u001b[0m \u001b[0;34m@\u001b[0m \u001b[0mQ2\u001b[0m\u001b[0;34m)\u001b[0m\u001b[0;34m.\u001b[0m\u001b[0mT\u001b[0m\u001b[0;34m)\u001b[0m\u001b[0;34m\u001b[0m\u001b[0;34m\u001b[0m\u001b[0m\n\u001b[0m",
      "\u001b[0;31mTypeError\u001b[0m: corrcoef() takes 1 positional argument but 2 were given"
     ]
    }
   ],
   "source": [
    "torch.corrcoef((features1 @ Q1).T, (features2 @ Q2).T)"
   ]
  },
  {
   "cell_type": "code",
   "execution_count": 17,
   "metadata": {},
   "outputs": [
    {
     "data": {
      "text/plain": [
       "torch.Size([32768, 40])"
      ]
     },
     "execution_count": 17,
     "metadata": {},
     "output_type": "execute_result"
    }
   ],
   "source": [
    "Q1.shape"
   ]
  },
  {
   "cell_type": "code",
   "execution_count": 244,
   "metadata": {},
   "outputs": [
    {
     "data": {
      "text/plain": [
       "tensor(2588672., device='cuda:0')"
      ]
     },
     "execution_count": 244,
     "metadata": {},
     "output_type": "execute_result"
    }
   ],
   "source": [
    "(features1 * features1).sum()"
   ]
  },
  {
   "cell_type": "code",
   "execution_count": 245,
   "metadata": {},
   "outputs": [
    {
     "data": {
      "text/plain": [
       "<matplotlib.colorbar.Colorbar at 0x7f3f8963b820>"
      ]
     },
     "execution_count": 245,
     "metadata": {},
     "output_type": "execute_result"
    },
    {
     "data": {
      "image/png": "[encoded data removed]",
      "text/plain": [
       "<Figure size 432x288 with 2 Axes>"
      ]
     },
     "metadata": {
      "needs_background": "light"
     },
     "output_type": "display_data"
    }
   ],
   "source": [
    "plt.imshow((Q1.T @ Q2).cpu().detach().numpy())\n",
    "plt.colorbar()"
   ]
  },
  {
   "cell_type": "code",
   "execution_count": 17,
   "metadata": {},
   "outputs": [],
   "source": [
    "for batch_idx, (batch_x, batch_y) in enumerate(trainloader):\n",
    "        batch_x, batch_y = batch_x.to(device), batch_y.to(device)\n",
    "        with torch.no_grad():\n",
    "            features1 = model1.features(batch_x).squeeze()\n",
    "            features2 = model2.features(batch_x).squeeze()\n",
    "        covXY += features1.T @ features2 / batch_x.size(0)\n",
    "        covX += features1.T @ features1 / batch_x.size(0)\n",
    "        covY += features2.T @ features2 / batch_x.size(0)"
   ]
  },
  {
   "cell_type": "code",
   "execution_count": 41,
   "metadata": {},
   "outputs": [
    {
     "data": {
      "text/plain": [
       "50000"
      ]
     },
     "execution_count": 41,
     "metadata": {},
     "output_type": "execute_result"
    }
   ],
   "source": [
    "len(trainloader.dataset)"
   ]
  },
  {
   "cell_type": "code",
   "execution_count": 18,
   "metadata": {},
   "outputs": [],
   "source": [
    "loss = -.5*torch.trace( Q1.T @ features1.T @ features2 @ Q2)"
   ]
  },
  {
   "cell_type": "code",
   "execution_count": 22,
   "metadata": {},
   "outputs": [],
   "source": [
    "loss.backward()"
   ]
  },
  {
   "cell_type": "code",
   "execution_count": 23,
   "metadata": {},
   "outputs": [],
   "source": [
    "optimizerCCA.step(((features1.T@ features1, features2.T@ features2),))"
   ]
  },
  {
   "cell_type": "code",
   "execution_count": 25,
   "metadata": {},
   "outputs": [],
   "source": [
    "train_loss =+ loss.item() * batch_x.size(0)"
   ]
  },
  {
   "cell_type": "code",
   "execution_count": 34,
   "metadata": {},
   "outputs": [
    {
     "data": {
      "text/plain": [
       "-0.34627026319503784"
      ]
     },
     "execution_count": 34,
     "metadata": {},
     "output_type": "execute_result"
    }
   ],
   "source": [
    "loss.item()"
   ]
  },
  {
   "cell_type": "code",
   "execution_count": 36,
   "metadata": {},
   "outputs": [
    {
     "data": {
      "text/plain": [
       "tensor(-0.3463, device='cuda:0', grad_fn=<MulBackward0>)"
      ]
     },
     "execution_count": 36,
     "metadata": {},
     "output_type": "execute_result"
    }
   ],
   "source": [
    "-.5*torch.trace( Q1.T @ features1.T @ features2 @ Q2)"
   ]
  },
  {
   "cell_type": "code",
   "execution_count": 18,
   "metadata": {},
   "outputs": [],
   "source": [
    "trainloader_enum = enumerate(trainloader)"
   ]
  },
  {
   "cell_type": "code",
   "execution_count": 33,
   "metadata": {},
   "outputs": [],
   "source": [
    "i, (batch_x, batch_y) = trainloader_enum.__next__()\n",
    "batch_x, batch_y = batch_x.to(device), batch_y.to(device)"
   ]
  },
  {
   "cell_type": "code",
   "execution_count": 87,
   "metadata": {},
   "outputs": [],
   "source": [
    "A1 = model1.features(batch_x)[:,:,0,0].cpu().detach().numpy()\n",
    "A2 = model1.features(batch_x)[:,:,0,0].cpu().detach().numpy()"
   ]
  },
  {
   "cell_type": "code",
   "execution_count": 142,
   "metadata": {},
   "outputs": [],
   "source": [
    "n = 512\n",
    "p = 10\n",
    "Q1 = torch.randn(n, p, device = device, requires_grad=True)\n",
    "Q2 = torch.randn(n, p, device = device, requires_grad=True)"
   ]
  },
  {
   "cell_type": "code",
   "execution_count": 145,
   "metadata": {},
   "outputs": [],
   "source": [
    "optimizer_cca = optim.SGD((Q1, Q2), lr=1e-6)"
   ]
  },
  {
   "cell_type": "code",
   "execution_count": 147,
   "metadata": {},
   "outputs": [
    {
     "name": "stdout",
     "output_type": "stream",
     "text": [
      "-11.53541328125\n",
      "-12.8180953125\n",
      "-10.70384453125\n",
      "-10.55670625\n",
      "-10.276184375\n",
      "-11.49911875\n",
      "-10.47547421875\n",
      "-10.5956484375\n",
      "-9.82373359375\n",
      "-9.57715546875\n",
      "-10.41351875\n",
      "-10.265225\n",
      "-10.7919796875\n",
      "-10.0132453125\n",
      "-9.96588125\n"
     ]
    }
   ],
   "source": [
    "best_test_acc = 0.\n",
    "model1.eval()\n",
    "model2.eval()\n",
    "for epoch in range(n_epochs):\n",
    "    train_loss = 0.0\n",
    "    for batch_idx, (batch_x, batch_y) in enumerate(trainloader):\n",
    "        batch_x, batch_y = batch_x.to(device), batch_y.to(device)\n",
    "        A1 = model1.features(batch_x)[:,:,0,0].detach()\n",
    "        A2 = model2.features(batch_x)[:,:,0,0].detach()\n",
    "        loss = - torch.trace(Q1.T@ (A1.T @ A2) @ Q2)\n",
    "        train_loss =+ loss.item() * batch_x.size(0)\n",
    "        optimizer_cca.zero_grad()\n",
    "        loss.backward()\n",
    "        optimizer_cca.step()\n",
    "        with torch.no_grad():\n",
    "            Q1,_ = torch.linalg.qr(Q1)\n",
    "            Q2,_ = torch.linalg.qr(Q2)\n",
    "        Q1.requires_grad = True\n",
    "        Q2.requires_grad = True\n",
    "    print(train_loss/len(trainset))"
   ]
  },
  {
   "cell_type": "code",
   "execution_count": 139,
   "metadata": {},
   "outputs": [
    {
     "data": {
      "text/plain": [
       "tensor([[ 1.0000e+00,  5.5879e-09, -2.7940e-09, -9.3132e-09,  9.3132e-10,\n",
       "          4.6566e-09, -8.8476e-09, -1.2107e-08, -1.9558e-08, -5.5879e-09],\n",
       "        [ 5.5879e-09,  1.0000e+00,  3.2596e-09,  1.1642e-09,  6.7521e-09,\n",
       "          3.7253e-09, -5.1223e-09, -1.8626e-09, -2.7940e-09,  1.0245e-08],\n",
       "        [-2.7940e-09,  3.2596e-09,  1.0000e+00, -2.3283e-10, -8.3819e-09,\n",
       "          4.1910e-09, -1.3970e-08, -3.2596e-09, -9.3132e-10, -6.5193e-09],\n",
       "        [-9.3132e-09,  1.1642e-09, -2.3283e-10,  1.0000e+00, -1.5600e-08,\n",
       "          0.0000e+00,  1.8626e-09,  4.6566e-10,  2.3283e-10,  4.6566e-10],\n",
       "        [ 9.3132e-10,  6.7521e-09, -8.3819e-09, -1.5600e-08,  1.0000e+00,\n",
       "         -4.6566e-10, -8.3819e-09,  4.6566e-09,  5.5879e-09,  3.7253e-09],\n",
       "        [ 4.6566e-09,  3.7253e-09,  4.1910e-09,  0.0000e+00, -4.6566e-10,\n",
       "          1.0000e+00,  2.4680e-08,  2.7940e-09, -5.5879e-09,  3.2596e-09],\n",
       "        [-8.8476e-09, -5.1223e-09, -1.3970e-08,  1.8626e-09, -8.3819e-09,\n",
       "          2.4680e-08,  1.0000e+00,  2.5611e-09, -5.5879e-09,  2.7940e-09],\n",
       "        [-1.2107e-08, -1.8626e-09, -3.2596e-09,  4.6566e-10,  4.6566e-09,\n",
       "          2.7940e-09,  2.5611e-09,  1.0000e+00, -1.5367e-08,  0.0000e+00],\n",
       "        [-1.9558e-08, -2.7940e-09, -9.3132e-10,  2.3283e-10,  5.5879e-09,\n",
       "         -5.5879e-09, -5.5879e-09, -1.5367e-08,  1.0000e+00, -2.0955e-09],\n",
       "        [-5.5879e-09,  1.0245e-08, -6.5193e-09,  4.6566e-10,  3.7253e-09,\n",
       "          3.2596e-09,  2.7940e-09,  0.0000e+00, -2.0955e-09,  1.0000e+00]],\n",
       "       device='cuda:0', grad_fn=<MmBackward0>)"
      ]
     },
     "execution_count": 139,
     "metadata": {},
     "output_type": "execute_result"
    }
   ],
   "source": [
    "Q1.T@Q1"
   ]
  },
  {
   "cell_type": "code",
   "execution_count": 89,
   "metadata": {},
   "outputs": [],
   "source": [
    "from sklearn.cross_decomposition import CCA"
   ]
  },
  {
   "cell_type": "code",
   "execution_count": 96,
   "metadata": {},
   "outputs": [
    {
     "data": {
      "text/plain": [
       "CCA(n_components=10)"
      ]
     },
     "execution_count": 96,
     "metadata": {},
     "output_type": "execute_result"
    }
   ],
   "source": [
    "cca = CCA(n_components=10)\n",
    "cca.fit(A1, A2)"
   ]
  },
  {
   "cell_type": "code",
   "execution_count": 99,
   "metadata": {},
   "outputs": [
    {
     "data": {
      "text/plain": [
       "0.5813387144987419"
      ]
     },
     "execution_count": 99,
     "metadata": {},
     "output_type": "execute_result"
    }
   ],
   "source": [
    "cca.score(A1, A2)"
   ]
  },
  {
   "cell_type": "code",
   "execution_count": 92,
   "metadata": {},
   "outputs": [],
   "source": [
    "X_c, Y_c = cca.transform(A1, A2)"
   ]
  },
  {
   "cell_type": "code",
   "execution_count": 75,
   "metadata": {},
   "outputs": [],
   "source": [
    "(U, S, V) = torch.pca_lowrank(A1.T@A2, q = 100, center=True, niter=20)"
   ]
  },
  {
   "cell_type": "code",
   "execution_count": 84,
   "metadata": {},
   "outputs": [
    {
     "data": {
      "text/plain": [
       "array([1.0347093e+04, 5.0820493e+03, 3.5821323e+03, 2.9084653e+03,\n",
       "       2.4939863e+03, 1.8302538e+03, 1.3989786e+03, 1.1476134e+03,\n",
       "       8.5155157e+02, 6.2643530e+02, 2.4559721e+02, 7.1573997e+01,\n",
       "       5.0670170e+01, 4.8174137e+01, 4.1952473e+01, 3.7283165e+01,\n",
       "       3.6203281e+01, 3.1056530e+01, 2.5350792e+01, 2.4845078e+01,\n",
       "       2.2801348e+01, 2.0585983e+01, 1.9518456e+01, 1.7976635e+01,\n",
       "       1.6180603e+01, 1.5687751e+01, 1.3683533e+01, 1.2015533e+01,\n",
       "       1.0651150e+01, 1.0012889e+01, 9.1580162e+00, 8.3238554e+00,\n",
       "       7.8208060e+00, 7.5031281e+00, 6.8287992e+00, 6.1659822e+00,\n",
       "       5.9519992e+00, 5.1096954e+00, 4.9533033e+00, 4.3717241e+00,\n",
       "       4.1098890e+00, 3.8927417e+00, 3.5315640e+00, 3.5272615e+00,\n",
       "       3.4553266e+00, 3.2666328e+00, 3.1249063e+00, 3.0096223e+00,\n",
       "       2.7635863e+00, 2.6369815e+00], dtype=float32)"
      ]
     },
     "execution_count": 84,
     "metadata": {},
     "output_type": "execute_result"
    }
   ],
   "source": [
    "S.cpu().detach().numpy()[:50]"
   ]
  },
  {
   "cell_type": "code",
   "execution_count": 82,
   "metadata": {},
   "outputs": [
    {
     "data": {
      "text/plain": [
       "[<matplotlib.lines.Line2D at 0x7fb110b2f5e0>]"
      ]
     },
     "execution_count": 82,
     "metadata": {},
     "output_type": "execute_result"
    },
    {
     "data": {
      "image/png": "[encoded data removed]",
      "text/plain": [
       "<Figure size 432x288 with 1 Axes>"
      ]
     },
     "metadata": {
      "needs_background": "light"
     },
     "output_type": "display_data"
    }
   ],
   "source": [
    "plt.semilogy(S.cpu().detach().numpy())"
   ]
  },
  {
   "cell_type": "code",
   "execution_count": 69,
   "metadata": {},
   "outputs": [
    {
     "data": {
      "text/plain": [
       "torch.Size([128, 512])"
      ]
     },
     "execution_count": 69,
     "metadata": {},
     "output_type": "execute_result"
    }
   ],
   "source": [
    "A1.shape"
   ]
  },
  {
   "cell_type": "code",
   "execution_count": 23,
   "metadata": {},
   "outputs": [
    {
     "data": {
      "text/plain": [
       "128"
      ]
     },
     "execution_count": 23,
     "metadata": {},
     "output_type": "execute_result"
    }
   ],
   "source": [
    "trainloader.batch_size"
   ]
  },
  {
   "cell_type": "code",
   "execution_count": 32,
   "metadata": {},
   "outputs": [
    {
     "data": {
      "text/plain": [
       "torch.Size([128, 3, 32, 32])"
      ]
     },
     "execution_count": 32,
     "metadata": {},
     "output_type": "execute_result"
    }
   ],
   "source": [
    "batch_x.shape"
   ]
  },
  {
   "cell_type": "code",
   "execution_count": null,
   "metadata": {},
   "outputs": [],
   "source": []
  }
 ],
 "metadata": {
  "kernelspec": {
   "display_name": "landing",
   "language": "python",
   "name": "python3"
  },
  "language_info": {
   "codemirror_mode": {
    "name": "ipython",
    "version": 3
   },
   "file_extension": ".py",
   "mimetype": "text/x-python",
   "name": "python",
   "nbconvert_exporter": "python",
   "pygments_lexer": "ipython3",
   "version": "3.8.15"
  },
  "orig_nbformat": 4,
  "vscode": {
   "interpreter": {
    "hash": "91fb3ebf0d9504166a4264755ce4c2b4bd7f0c5db33bebc72cad48811027e9a9"
   }
  }
 },
 "nbformat": 4,
 "nbformat_minor": 2
}
