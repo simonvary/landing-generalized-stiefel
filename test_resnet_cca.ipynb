{
 "cells": [
  {
   "cell_type": "code",
   "execution_count": 2,
   "metadata": {},
   "outputs": [],
   "source": [
    "\"\"\"\n",
    "A simple example of the Stiefel landing algorithm on PCA problem\n",
    "\"\"\"\n",
    "from time import time\n",
    "\n",
    "import matplotlib.pyplot as plt\n",
    "\n",
    "import numpy as np\n",
    "\n",
    "import torch\n",
    "\n",
    "import torch.optim as optim\n",
    "import torch.nn as nn\n",
    "import torch.nn.functional as F\n",
    "\n",
    "import torchvision\n",
    "import torchvision.transforms as transforms\n",
    "\n",
    "from models import VGG16, ResNet18\n",
    "\n",
    "from solvers import GeneralizedLanding, LandingGeneralizedStiefel\n",
    "\n",
    "\n",
    "import cupy as cp\n",
    "from scipy.linalg import eigh"
   ]
  },
  {
   "cell_type": "code",
   "execution_count": 26,
   "metadata": {},
   "outputs": [],
   "source": [
    "transform = transforms.Compose(\n",
    "    [transforms.ToTensor(),\n",
    "     transforms.Normalize((0.5, 0.5, 0.5), (0.5, 0.5, 0.5))])\n",
    "\n",
    "batch_size = 128\n",
    "\n",
    "trainset = torchvision.datasets.CIFAR10(root='data', train=True,\n",
    "                                        download=False, transform=transform)\n",
    "trainloader = torch.utils.data.DataLoader(trainset, batch_size=batch_size, shuffle=True, num_workers=2)\n",
    "\n",
    "testset = torchvision.datasets.CIFAR10(root='data', train=False,\n",
    "                                       download=False, transform=transform)\n",
    "testloader = torch.utils.data.DataLoader(testset, batch_size=batch_size, shuffle=False, num_workers=2)\n",
    "\n",
    "classes = ('plane', 'car', 'bird', 'cat',\n",
    "           'deer', 'dog', 'frog', 'horse', 'ship', 'truck')"
   ]
  },
  {
   "cell_type": "code",
   "execution_count": 27,
   "metadata": {},
   "outputs": [],
   "source": [
    "#model1 = torch.hub.load('pytorch/vision:v0.10.0', 'resnet18', pretrained=True)\n",
    "#model2 = torch.hub.load('pytorch/vision:v0.10.0', 'resnet34', pretrained = True)"
   ]
  },
  {
   "cell_type": "code",
   "execution_count": 28,
   "metadata": {},
   "outputs": [],
   "source": [
    "n_epochs = 15\n",
    "device = 'cuda'\n",
    "\n",
    "model1 = VGG16()\n",
    "model1.to(device)\n",
    "\n",
    "optimizer1 = optim.SGD(model1.parameters(), lr=1e-1, weight_decay=5e-4)\n",
    "\n",
    "model2 = VGG16()\n",
    "model2.to(device)\n",
    "\n",
    "optimizer2 = optim.SGD(model2.parameters(), lr=1e-1, weight_decay=5e-4)\n"
   ]
  },
  {
   "cell_type": "code",
   "execution_count": 29,
   "metadata": {},
   "outputs": [],
   "source": [
    "def train(model, optimizer, n_epochs):\n",
    "    best_test_acc = 0.\n",
    "    for epoch in range(n_epochs):\n",
    "        model.train()\n",
    "        train_loss = 0.0\n",
    "        for batch_idx, (batch_x, batch_y) in enumerate(trainloader):\n",
    "            batch_x, batch_y = batch_x.to(device), batch_y.to(device)\n",
    "            logits = model(batch_x)\n",
    "            loss = model.loss(logits, batch_y)\n",
    "            train_loss =+ loss.item() * batch_x.size(0)\n",
    "            optimizer.zero_grad()\n",
    "            loss.backward()\n",
    "            optimizer.step()\n",
    "        print(train_loss)\n",
    "\n",
    "        # Test\n",
    "        model.eval()\n",
    "        with torch.no_grad():\n",
    "            test_loss = 0.\n",
    "            correct = 0.\n",
    "            for batch_x, batch_y in testloader:\n",
    "                batch_x, batch_y = batch_x.to(device), batch_y.to(device)\n",
    "                logits = model(batch_x)\n",
    "                loss = model.loss(logits, batch_y)\n",
    "                test_loss += loss.item() * batch_x.size(0)\n",
    "                correct += model.correct(logits, batch_y).item()\n",
    "        print(100 * correct / len(testset))"
   ]
  },
  {
   "cell_type": "code",
   "execution_count": 5,
   "metadata": {},
   "outputs": [
    {
     "name": "stdout",
     "output_type": "stream",
     "text": [
      "89.8494815826416\n",
      "47.2\n",
      "61.94353103637695\n",
      "64.77\n",
      "38.10286045074463\n",
      "73.63\n",
      "34.310736656188965\n",
      "73.28\n",
      "21.460959911346436\n",
      "72.27\n",
      "38.13389539718628\n",
      "74.99\n",
      "13.128410577774048\n",
      "80.65\n",
      "14.188045263290405\n",
      "81.41\n",
      "110.63149452209473\n",
      "44.48\n",
      "104.88227844238281\n",
      "54.63\n",
      "65.80914497375488\n",
      "67.96\n",
      "56.83600902557373\n",
      "66.43\n",
      "48.522844314575195\n",
      "73.84\n",
      "28.74070405960083\n",
      "79.23\n",
      "22.080657482147217\n",
      "75.08\n",
      "16.238901615142822\n",
      "76.77\n"
     ]
    }
   ],
   "source": [
    "train(model1, optimizer1, 8)\n",
    "train(model2, optimizer2, 8)"
   ]
  },
  {
   "cell_type": "code",
   "execution_count": 30,
   "metadata": {},
   "outputs": [],
   "source": [
    "model1 = torch.load('VGG16_1.pt')\n",
    "model2 = torch.load('VGG16_2.pt')"
   ]
  },
  {
   "cell_type": "code",
   "execution_count": 31,
   "metadata": {},
   "outputs": [],
   "source": [
    "torch.save(model1, 'VGG16_1.pt')\n",
    "torch.save(model2, 'VGG16_2.pt')"
   ]
  },
  {
   "cell_type": "code",
   "execution_count": 32,
   "metadata": {},
   "outputs": [
    {
     "ename": "AttributeError",
     "evalue": "'VGG16' object has no attribute 'fc2'",
     "output_type": "error",
     "traceback": [
      "\u001b[0;31m---------------------------------------------------------------------------\u001b[0m",
      "\u001b[0;31mAttributeError\u001b[0m                            Traceback (most recent call last)",
      "\u001b[1;32m/home/vary/src/landing-generalized-stiefel/test_resnet_cca.ipynb Cell 9\u001b[0m in \u001b[0;36m<cell line: 7>\u001b[0;34m()\u001b[0m\n\u001b[1;32m      <a href='vscode-notebook-cell://ssh-remote%2Banatole.inma.ucl.ac.be/home/vary/src/landing-generalized-stiefel/test_resnet_cca.ipynb#X12sdnNjb2RlLXJlbW90ZQ%3D%3D?line=3'>4</a>\u001b[0m         activation[name] \u001b[39m=\u001b[39m output\u001b[39m.\u001b[39mdetach()\n\u001b[1;32m      <a href='vscode-notebook-cell://ssh-remote%2Banatole.inma.ucl.ac.be/home/vary/src/landing-generalized-stiefel/test_resnet_cca.ipynb#X12sdnNjb2RlLXJlbW90ZQ%3D%3D?line=4'>5</a>\u001b[0m     \u001b[39mreturn\u001b[39;00m hook\n\u001b[0;32m----> <a href='vscode-notebook-cell://ssh-remote%2Banatole.inma.ucl.ac.be/home/vary/src/landing-generalized-stiefel/test_resnet_cca.ipynb#X12sdnNjb2RlLXJlbW90ZQ%3D%3D?line=6'>7</a>\u001b[0m model1\u001b[39m.\u001b[39;49mfc2\u001b[39m.\u001b[39mregister_forward_hook(get_activation(\u001b[39m'\u001b[39m\u001b[39mfc2\u001b[39m\u001b[39m'\u001b[39m))\n",
      "File \u001b[0;32m~/.loc_conda/envs/landing/lib/python3.8/site-packages/torch/nn/modules/module.py:1185\u001b[0m, in \u001b[0;36mModule.__getattr__\u001b[0;34m(self, name)\u001b[0m\n\u001b[1;32m   1183\u001b[0m     \u001b[39mif\u001b[39;00m name \u001b[39min\u001b[39;00m modules:\n\u001b[1;32m   1184\u001b[0m         \u001b[39mreturn\u001b[39;00m modules[name]\n\u001b[0;32m-> 1185\u001b[0m \u001b[39mraise\u001b[39;00m \u001b[39mAttributeError\u001b[39;00m(\u001b[39m\"\u001b[39m\u001b[39m'\u001b[39m\u001b[39m{}\u001b[39;00m\u001b[39m'\u001b[39m\u001b[39m object has no attribute \u001b[39m\u001b[39m'\u001b[39m\u001b[39m{}\u001b[39;00m\u001b[39m'\u001b[39m\u001b[39m\"\u001b[39m\u001b[39m.\u001b[39mformat(\n\u001b[1;32m   1186\u001b[0m     \u001b[39mtype\u001b[39m(\u001b[39mself\u001b[39m)\u001b[39m.\u001b[39m\u001b[39m__name__\u001b[39m, name))\n",
      "\u001b[0;31mAttributeError\u001b[0m: 'VGG16' object has no attribute 'fc2'"
     ]
    }
   ],
   "source": [
    "activation = {}\n",
    "def get_activation(name):\n",
    "    def hook(model, input, output):\n",
    "        activation[name] = output.detach()\n",
    "    return hook\n",
    "\n",
    "model1.fc2.register_forward_hook(get_activation('fc2'))"
   ]
  },
  {
   "cell_type": "code",
   "execution_count": 33,
   "metadata": {},
   "outputs": [],
   "source": [
    "batch_idx, (batch_x, batch_y) = enumerate(trainloader).__next__()\n",
    "batch_x, batch_y = batch_x.to(device), batch_y.to(device)"
   ]
  },
  {
   "cell_type": "code",
   "execution_count": 34,
   "metadata": {},
   "outputs": [],
   "source": [
    "with torch.no_grad():\n",
    "    features1 = model1.features(batch_x).squeeze()\n",
    "    features2 = model2.features(batch_x).squeeze()\n",
    "\n",
    "p = 20\n",
    "_, S1, Q1 = torch.linalg.svd(features1, full_matrices=False)\n",
    "_, S2, Q2 = torch.linalg.svd(features2, full_matrices=False)\n",
    "Q1 = Q1[:p,:].T / S1[:p]\n",
    "Q2 = Q2[:p,:].T / S2[:p]\n",
    "\n",
    "best_test_acc = 0.\n",
    "p = 20\n",
    "learning_rate = 0.00001\n",
    "lambda_regul = 1\n",
    "Q1 = torch.nn.Parameter(Q1)\n",
    "Q2 = torch.nn.Parameter(Q2)\n",
    "\n",
    "optimizerCCA = LandingGeneralizedStiefel((Q1,Q2), \n",
    "        lr=learning_rate, lambda_regul=lambda_regul)"
   ]
  },
  {
   "cell_type": "code",
   "execution_count": 35,
   "metadata": {},
   "outputs": [
    {
     "name": "stdout",
     "output_type": "stream",
     "text": [
      "-2.6640641408448573e-05\n",
      "5.77320633965428e-06\n",
      "-4.569727479974972e-05\n",
      "-4.8335518840758596e-05\n",
      "-3.4348513509030454e-05\n",
      "-2.047507223323919e-05\n",
      "-2.9813979836035287e-05\n",
      "-2.5274382551288e-05\n",
      "-4.9077466428570915e-05\n",
      "1.192577428810182e-05\n"
     ]
    },
    {
     "ename": "KeyboardInterrupt",
     "evalue": "",
     "output_type": "error",
     "traceback": [
      "\u001b[0;31m---------------------------------------------------------------------------\u001b[0m",
      "\u001b[0;31mKeyboardInterrupt\u001b[0m                         Traceback (most recent call last)",
      "\u001b[1;32m/home/vary/src/landing-generalized-stiefel/test_resnet_cca.ipynb Cell 12\u001b[0m in \u001b[0;36m<cell line: 1>\u001b[0;34m()\u001b[0m\n\u001b[1;32m      <a href='vscode-notebook-cell://ssh-remote%2Banatole.inma.ucl.ac.be/home/vary/src/landing-generalized-stiefel/test_resnet_cca.ipynb#X20sdnNjb2RlLXJlbW90ZQ%3D%3D?line=3'>4</a>\u001b[0m train_loss \u001b[39m=\u001b[39m \u001b[39m0\u001b[39m\n\u001b[1;32m      <a href='vscode-notebook-cell://ssh-remote%2Banatole.inma.ucl.ac.be/home/vary/src/landing-generalized-stiefel/test_resnet_cca.ipynb#X20sdnNjb2RlLXJlbW90ZQ%3D%3D?line=4'>5</a>\u001b[0m \u001b[39mfor\u001b[39;00m batch_idx, (batch_x, batch_y) \u001b[39min\u001b[39;00m \u001b[39menumerate\u001b[39m(trainloader):\n\u001b[0;32m----> <a href='vscode-notebook-cell://ssh-remote%2Banatole.inma.ucl.ac.be/home/vary/src/landing-generalized-stiefel/test_resnet_cca.ipynb#X20sdnNjb2RlLXJlbW90ZQ%3D%3D?line=5'>6</a>\u001b[0m     batch_x, batch_y \u001b[39m=\u001b[39m batch_x\u001b[39m.\u001b[39mto(device), batch_y\u001b[39m.\u001b[39;49mto(device)\n\u001b[1;32m      <a href='vscode-notebook-cell://ssh-remote%2Banatole.inma.ucl.ac.be/home/vary/src/landing-generalized-stiefel/test_resnet_cca.ipynb#X20sdnNjb2RlLXJlbW90ZQ%3D%3D?line=6'>7</a>\u001b[0m     \u001b[39mwith\u001b[39;00m torch\u001b[39m.\u001b[39mno_grad():\n\u001b[1;32m      <a href='vscode-notebook-cell://ssh-remote%2Banatole.inma.ucl.ac.be/home/vary/src/landing-generalized-stiefel/test_resnet_cca.ipynb#X20sdnNjb2RlLXJlbW90ZQ%3D%3D?line=7'>8</a>\u001b[0m         features1 \u001b[39m=\u001b[39m model1\u001b[39m.\u001b[39mfeatures(batch_x)\u001b[39m.\u001b[39msqueeze()\n",
      "\u001b[0;31mKeyboardInterrupt\u001b[0m: "
     ]
    }
   ],
   "source": [
    "for epoch in range(n_epochs):\n",
    "    model1.eval()\n",
    "    model2.eval()\n",
    "    train_loss = 0\n",
    "    for batch_idx, (batch_x, batch_y) in enumerate(trainloader):\n",
    "        batch_x, batch_y = batch_x.to(device), batch_y.to(device)\n",
    "        with torch.no_grad():\n",
    "            features1 = model1.features(batch_x).squeeze()\n",
    "            features2 = model2.features(batch_x).squeeze()\n",
    "        covXY = features1.T @ features2\n",
    "        covX = features1.T @ features1\n",
    "        covY = features2.T @ features2\n",
    "        loss = -.5*torch.trace( Q1.T @ covXY @ Q2) /  (batch_x.size(0)*torch.linalg.norm(features1.T @ features2))\n",
    "        train_loss =+ loss.item() * batch_x.size(0)\n",
    "        optimizerCCA.zero_grad()\n",
    "        loss.backward()\n",
    "        optimizerCCA.step(((features1.T@ features1, features2.T@ features2),))\n",
    "    print(train_loss)\n"
   ]
  },
  {
   "cell_type": "code",
   "execution_count": 36,
   "metadata": {},
   "outputs": [],
   "source": [
    "for batch_idx, (batch_x, batch_y) in enumerate(trainloader):\n",
    "        batch_x, batch_y = batch_x.to(device), batch_y.to(device)\n",
    "        with torch.no_grad():\n",
    "            features1 = model1.features(batch_x).squeeze()\n",
    "            features2 = model2.features(batch_x).squeeze()\n",
    "        covXY += features1.T @ features2 / batch_x.size(0)\n",
    "        covX += features1.T @ features1 / batch_x.size(0)\n",
    "        covY += features2.T @ features2 / batch_x.size(0)"
   ]
  },
  {
   "cell_type": "code",
   "execution_count": 41,
   "metadata": {},
   "outputs": [
    {
     "data": {
      "text/plain": [
       "50000"
      ]
     },
     "execution_count": 41,
     "metadata": {},
     "output_type": "execute_result"
    }
   ],
   "source": [
    "len(trainloader.dataset)"
   ]
  },
  {
   "cell_type": "code",
   "execution_count": 20,
   "metadata": {},
   "outputs": [],
   "source": [
    "loss = -.5*torch.trace( Q1.T @ features1.T @ features2 @ Q2)"
   ]
  },
  {
   "cell_type": "code",
   "execution_count": 22,
   "metadata": {},
   "outputs": [],
   "source": [
    "loss.backward()"
   ]
  },
  {
   "cell_type": "code",
   "execution_count": 23,
   "metadata": {},
   "outputs": [],
   "source": [
    "optimizerCCA.step(((features1.T@ features1, features2.T@ features2),))"
   ]
  },
  {
   "cell_type": "code",
   "execution_count": 25,
   "metadata": {},
   "outputs": [],
   "source": [
    "train_loss =+ loss.item() * batch_x.size(0)"
   ]
  },
  {
   "cell_type": "code",
   "execution_count": 26,
   "metadata": {},
   "outputs": [
    {
     "data": {
      "text/plain": [
       "-228.441650390625"
      ]
     },
     "execution_count": 26,
     "metadata": {},
     "output_type": "execute_result"
    }
   ],
   "source": [
    "train_loss"
   ]
  },
  {
   "cell_type": "code",
   "execution_count": 164,
   "metadata": {},
   "outputs": [
    {
     "ename": "RuntimeError",
     "evalue": "mat1 and mat2 shapes cannot be multiplied (512x20 and 512x128)",
     "output_type": "error",
     "traceback": [
      "\u001b[0;31m---------------------------------------------------------------------------\u001b[0m",
      "\u001b[0;31mRuntimeError\u001b[0m                              Traceback (most recent call last)",
      "\u001b[1;32m/home/vary/src/landing-generalized-stiefel/test_resnet_cca.ipynb Cell 15\u001b[0m in \u001b[0;36m<cell line: 1>\u001b[0;34m()\u001b[0m\n\u001b[0;32m----> <a href='vscode-notebook-cell://ssh-remote%2Banatole.inma.ucl.ac.be/home/vary/src/landing-generalized-stiefel/test_resnet_cca.ipynb#X61sdnNjb2RlLXJlbW90ZQ%3D%3D?line=0'>1</a>\u001b[0m \u001b[39m-\u001b[39m\u001b[39m.5\u001b[39m\u001b[39m*\u001b[39mtorch\u001b[39m.\u001b[39mtrace( Q1 \u001b[39m@\u001b[39;49m features1\u001b[39m.\u001b[39;49mT \u001b[39m@\u001b[39m features2 \u001b[39m@\u001b[39m Q2)\n",
      "\u001b[0;31mRuntimeError\u001b[0m: mat1 and mat2 shapes cannot be multiplied (512x20 and 512x128)"
     ]
    }
   ],
   "source": [
    "-.5*torch.trace( Q1 @ features1.T @ features2 @ Q2)"
   ]
  },
  {
   "cell_type": "code",
   "execution_count": 18,
   "metadata": {},
   "outputs": [],
   "source": [
    "trainloader_enum = enumerate(trainloader)"
   ]
  },
  {
   "cell_type": "code",
   "execution_count": 33,
   "metadata": {},
   "outputs": [],
   "source": [
    "i, (batch_x, batch_y) = trainloader_enum.__next__()\n",
    "batch_x, batch_y = batch_x.to(device), batch_y.to(device)"
   ]
  },
  {
   "cell_type": "code",
   "execution_count": 87,
   "metadata": {},
   "outputs": [],
   "source": [
    "A1 = model1.features(batch_x)[:,:,0,0].cpu().detach().numpy()\n",
    "A2 = model1.features(batch_x)[:,:,0,0].cpu().detach().numpy()"
   ]
  },
  {
   "cell_type": "code",
   "execution_count": 142,
   "metadata": {},
   "outputs": [],
   "source": [
    "n = 512\n",
    "p = 10\n",
    "Q1 = torch.randn(n, p, device = device, requires_grad=True)\n",
    "Q2 = torch.randn(n, p, device = device, requires_grad=True)"
   ]
  },
  {
   "cell_type": "code",
   "execution_count": 145,
   "metadata": {},
   "outputs": [],
   "source": [
    "optimizer_cca = optim.SGD((Q1, Q2), lr=1e-6)"
   ]
  },
  {
   "cell_type": "code",
   "execution_count": 147,
   "metadata": {},
   "outputs": [
    {
     "name": "stdout",
     "output_type": "stream",
     "text": [
      "-11.53541328125\n",
      "-12.8180953125\n",
      "-10.70384453125\n",
      "-10.55670625\n",
      "-10.276184375\n",
      "-11.49911875\n",
      "-10.47547421875\n",
      "-10.5956484375\n",
      "-9.82373359375\n",
      "-9.57715546875\n",
      "-10.41351875\n",
      "-10.265225\n",
      "-10.7919796875\n",
      "-10.0132453125\n",
      "-9.96588125\n"
     ]
    }
   ],
   "source": [
    "best_test_acc = 0.\n",
    "model1.eval()\n",
    "model2.eval()\n",
    "for epoch in range(n_epochs):\n",
    "    train_loss = 0.0\n",
    "    for batch_idx, (batch_x, batch_y) in enumerate(trainloader):\n",
    "        batch_x, batch_y = batch_x.to(device), batch_y.to(device)\n",
    "        A1 = model1.features(batch_x)[:,:,0,0].detach()\n",
    "        A2 = model2.features(batch_x)[:,:,0,0].detach()\n",
    "        loss = - torch.trace(Q1.T@ (A1.T @ A2) @ Q2)\n",
    "        train_loss =+ loss.item() * batch_x.size(0)\n",
    "        optimizer_cca.zero_grad()\n",
    "        loss.backward()\n",
    "        optimizer_cca.step()\n",
    "        with torch.no_grad():\n",
    "            Q1,_ = torch.linalg.qr(Q1)\n",
    "            Q2,_ = torch.linalg.qr(Q2)\n",
    "        Q1.requires_grad = True\n",
    "        Q2.requires_grad = True\n",
    "    print(train_loss/len(trainset))"
   ]
  },
  {
   "cell_type": "code",
   "execution_count": 139,
   "metadata": {},
   "outputs": [
    {
     "data": {
      "text/plain": [
       "tensor([[ 1.0000e+00,  5.5879e-09, -2.7940e-09, -9.3132e-09,  9.3132e-10,\n",
       "          4.6566e-09, -8.8476e-09, -1.2107e-08, -1.9558e-08, -5.5879e-09],\n",
       "        [ 5.5879e-09,  1.0000e+00,  3.2596e-09,  1.1642e-09,  6.7521e-09,\n",
       "          3.7253e-09, -5.1223e-09, -1.8626e-09, -2.7940e-09,  1.0245e-08],\n",
       "        [-2.7940e-09,  3.2596e-09,  1.0000e+00, -2.3283e-10, -8.3819e-09,\n",
       "          4.1910e-09, -1.3970e-08, -3.2596e-09, -9.3132e-10, -6.5193e-09],\n",
       "        [-9.3132e-09,  1.1642e-09, -2.3283e-10,  1.0000e+00, -1.5600e-08,\n",
       "          0.0000e+00,  1.8626e-09,  4.6566e-10,  2.3283e-10,  4.6566e-10],\n",
       "        [ 9.3132e-10,  6.7521e-09, -8.3819e-09, -1.5600e-08,  1.0000e+00,\n",
       "         -4.6566e-10, -8.3819e-09,  4.6566e-09,  5.5879e-09,  3.7253e-09],\n",
       "        [ 4.6566e-09,  3.7253e-09,  4.1910e-09,  0.0000e+00, -4.6566e-10,\n",
       "          1.0000e+00,  2.4680e-08,  2.7940e-09, -5.5879e-09,  3.2596e-09],\n",
       "        [-8.8476e-09, -5.1223e-09, -1.3970e-08,  1.8626e-09, -8.3819e-09,\n",
       "          2.4680e-08,  1.0000e+00,  2.5611e-09, -5.5879e-09,  2.7940e-09],\n",
       "        [-1.2107e-08, -1.8626e-09, -3.2596e-09,  4.6566e-10,  4.6566e-09,\n",
       "          2.7940e-09,  2.5611e-09,  1.0000e+00, -1.5367e-08,  0.0000e+00],\n",
       "        [-1.9558e-08, -2.7940e-09, -9.3132e-10,  2.3283e-10,  5.5879e-09,\n",
       "         -5.5879e-09, -5.5879e-09, -1.5367e-08,  1.0000e+00, -2.0955e-09],\n",
       "        [-5.5879e-09,  1.0245e-08, -6.5193e-09,  4.6566e-10,  3.7253e-09,\n",
       "          3.2596e-09,  2.7940e-09,  0.0000e+00, -2.0955e-09,  1.0000e+00]],\n",
       "       device='cuda:0', grad_fn=<MmBackward0>)"
      ]
     },
     "execution_count": 139,
     "metadata": {},
     "output_type": "execute_result"
    }
   ],
   "source": [
    "Q1.T@Q1"
   ]
  },
  {
   "cell_type": "code",
   "execution_count": 89,
   "metadata": {},
   "outputs": [],
   "source": [
    "from sklearn.cross_decomposition import CCA"
   ]
  },
  {
   "cell_type": "code",
   "execution_count": 96,
   "metadata": {},
   "outputs": [
    {
     "data": {
      "text/plain": [
       "CCA(n_components=10)"
      ]
     },
     "execution_count": 96,
     "metadata": {},
     "output_type": "execute_result"
    }
   ],
   "source": [
    "cca = CCA(n_components=10)\n",
    "cca.fit(A1, A2)"
   ]
  },
  {
   "cell_type": "code",
   "execution_count": 99,
   "metadata": {},
   "outputs": [
    {
     "data": {
      "text/plain": [
       "0.5813387144987419"
      ]
     },
     "execution_count": 99,
     "metadata": {},
     "output_type": "execute_result"
    }
   ],
   "source": [
    "cca.score(A1, A2)"
   ]
  },
  {
   "cell_type": "code",
   "execution_count": 92,
   "metadata": {},
   "outputs": [],
   "source": [
    "X_c, Y_c = cca.transform(A1, A2)"
   ]
  },
  {
   "cell_type": "code",
   "execution_count": 75,
   "metadata": {},
   "outputs": [],
   "source": [
    "(U, S, V) = torch.pca_lowrank(A1.T@A2, q = 100, center=True, niter=20)"
   ]
  },
  {
   "cell_type": "code",
   "execution_count": 84,
   "metadata": {},
   "outputs": [
    {
     "data": {
      "text/plain": [
       "array([1.0347093e+04, 5.0820493e+03, 3.5821323e+03, 2.9084653e+03,\n",
       "       2.4939863e+03, 1.8302538e+03, 1.3989786e+03, 1.1476134e+03,\n",
       "       8.5155157e+02, 6.2643530e+02, 2.4559721e+02, 7.1573997e+01,\n",
       "       5.0670170e+01, 4.8174137e+01, 4.1952473e+01, 3.7283165e+01,\n",
       "       3.6203281e+01, 3.1056530e+01, 2.5350792e+01, 2.4845078e+01,\n",
       "       2.2801348e+01, 2.0585983e+01, 1.9518456e+01, 1.7976635e+01,\n",
       "       1.6180603e+01, 1.5687751e+01, 1.3683533e+01, 1.2015533e+01,\n",
       "       1.0651150e+01, 1.0012889e+01, 9.1580162e+00, 8.3238554e+00,\n",
       "       7.8208060e+00, 7.5031281e+00, 6.8287992e+00, 6.1659822e+00,\n",
       "       5.9519992e+00, 5.1096954e+00, 4.9533033e+00, 4.3717241e+00,\n",
       "       4.1098890e+00, 3.8927417e+00, 3.5315640e+00, 3.5272615e+00,\n",
       "       3.4553266e+00, 3.2666328e+00, 3.1249063e+00, 3.0096223e+00,\n",
       "       2.7635863e+00, 2.6369815e+00], dtype=float32)"
      ]
     },
     "execution_count": 84,
     "metadata": {},
     "output_type": "execute_result"
    }
   ],
   "source": [
    "S.cpu().detach().numpy()[:50]"
   ]
  },
  {
   "cell_type": "code",
   "execution_count": 82,
   "metadata": {},
   "outputs": [
    {
     "data": {
      "text/plain": [
       "[<matplotlib.lines.Line2D at 0x7fb110b2f5e0>]"
      ]
     },
     "execution_count": 82,
     "metadata": {},
     "output_type": "execute_result"
    },
    {
     "data": {
      "image/png": "[encoded data removed]",
      "text/plain": [
       "<Figure size 432x288 with 1 Axes>"
      ]
     },
     "metadata": {
      "needs_background": "light"
     },
     "output_type": "display_data"
    }
   ],
   "source": [
    "plt.semilogy(S.cpu().detach().numpy())"
   ]
  },
  {
   "cell_type": "code",
   "execution_count": 69,
   "metadata": {},
   "outputs": [
    {
     "data": {
      "text/plain": [
       "torch.Size([128, 512])"
      ]
     },
     "execution_count": 69,
     "metadata": {},
     "output_type": "execute_result"
    }
   ],
   "source": [
    "A1.shape"
   ]
  },
  {
   "cell_type": "code",
   "execution_count": 23,
   "metadata": {},
   "outputs": [
    {
     "data": {
      "text/plain": [
       "128"
      ]
     },
     "execution_count": 23,
     "metadata": {},
     "output_type": "execute_result"
    }
   ],
   "source": [
    "trainloader.batch_size"
   ]
  },
  {
   "cell_type": "code",
   "execution_count": 32,
   "metadata": {},
   "outputs": [
    {
     "data": {
      "text/plain": [
       "torch.Size([128, 3, 32, 32])"
      ]
     },
     "execution_count": 32,
     "metadata": {},
     "output_type": "execute_result"
    }
   ],
   "source": [
    "batch_x.shape"
   ]
  },
  {
   "cell_type": "code",
   "execution_count": null,
   "metadata": {},
   "outputs": [],
   "source": []
  }
 ],
 "metadata": {
  "kernelspec": {
   "display_name": "landing",
   "language": "python",
   "name": "python3"
  },
  "language_info": {
   "codemirror_mode": {
    "name": "ipython",
    "version": 3
   },
   "file_extension": ".py",
   "mimetype": "text/x-python",
   "name": "python",
   "nbconvert_exporter": "python",
   "pygments_lexer": "ipython3",
   "version": "3.8.5 (default, Sep  4 2020, 07:30:14) \n[GCC 7.3.0]"
  },
  "orig_nbformat": 4,
  "vscode": {
   "interpreter": {
    "hash": "68569eb8e34577919d4347cfcfb4feac59789a0011d22ac642558bb83eb2daac"
   }
  }
 },
 "nbformat": 4,
 "nbformat_minor": 2
}
