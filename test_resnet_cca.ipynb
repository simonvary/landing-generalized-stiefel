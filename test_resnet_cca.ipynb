{
 "cells": [
  {
   "cell_type": "code",
   "execution_count": 1,
   "metadata": {},
   "outputs": [
    {
     "name": "stderr",
     "output_type": "stream",
     "text": [
      "/opt/mambaforge/envs/landing/lib/python3.8/site-packages/tqdm/auto.py:22: TqdmWarning: IProgress not found. Please update jupyter and ipywidgets. See https://ipywidgets.readthedocs.io/en/stable/user_install.html\n",
      "  from .autonotebook import tqdm as notebook_tqdm\n"
     ]
    }
   ],
   "source": [
    "\"\"\"\n",
    "A simple example of the Stiefel landing algorithm on PCA problem\n",
    "\"\"\"\n",
    "from time import time\n",
    "\n",
    "import matplotlib.pyplot as plt\n",
    "\n",
    "import numpy as np\n",
    "\n",
    "import torch\n",
    "\n",
    "import torch.optim as optim\n",
    "import torch.nn as nn\n",
    "import torch.nn.functional as F\n",
    "\n",
    "import torchvision\n",
    "import torchvision.transforms as transforms\n",
    "\n",
    "from models import VGG16, ResNet18\n",
    "\n",
    "from solvers import *\n",
    "\n",
    "\n",
    "import cupy as cp\n",
    "from scipy.linalg import eigh"
   ]
  },
  {
   "cell_type": "code",
   "execution_count": 2,
   "metadata": {},
   "outputs": [],
   "source": [
    "transform = transforms.Compose(\n",
    "    [transforms.ToTensor(),\n",
    "     transforms.Normalize((0.5, 0.5, 0.5), (0.5, 0.5, 0.5))])\n",
    "\n",
    "batch_size = 1024\n",
    "\n",
    "trainset = torchvision.datasets.CIFAR10(root='data', train=True,\n",
    "                                        download=False, transform=transform)\n",
    "\n",
    "transform_MNIST = transforms.Compose([transforms.ToTensor(),\n",
    "                              transforms.Normalize((0.5,), (0.5,)),\n",
    "                              ])\n",
    "trainset_MNIST = torchvision.datasets.MNIST(root='data', download=True, train=True, transform=transform_MNIST)\n",
    "\n",
    "trainloader_MNIST = torch.utils.data.DataLoader(trainset_MNIST, batch_size=batch_size, shuffle=True)\n",
    "\n",
    "trainloader = torch.utils.data.DataLoader(trainset, batch_size=batch_size, shuffle=True, num_workers=2)\n",
    "\n",
    "testset = torchvision.datasets.CIFAR10(root='data', train=False,\n",
    "                                       download=False, transform=transform)\n",
    "testloader = torch.utils.data.DataLoader(testset, batch_size=batch_size, shuffle=False, num_workers=2)\n",
    "\n",
    "classes = ('plane', 'car', 'bird', 'cat',\n",
    "           'deer', 'dog', 'frog', 'horse', 'ship', 'truck')"
   ]
  },
  {
   "cell_type": "code",
   "execution_count": 3,
   "metadata": {},
   "outputs": [],
   "source": [
    "def VectorizeLeftImage(batch):\n",
    "    data = [item[0][:,:,:14].reshape(-1).unsqueeze(0) for item in batch]\n",
    "    return(torch.cat(data, dim = 0))\n",
    "\n",
    "def VectorizeRightImage(batch):\n",
    "    data = [item[0][:,:,14:].reshape(-1).unsqueeze(0) for item in batch]\n",
    "    return(torch.cat(data, dim = 0))\n",
    "\n",
    "loader_A = torch.utils.data.DataLoader(trainset_MNIST, batch_size=batch_size, shuffle=False, num_workers=2, collate_fn=VectorizeLeftImage)\n",
    "loader_B = torch.utils.data.DataLoader(trainset_MNIST, batch_size=batch_size, shuffle=False, num_workers=2, collate_fn=VectorizeRightImage)"
   ]
  },
  {
   "cell_type": "code",
   "execution_count": 4,
   "metadata": {},
   "outputs": [
    {
     "name": "stdout",
     "output_type": "stream",
     "text": [
      "Objective: -0.15954\n",
      "Dist X: 3.00003\n",
      "Dist Y: 3.00001\n",
      "Objective: -0.15979\n",
      "Dist X: 3.00002\n",
      "Dist Y: 3.00001\n",
      "Objective: -0.16010\n",
      "Dist X: 3.00002\n",
      "Dist Y: 3.00001\n",
      "Objective: -0.16076\n",
      "Dist X: 3.00001\n",
      "Dist Y: 3.00000\n",
      "Objective: -0.16242\n",
      "Dist X: 2.99998\n",
      "Dist Y: 2.99996\n",
      "Objective: -0.16708\n",
      "Dist X: 2.99990\n",
      "Dist Y: 2.99983\n",
      "Objective: -0.18135\n",
      "Dist X: 2.99962\n",
      "Dist Y: 2.99933\n",
      "Objective: -0.22733\n",
      "Dist X: 2.99865\n",
      "Dist Y: 2.99709\n",
      "Objective: -0.36087\n",
      "Dist X: 2.99453\n",
      "Dist Y: 2.98495\n",
      "Objective: -0.54537\n",
      "Dist X: 2.97679\n",
      "Dist Y: 2.93916\n",
      "Objective: -0.71177\n",
      "Dist X: 2.92794\n",
      "Dist Y: 2.85654\n",
      "Objective: -0.86007\n",
      "Dist X: 2.84202\n",
      "Dist Y: 2.76883\n",
      "Objective: -0.94932\n",
      "Dist X: 2.74268\n",
      "Dist Y: 2.69176\n",
      "Objective: -1.04608\n",
      "Dist X: 2.64177\n",
      "Dist Y: 2.64004\n",
      "Objective: -1.15295\n",
      "Dist X: 2.54602\n",
      "Dist Y: 2.60871\n",
      "Objective: -1.26092\n",
      "Dist X: 2.44340\n",
      "Dist Y: 2.56422\n",
      "Objective: -1.35430\n",
      "Dist X: 2.33950\n",
      "Dist Y: 2.49483\n",
      "Objective: -1.44052\n",
      "Dist X: 2.26217\n",
      "Dist Y: 2.41290\n",
      "Objective: -1.55836\n",
      "Dist X: 2.21457\n",
      "Dist Y: 2.32853\n",
      "Objective: -1.73088\n",
      "Dist X: 2.17564\n",
      "Dist Y: 2.23775\n",
      "Objective: -1.96320\n",
      "Dist X: 2.12671\n",
      "Dist Y: 2.14264\n",
      "Objective: -2.24077\n",
      "Dist X: 2.06448\n",
      "Dist Y: 2.04731\n",
      "Objective: -2.53433\n",
      "Dist X: 1.99826\n",
      "Dist Y: 1.95346\n",
      "Objective: -2.81307\n",
      "Dist X: 1.93708\n",
      "Dist Y: 1.86382\n",
      "Objective: -3.05737\n",
      "Dist X: 1.88045\n",
      "Dist Y: 1.77934\n",
      "Objective: -3.26339\n",
      "Dist X: 1.82670\n",
      "Dist Y: 1.70076\n",
      "Objective: -3.43755\n",
      "Dist X: 1.77955\n",
      "Dist Y: 1.62632\n",
      "Objective: -3.59030\n",
      "Dist X: 1.74176\n",
      "Dist Y: 1.54938\n",
      "Objective: -3.73253\n",
      "Dist X: 1.70961\n",
      "Dist Y: 1.46369\n",
      "Objective: -3.87367\n",
      "Dist X: 1.67544\n",
      "Dist Y: 1.36750\n",
      "Objective: -4.02133\n",
      "Dist X: 1.63183\n",
      "Dist Y: 1.26127\n",
      "Objective: -4.18064\n",
      "Dist X: 1.57423\n",
      "Dist Y: 1.14509\n",
      "Objective: -4.35276\n",
      "Dist X: 1.50324\n",
      "Dist Y: 1.01977\n",
      "Objective: -4.53396\n",
      "Dist X: 1.42510\n",
      "Dist Y: 0.88868\n",
      "Objective: -4.71685\n",
      "Dist X: 1.34774\n",
      "Dist Y: 0.75753\n",
      "Objective: -4.89338\n",
      "Dist X: 1.27556\n",
      "Dist Y: 0.63344\n",
      "Objective: -5.05742\n",
      "Dist X: 1.20954\n",
      "Dist Y: 0.52430\n",
      "Objective: -5.20559\n",
      "Dist X: 1.15047\n",
      "Dist Y: 0.43681\n",
      "Objective: -5.33689\n",
      "Dist X: 1.09998\n",
      "Dist Y: 0.37367\n",
      "Objective: -5.45204\n",
      "Dist X: 1.05885\n",
      "Dist Y: 0.33242\n",
      "Objective: -5.55282\n",
      "Dist X: 1.02571\n",
      "Dist Y: 0.30740\n",
      "Objective: -5.64143\n",
      "Dist X: 0.99738\n",
      "Dist Y: 0.29271\n",
      "Objective: -5.72009\n",
      "Dist X: 0.97002\n",
      "Dist Y: 0.28400\n",
      "Objective: -5.79078\n",
      "Dist X: 0.94005\n",
      "Dist Y: 0.27858\n",
      "Objective: -5.85506\n",
      "Dist X: 0.90450\n",
      "Dist Y: 0.27497\n",
      "Objective: -5.91419\n",
      "Dist X: 0.86121\n",
      "Dist Y: 0.27239\n",
      "Objective: -5.96907\n",
      "Dist X: 0.80900\n",
      "Dist Y: 0.27043\n",
      "Objective: -6.02041\n",
      "Dist X: 0.74811\n",
      "Dist Y: 0.26889\n",
      "Objective: -6.06877\n",
      "Dist X: 0.68038\n",
      "Dist Y: 0.26764\n",
      "Objective: -6.11462\n",
      "Dist X: 0.60921\n",
      "Dist Y: 0.26662\n",
      "Objective: -6.15838\n",
      "Dist X: 0.53898\n",
      "Dist Y: 0.26577\n",
      "Objective: -6.20033\n",
      "Dist X: 0.47404\n",
      "Dist Y: 0.26506\n",
      "Objective: -6.24060\n",
      "Dist X: 0.41785\n",
      "Dist Y: 0.26445\n",
      "Objective: -6.27926\n",
      "Dist X: 0.37235\n",
      "Dist Y: 0.26391\n",
      "Objective: -6.31628\n",
      "Dist X: 0.33780\n",
      "Dist Y: 0.26341\n",
      "Objective: -6.35165\n",
      "Dist X: 0.31310\n",
      "Dist Y: 0.26295\n",
      "Objective: -6.38539\n",
      "Dist X: 0.29633\n",
      "Dist Y: 0.26251\n",
      "Objective: -6.41756\n",
      "Dist X: 0.28539\n",
      "Dist Y: 0.26210\n",
      "Objective: -6.44826\n",
      "Dist X: 0.27844\n",
      "Dist Y: 0.26170\n",
      "Objective: -6.47760\n",
      "Dist X: 0.27409\n",
      "Dist Y: 0.26132\n",
      "Objective: -6.50568\n",
      "Dist X: 0.27137\n",
      "Dist Y: 0.26096\n",
      "Objective: -6.53262\n",
      "Dist X: 0.26965\n",
      "Dist Y: 0.26061\n",
      "Objective: -6.55853\n",
      "Dist X: 0.26855\n",
      "Dist Y: 0.26029\n",
      "Objective: -6.58348\n",
      "Dist X: 0.26783\n",
      "Dist Y: 0.25998\n",
      "Objective: -6.60757\n",
      "Dist X: 0.26733\n",
      "Dist Y: 0.25968\n",
      "Objective: -6.63086\n",
      "Dist X: 0.26699\n",
      "Dist Y: 0.25941\n",
      "Objective: -6.65341\n",
      "Dist X: 0.26673\n",
      "Dist Y: 0.25914\n",
      "Objective: -6.67529\n",
      "Dist X: 0.26654\n",
      "Dist Y: 0.25890\n",
      "Objective: -6.69653\n",
      "Dist X: 0.26638\n",
      "Dist Y: 0.25866\n",
      "Objective: -6.71718\n",
      "Dist X: 0.26625\n",
      "Dist Y: 0.25844\n",
      "Objective: -6.73727\n",
      "Dist X: 0.26614\n",
      "Dist Y: 0.25824\n",
      "Objective: -6.75684\n",
      "Dist X: 0.26604\n",
      "Dist Y: 0.25804\n",
      "Objective: -6.77591\n",
      "Dist X: 0.26595\n",
      "Dist Y: 0.25786\n",
      "Objective: -6.79452\n",
      "Dist X: 0.26586\n",
      "Dist Y: 0.25768\n",
      "Objective: -6.81269\n",
      "Dist X: 0.26578\n",
      "Dist Y: 0.25752\n",
      "Objective: -6.83043\n",
      "Dist X: 0.26569\n",
      "Dist Y: 0.25736\n",
      "Objective: -6.84777\n",
      "Dist X: 0.26561\n",
      "Dist Y: 0.25721\n",
      "Objective: -6.86473\n",
      "Dist X: 0.26553\n",
      "Dist Y: 0.25707\n",
      "Objective: -6.88132\n",
      "Dist X: 0.26544\n",
      "Dist Y: 0.25694\n",
      "Objective: -6.89756\n",
      "Dist X: 0.26535\n",
      "Dist Y: 0.25681\n",
      "Objective: -6.91346\n",
      "Dist X: 0.26527\n",
      "Dist Y: 0.25669\n",
      "Objective: -6.92904\n",
      "Dist X: 0.26518\n",
      "Dist Y: 0.25657\n",
      "Objective: -6.94430\n",
      "Dist X: 0.26509\n",
      "Dist Y: 0.25645\n",
      "Objective: -6.95927\n",
      "Dist X: 0.26499\n",
      "Dist Y: 0.25635\n",
      "Objective: -6.97395\n",
      "Dist X: 0.26490\n",
      "Dist Y: 0.25624\n",
      "Objective: -6.98834\n",
      "Dist X: 0.26480\n",
      "Dist Y: 0.25614\n",
      "Objective: -7.00247\n",
      "Dist X: 0.26470\n",
      "Dist Y: 0.25604\n",
      "Objective: -7.01634\n",
      "Dist X: 0.26460\n",
      "Dist Y: 0.25594\n",
      "Objective: -7.02996\n",
      "Dist X: 0.26449\n",
      "Dist Y: 0.25584\n",
      "Objective: -7.04333\n",
      "Dist X: 0.26438\n",
      "Dist Y: 0.25575\n",
      "Objective: -7.05647\n",
      "Dist X: 0.26427\n",
      "Dist Y: 0.25566\n",
      "Objective: -7.06938\n",
      "Dist X: 0.26416\n",
      "Dist Y: 0.25557\n",
      "Objective: -7.08207\n",
      "Dist X: 0.26405\n",
      "Dist Y: 0.25547\n",
      "Objective: -7.09455\n",
      "Dist X: 0.26393\n",
      "Dist Y: 0.25538\n",
      "Objective: -7.10681\n",
      "Dist X: 0.26381\n",
      "Dist Y: 0.25529\n",
      "Objective: -7.11888\n",
      "Dist X: 0.26369\n",
      "Dist Y: 0.25520\n",
      "Objective: -7.13075\n",
      "Dist X: 0.26357\n",
      "Dist Y: 0.25511\n",
      "Objective: -7.14242\n",
      "Dist X: 0.26344\n",
      "Dist Y: 0.25502\n",
      "Objective: -7.15392\n",
      "Dist X: 0.26331\n",
      "Dist Y: 0.25493\n",
      "Objective: -7.16523\n",
      "Dist X: 0.26318\n",
      "Dist Y: 0.25484\n"
     ]
    }
   ],
   "source": [
    "X, Y, AtA_full, BtB_full, AtB_full, out  = LandingCCA(loader_A, loader_B, p = 10, learning_rate = 1e-4, lambda_regul = 10,  n_epochs=100, device = torch.device('cuda'))"
   ]
  },
  {
   "cell_type": "code",
   "execution_count": null,
   "metadata": {},
   "outputs": [],
   "source": [
    "AtA = AtA_full.cpu().numpy()\n",
    "BtB = BtB_full.cpu().numpy()\n",
    "AtB = AtB_full.cpu().numpy()\n",
    "\n",
    "X_cpu = X.detach().cpu().numpy()\n",
    "Y_cpu = Y.detach().cpu().numpy()"
   ]
  },
  {
   "cell_type": "code",
   "execution_count": 51,
   "metadata": {},
   "outputs": [],
   "source": [
    "AtAinv = np.linalg.inv(AtA+0.000005*np.eye(392,392))\n",
    "BtBinv = np.linalg.inv(BtB+0.000005*np.eye(392,392))"
   ]
  },
  {
   "cell_type": "code",
   "execution_count": 52,
   "metadata": {},
   "outputs": [],
   "source": [
    "# True solution:\n",
    "d, u  = np.linalg.eig(AtAinv@AtB@BtBinv@AtB.T)\n",
    "u1 = u[:,:10]\n",
    "d, u  = np.linalg.eig(BtBinv@AtB.T@AtAinv@AtB)\n",
    "u2 = u[:,:10]"
   ]
  },
  {
   "cell_type": "code",
   "execution_count": 53,
   "metadata": {},
   "outputs": [
    {
     "data": {
      "text/plain": [
       "(392, 392)"
      ]
     },
     "execution_count": 53,
     "metadata": {},
     "output_type": "execute_result"
    }
   ],
   "source": [
    "u.shape"
   ]
  },
  {
   "cell_type": "code",
   "execution_count": 54,
   "metadata": {},
   "outputs": [
    {
     "data": {
      "text/plain": [
       "<matplotlib.colorbar.Colorbar at 0x7fc39d446b20>"
      ]
     },
     "execution_count": 54,
     "metadata": {},
     "output_type": "execute_result"
    },
    {
     "data": {
      "image/png": "[encoded data removed]",
      "text/plain": [
       "<Figure size 432x288 with 2 Axes>"
      ]
     },
     "metadata": {
      "needs_background": "light"
     },
     "output_type": "display_data"
    }
   ],
   "source": [
    "plt.imshow(np.abs(u1.T @ AtB @ u2))\n",
    "plt.colorbar()"
   ]
  },
  {
   "cell_type": "code",
   "execution_count": 13,
   "metadata": {},
   "outputs": [],
   "source": [
    "plt.rcParams.update({'text.usetex' : True})"
   ]
  },
  {
   "cell_type": "code",
   "execution_count": 58,
   "metadata": {},
   "outputs": [
    {
     "data": {
      "image/png": "[encoded data removed]",
      "text/plain": [
       "<Figure size 288x216 with 1 Axes>"
      ]
     },
     "metadata": {
      "needs_background": "light"
     },
     "output_type": "display_data"
    },
    {
     "data": {
      "image/png": "[encoded data removed]",
      "text/plain": [
       "<Figure size 288x216 with 1 Axes>"
      ]
     },
     "metadata": {
      "needs_background": "light"
     },
     "output_type": "display_data"
    }
   ],
   "source": [
    "plt.figure(figsize=(4, 3))\n",
    "plt.semilogy(out['distanceX'], label = 'Distance X')\n",
    "plt.semilogy(out['distanceY'], label = 'Distance Y')\n",
    "plt.xlim([0, 100])\n",
    "plt.ylim([1e-1, 1e1])\n",
    "x_ = plt.xlabel('Iterations')\n",
    "y_ = plt.ylabel('Distance to the constraint $\\mathcal{N}(X)$')\n",
    "plt.grid()\n",
    "plt.legend(ncol=2, loc='upper right', columnspacing=.5, handlelength=2)\n",
    "plt.savefig('cca_distance.pdf', bbox_inches='tight', bbox_extra_artists=(x_, y_))\n",
    "\n",
    "plt.figure(figsize=(4, 3))\n",
    "plt.plot(np.array(out['objective']), label='Objective')\n",
    "plt.xlim([0, 100])\n",
    "x_ = plt.xlabel('Iterations')\n",
    "y_ = plt.ylabel('Objective')\n",
    "plt.legend(ncol=2, loc='upper right', columnspacing=.5, handlelength=2)\n",
    "\n",
    "plt.grid()\n",
    "plt.savefig('cca_objective.pdf', bbox_inches='tight', bbox_extra_artists=(x_, y_))\n",
    "\n"
   ]
  },
  {
   "cell_type": "code",
   "execution_count": 20,
   "metadata": {},
   "outputs": [
    {
     "data": {
      "text/plain": [
       "[<matplotlib.lines.Line2D at 0x7fc3cc1f2fa0>]"
      ]
     },
     "execution_count": 20,
     "metadata": {},
     "output_type": "execute_result"
    },
    {
     "data": {
      "image/png": "[encoded data removed]",
      "text/plain": [
       "<Figure size 432x288 with 1 Axes>"
      ]
     },
     "metadata": {
      "needs_background": "light"
     },
     "output_type": "display_data"
    }
   ],
   "source": [
    "plt.semilogy(np.array(out['objective'])+7.5)"
   ]
  },
  {
   "cell_type": "code",
   "execution_count": 27,
   "metadata": {},
   "outputs": [],
   "source": [
    "AtA = AtA_full.cpu().numpy()\n",
    "BtB = BtB_full.cpu().numpy()\n",
    "AtB = AtB_full.cpu().numpy()\n",
    "\n",
    "X_cpu = X.detach().cpu().numpy()\n",
    "Y_cpu = Y.detach().cpu().numpy()"
   ]
  },
  {
   "cell_type": "code",
   "execution_count": 9,
   "metadata": {},
   "outputs": [
    {
     "data": {
      "image/png": "[encoded data removed]",
      "text/plain": [
       "<Figure size 432x288 with 2 Axes>"
      ]
     },
     "metadata": {
      "needs_background": "light"
     },
     "output_type": "display_data"
    },
    {
     "data": {
      "image/png": "[encoded data removed]",
      "text/plain": [
       "<Figure size 432x288 with 2 Axes>"
      ]
     },
     "metadata": {
      "needs_background": "light"
     },
     "output_type": "display_data"
    },
    {
     "data": {
      "image/png": "[encoded data removed]",
      "text/plain": [
       "<Figure size 432x288 with 2 Axes>"
      ]
     },
     "metadata": {
      "needs_background": "light"
     },
     "output_type": "display_data"
    }
   ],
   "source": [
    "plt.imshow(np.abs(X_cpu.T @ AtB @ Y_cpu), clim=[0,1])\n",
    "plt.colorbar()\n",
    "plt.show()\n",
    "plt.imshow(np.abs(X_cpu.T @ AtA @ X_cpu), clim=[0,1])\n",
    "plt.colorbar()\n",
    "plt.show()\n",
    "plt.imshow(np.abs(Y_cpu.T @ BtB @ Y_cpu), clim=[0,1])\n",
    "plt.colorbar()\n",
    "plt.show()"
   ]
  },
  {
   "cell_type": "code",
   "execution_count": 25,
   "metadata": {},
   "outputs": [
    {
     "data": {
      "text/plain": [
       "12.141672"
      ]
     },
     "execution_count": 25,
     "metadata": {},
     "output_type": "execute_result"
    }
   ],
   "source": [
    "np.linalg.norm(np.diag(AtB))"
   ]
  },
  {
   "cell_type": "code",
   "execution_count": 27,
   "metadata": {},
   "outputs": [
    {
     "data": {
      "text/plain": [
       "(392, 392)"
      ]
     },
     "execution_count": 27,
     "metadata": {},
     "output_type": "execute_result"
    }
   ],
   "source": [
    "AtB.shape"
   ]
  },
  {
   "cell_type": "code",
   "execution_count": 13,
   "metadata": {},
   "outputs": [
    {
     "data": {
      "image/png": "[encoded data removed]",
      "text/plain": [
       "<Figure size 432x288 with 2 Axes>"
      ]
     },
     "metadata": {
      "needs_background": "light"
     },
     "output_type": "display_data"
    },
    {
     "data": {
      "image/png": "[encoded data removed]",
      "text/plain": [
       "<Figure size 432x288 with 2 Axes>"
      ]
     },
     "metadata": {
      "needs_background": "light"
     },
     "output_type": "display_data"
    },
    {
     "data": {
      "image/png": "[encoded data removed]",
      "text/plain": [
       "<Figure size 432x288 with 2 Axes>"
      ]
     },
     "metadata": {
      "needs_background": "light"
     },
     "output_type": "display_data"
    },
    {
     "data": {
      "image/png": "[encoded data removed]",
      "text/plain": [
       "<Figure size 432x288 with 2 Axes>"
      ]
     },
     "metadata": {
      "needs_background": "light"
     },
     "output_type": "display_data"
    },
    {
     "data": {
      "image/png": "[encoded data removed]",
      "text/plain": [
       "<Figure size 432x288 with 2 Axes>"
      ]
     },
     "metadata": {
      "needs_background": "light"
     },
     "output_type": "display_data"
    },
    {
     "data": {
      "image/png": "[encoded data removed]",
      "text/plain": [
       "<Figure size 432x288 with 2 Axes>"
      ]
     },
     "metadata": {
      "needs_background": "light"
     },
     "output_type": "display_data"
    },
    {
     "data": {
      "image/png": "[encoded data removed]",
      "text/plain": [
       "<Figure size 432x288 with 2 Axes>"
      ]
     },
     "metadata": {
      "needs_background": "light"
     },
     "output_type": "display_data"
    },
    {
     "data": {
      "image/png": "[encoded data removed]",
      "text/plain": [
       "<Figure size 432x288 with 2 Axes>"
      ]
     },
     "metadata": {
      "needs_background": "light"
     },
     "output_type": "display_data"
    },
    {
     "data": {
      "image/png": "[encoded data removed]",
      "text/plain": [
       "<Figure size 432x288 with 2 Axes>"
      ]
     },
     "metadata": {
      "needs_background": "light"
     },
     "output_type": "display_data"
    },
    {
     "data": {
      "image/png": "[encoded data removed]",
      "text/plain": [
       "<Figure size 432x288 with 2 Axes>"
      ]
     },
     "metadata": {
      "needs_background": "light"
     },
     "output_type": "display_data"
    }
   ],
   "source": [
    "for i in range(10):\n",
    "    x_tmp = (X_cpu[:,i]).reshape(28,-1)\n",
    "    y_tmp = (Y_cpu[:,i]).reshape(28,-1)\n",
    "    plt.imshow(np.concatenate([x_tmp,y_tmp],axis=1))\n",
    "    plt.colorbar()\n",
    "    plt.show()"
   ]
  },
  {
   "cell_type": "code",
   "execution_count": 20,
   "metadata": {},
   "outputs": [
    {
     "data": {
      "text/plain": [
       "<matplotlib.image.AxesImage at 0x7fcdf4892ee0>"
      ]
     },
     "execution_count": 20,
     "metadata": {},
     "output_type": "execute_result"
    },
    {
     "data": {
      "image/png": "[encoded data removed]",
      "text/plain": [
       "<Figure size 432x288 with 1 Axes>"
      ]
     },
     "metadata": {
      "needs_background": "light"
     },
     "output_type": "display_data"
    }
   ],
   "source": [
    "plt.imshow((Y_cpu[:,1]).reshape(28,-1))"
   ]
  },
  {
   "cell_type": "code",
   "execution_count": 8,
   "metadata": {},
   "outputs": [
    {
     "data": {
      "text/plain": [
       "(392, 10)"
      ]
     },
     "execution_count": 8,
     "metadata": {},
     "output_type": "execute_result"
    }
   ],
   "source": [
    "(AtA@X_cpu).shape"
   ]
  },
  {
   "cell_type": "code",
   "execution_count": 9,
   "metadata": {},
   "outputs": [
    {
     "data": {
      "text/plain": [
       "array([[  920.11036875, -2085.72863305,    73.47406366, ...,\n",
       "          -51.14708096,  -130.66572299,   723.7861788 ],\n",
       "       [  920.11036875, -2085.72863305,    73.47406366, ...,\n",
       "          -51.14708096,  -130.66572299,   723.7861788 ],\n",
       "       [  920.11036875, -2085.72863305,    73.47406366, ...,\n",
       "          -51.14708096,  -130.66572299,   723.7861788 ],\n",
       "       ...,\n",
       "       [  924.12707451, -2077.03577179,    83.54595979, ...,\n",
       "          -53.66739613,  -124.3442831 ,   724.10880686],\n",
       "       [  925.05992824, -2072.99607729,    85.97999375, ...,\n",
       "          -55.178644  ,  -122.47910508,   723.33150251],\n",
       "       [  925.23880473, -2069.96477653,    87.36572159, ...,\n",
       "          -56.11967307,  -121.45809028,   722.52802804]])"
      ]
     },
     "execution_count": 9,
     "metadata": {},
     "output_type": "execute_result"
    }
   ],
   "source": [
    "((AtA@X_cpu) @ (X_cpu.T @ AtA @ X_cpu - np.eye(10,10)))"
   ]
  },
  {
   "cell_type": "code",
   "execution_count": null,
   "metadata": {},
   "outputs": [],
   "source": [
    "plt.imshow((Q2.T @ features2.T@ features2 @ Q2).cpu().detach().numpy())\n",
    "plt.colorbar()\n",
    "plt.show()\n",
    "\n",
    "plt.imshow((Q1.T @ features1.T@ features1 @ Q1).cpu().detach().numpy())\n",
    "plt.colorbar()\n",
    "plt.show()\n",
    "\n",
    "plt.imshow(np.abs((Q1.T @ features1.T@ features2 @ Q2).cpu().detach().numpy()))\n",
    "plt.colorbar()\n",
    "plt.show()\n",
    "\n",
    "print(torch.diag((features1 @ Q1).T @ (features2 @ Q2)))"
   ]
  },
  {
   "cell_type": "code",
   "execution_count": 3,
   "metadata": {},
   "outputs": [],
   "source": [
    "n_epochs = 15\n",
    "device = 'cuda'\n",
    "\n",
    "model1 = VGG16()\n",
    "model1.to(device)\n",
    "\n",
    "optimizer1 = optim.SGD(model1.parameters(), lr=1e-1, weight_decay=5e-4)\n",
    "\n",
    "model2 = VGG16()\n",
    "model2.to(device)\n",
    "\n",
    "optimizer2 = optim.SGD(model2.parameters(), lr=1e-1, weight_decay=5e-4)\n"
   ]
  },
  {
   "cell_type": "code",
   "execution_count": 4,
   "metadata": {},
   "outputs": [
    {
     "name": "stdout",
     "output_type": "stream",
     "text": [
      "1773.303123474121\n",
      "15.86\n",
      "1374.267978668213\n",
      "33.33\n",
      "1244.390037536621\n",
      "41.07\n"
     ]
    },
    {
     "ename": "KeyboardInterrupt",
     "evalue": "",
     "output_type": "error",
     "traceback": [
      "\u001b[0;31m---------------------------------------------------------------------------\u001b[0m",
      "\u001b[0;31mKeyboardInterrupt\u001b[0m                         Traceback (most recent call last)",
      "\u001b[0;32m/tmp/ipykernel_370591/3162060030.py\u001b[0m in \u001b[0;36m<module>\u001b[0;34m\u001b[0m\n\u001b[1;32m     27\u001b[0m         \u001b[0mprint\u001b[0m\u001b[0;34m(\u001b[0m\u001b[0;36m100\u001b[0m \u001b[0;34m*\u001b[0m \u001b[0mcorrect\u001b[0m \u001b[0;34m/\u001b[0m \u001b[0mlen\u001b[0m\u001b[0;34m(\u001b[0m\u001b[0mtestset\u001b[0m\u001b[0;34m)\u001b[0m\u001b[0;34m)\u001b[0m\u001b[0;34m\u001b[0m\u001b[0;34m\u001b[0m\u001b[0m\n\u001b[1;32m     28\u001b[0m \u001b[0;34m\u001b[0m\u001b[0m\n\u001b[0;32m---> 29\u001b[0;31m \u001b[0mtrain\u001b[0m\u001b[0;34m(\u001b[0m\u001b[0mmodel1\u001b[0m\u001b[0;34m,\u001b[0m \u001b[0moptimizer1\u001b[0m\u001b[0;34m,\u001b[0m \u001b[0;36m50\u001b[0m\u001b[0;34m)\u001b[0m\u001b[0;34m\u001b[0m\u001b[0;34m\u001b[0m\u001b[0m\n\u001b[0m\u001b[1;32m     30\u001b[0m \u001b[0;31m#train(model2, optimizer2, 8)\u001b[0m\u001b[0;34m\u001b[0m\u001b[0;34m\u001b[0m\u001b[0;34m\u001b[0m\u001b[0m\n",
      "\u001b[0;32m/tmp/ipykernel_370591/3162060030.py\u001b[0m in \u001b[0;36mtrain\u001b[0;34m(model, optimizer, n_epochs)\u001b[0m\n\u001b[1;32m      4\u001b[0m         \u001b[0mmodel\u001b[0m\u001b[0;34m.\u001b[0m\u001b[0mtrain\u001b[0m\u001b[0;34m(\u001b[0m\u001b[0;34m)\u001b[0m\u001b[0;34m\u001b[0m\u001b[0;34m\u001b[0m\u001b[0m\n\u001b[1;32m      5\u001b[0m         \u001b[0mtrain_loss\u001b[0m \u001b[0;34m=\u001b[0m \u001b[0;36m0.0\u001b[0m\u001b[0;34m\u001b[0m\u001b[0;34m\u001b[0m\u001b[0m\n\u001b[0;32m----> 6\u001b[0;31m         \u001b[0;32mfor\u001b[0m \u001b[0mbatch_idx\u001b[0m\u001b[0;34m,\u001b[0m \u001b[0;34m(\u001b[0m\u001b[0mbatch_x\u001b[0m\u001b[0;34m,\u001b[0m \u001b[0mbatch_y\u001b[0m\u001b[0;34m)\u001b[0m \u001b[0;32min\u001b[0m \u001b[0menumerate\u001b[0m\u001b[0;34m(\u001b[0m\u001b[0mtrainloader\u001b[0m\u001b[0;34m)\u001b[0m\u001b[0;34m:\u001b[0m\u001b[0;34m\u001b[0m\u001b[0;34m\u001b[0m\u001b[0m\n\u001b[0m\u001b[1;32m      7\u001b[0m             \u001b[0mbatch_x\u001b[0m\u001b[0;34m,\u001b[0m \u001b[0mbatch_y\u001b[0m \u001b[0;34m=\u001b[0m \u001b[0mbatch_x\u001b[0m\u001b[0;34m.\u001b[0m\u001b[0mto\u001b[0m\u001b[0;34m(\u001b[0m\u001b[0mdevice\u001b[0m\u001b[0;34m)\u001b[0m\u001b[0;34m,\u001b[0m \u001b[0mbatch_y\u001b[0m\u001b[0;34m.\u001b[0m\u001b[0mto\u001b[0m\u001b[0;34m(\u001b[0m\u001b[0mdevice\u001b[0m\u001b[0;34m)\u001b[0m\u001b[0;34m\u001b[0m\u001b[0;34m\u001b[0m\u001b[0m\n\u001b[1;32m      8\u001b[0m             \u001b[0mlogits\u001b[0m \u001b[0;34m=\u001b[0m \u001b[0mmodel\u001b[0m\u001b[0;34m(\u001b[0m\u001b[0mbatch_x\u001b[0m\u001b[0;34m)\u001b[0m\u001b[0;34m\u001b[0m\u001b[0;34m\u001b[0m\u001b[0m\n",
      "\u001b[0;32m/opt/mambaforge/envs/landing/lib/python3.8/site-packages/torch/utils/data/dataloader.py\u001b[0m in \u001b[0;36m__next__\u001b[0;34m(self)\u001b[0m\n\u001b[1;32m    679\u001b[0m                 \u001b[0;31m# TODO(https://github.com/pytorch/pytorch/issues/76750)\u001b[0m\u001b[0;34m\u001b[0m\u001b[0;34m\u001b[0m\u001b[0;34m\u001b[0m\u001b[0m\n\u001b[1;32m    680\u001b[0m                 \u001b[0mself\u001b[0m\u001b[0;34m.\u001b[0m\u001b[0m_reset\u001b[0m\u001b[0;34m(\u001b[0m\u001b[0;34m)\u001b[0m  \u001b[0;31m# type: ignore[call-arg]\u001b[0m\u001b[0;34m\u001b[0m\u001b[0;34m\u001b[0m\u001b[0m\n\u001b[0;32m--> 681\u001b[0;31m             \u001b[0mdata\u001b[0m \u001b[0;34m=\u001b[0m \u001b[0mself\u001b[0m\u001b[0;34m.\u001b[0m\u001b[0m_next_data\u001b[0m\u001b[0;34m(\u001b[0m\u001b[0;34m)\u001b[0m\u001b[0;34m\u001b[0m\u001b[0;34m\u001b[0m\u001b[0m\n\u001b[0m\u001b[1;32m    682\u001b[0m             \u001b[0mself\u001b[0m\u001b[0;34m.\u001b[0m\u001b[0m_num_yielded\u001b[0m \u001b[0;34m+=\u001b[0m \u001b[0;36m1\u001b[0m\u001b[0;34m\u001b[0m\u001b[0;34m\u001b[0m\u001b[0m\n\u001b[1;32m    683\u001b[0m             \u001b[0;32mif\u001b[0m \u001b[0mself\u001b[0m\u001b[0;34m.\u001b[0m\u001b[0m_dataset_kind\u001b[0m \u001b[0;34m==\u001b[0m \u001b[0m_DatasetKind\u001b[0m\u001b[0;34m.\u001b[0m\u001b[0mIterable\u001b[0m \u001b[0;32mand\u001b[0m\u001b[0;31m \u001b[0m\u001b[0;31m\\\u001b[0m\u001b[0;34m\u001b[0m\u001b[0;34m\u001b[0m\u001b[0m\n",
      "\u001b[0;32m/opt/mambaforge/envs/landing/lib/python3.8/site-packages/torch/utils/data/dataloader.py\u001b[0m in \u001b[0;36m_next_data\u001b[0;34m(self)\u001b[0m\n\u001b[1;32m   1357\u001b[0m \u001b[0;34m\u001b[0m\u001b[0m\n\u001b[1;32m   1358\u001b[0m             \u001b[0;32massert\u001b[0m \u001b[0;32mnot\u001b[0m \u001b[0mself\u001b[0m\u001b[0;34m.\u001b[0m\u001b[0m_shutdown\u001b[0m \u001b[0;32mand\u001b[0m \u001b[0mself\u001b[0m\u001b[0;34m.\u001b[0m\u001b[0m_tasks_outstanding\u001b[0m \u001b[0;34m>\u001b[0m \u001b[0;36m0\u001b[0m\u001b[0;34m\u001b[0m\u001b[0;34m\u001b[0m\u001b[0m\n\u001b[0;32m-> 1359\u001b[0;31m             \u001b[0midx\u001b[0m\u001b[0;34m,\u001b[0m \u001b[0mdata\u001b[0m \u001b[0;34m=\u001b[0m \u001b[0mself\u001b[0m\u001b[0;34m.\u001b[0m\u001b[0m_get_data\u001b[0m\u001b[0;34m(\u001b[0m\u001b[0;34m)\u001b[0m\u001b[0;34m\u001b[0m\u001b[0;34m\u001b[0m\u001b[0m\n\u001b[0m\u001b[1;32m   1360\u001b[0m             \u001b[0mself\u001b[0m\u001b[0;34m.\u001b[0m\u001b[0m_tasks_outstanding\u001b[0m \u001b[0;34m-=\u001b[0m \u001b[0;36m1\u001b[0m\u001b[0;34m\u001b[0m\u001b[0;34m\u001b[0m\u001b[0m\n\u001b[1;32m   1361\u001b[0m             \u001b[0;32mif\u001b[0m \u001b[0mself\u001b[0m\u001b[0;34m.\u001b[0m\u001b[0m_dataset_kind\u001b[0m \u001b[0;34m==\u001b[0m \u001b[0m_DatasetKind\u001b[0m\u001b[0;34m.\u001b[0m\u001b[0mIterable\u001b[0m\u001b[0;34m:\u001b[0m\u001b[0;34m\u001b[0m\u001b[0;34m\u001b[0m\u001b[0m\n",
      "\u001b[0;32m/opt/mambaforge/envs/landing/lib/python3.8/site-packages/torch/utils/data/dataloader.py\u001b[0m in \u001b[0;36m_get_data\u001b[0;34m(self)\u001b[0m\n\u001b[1;32m   1323\u001b[0m         \u001b[0;32melse\u001b[0m\u001b[0;34m:\u001b[0m\u001b[0;34m\u001b[0m\u001b[0;34m\u001b[0m\u001b[0m\n\u001b[1;32m   1324\u001b[0m             \u001b[0;32mwhile\u001b[0m \u001b[0;32mTrue\u001b[0m\u001b[0;34m:\u001b[0m\u001b[0;34m\u001b[0m\u001b[0;34m\u001b[0m\u001b[0m\n\u001b[0;32m-> 1325\u001b[0;31m                 \u001b[0msuccess\u001b[0m\u001b[0;34m,\u001b[0m \u001b[0mdata\u001b[0m \u001b[0;34m=\u001b[0m \u001b[0mself\u001b[0m\u001b[0;34m.\u001b[0m\u001b[0m_try_get_data\u001b[0m\u001b[0;34m(\u001b[0m\u001b[0;34m)\u001b[0m\u001b[0;34m\u001b[0m\u001b[0;34m\u001b[0m\u001b[0m\n\u001b[0m\u001b[1;32m   1326\u001b[0m                 \u001b[0;32mif\u001b[0m \u001b[0msuccess\u001b[0m\u001b[0;34m:\u001b[0m\u001b[0;34m\u001b[0m\u001b[0;34m\u001b[0m\u001b[0m\n\u001b[1;32m   1327\u001b[0m                     \u001b[0;32mreturn\u001b[0m \u001b[0mdata\u001b[0m\u001b[0;34m\u001b[0m\u001b[0;34m\u001b[0m\u001b[0m\n",
      "\u001b[0;32m/opt/mambaforge/envs/landing/lib/python3.8/site-packages/torch/utils/data/dataloader.py\u001b[0m in \u001b[0;36m_try_get_data\u001b[0;34m(self, timeout)\u001b[0m\n\u001b[1;32m   1161\u001b[0m         \u001b[0;31m#   (bool: whether successfully get data, any: data if successful else None)\u001b[0m\u001b[0;34m\u001b[0m\u001b[0;34m\u001b[0m\u001b[0;34m\u001b[0m\u001b[0m\n\u001b[1;32m   1162\u001b[0m         \u001b[0;32mtry\u001b[0m\u001b[0;34m:\u001b[0m\u001b[0;34m\u001b[0m\u001b[0;34m\u001b[0m\u001b[0m\n\u001b[0;32m-> 1163\u001b[0;31m             \u001b[0mdata\u001b[0m \u001b[0;34m=\u001b[0m \u001b[0mself\u001b[0m\u001b[0;34m.\u001b[0m\u001b[0m_data_queue\u001b[0m\u001b[0;34m.\u001b[0m\u001b[0mget\u001b[0m\u001b[0;34m(\u001b[0m\u001b[0mtimeout\u001b[0m\u001b[0;34m=\u001b[0m\u001b[0mtimeout\u001b[0m\u001b[0;34m)\u001b[0m\u001b[0;34m\u001b[0m\u001b[0;34m\u001b[0m\u001b[0m\n\u001b[0m\u001b[1;32m   1164\u001b[0m             \u001b[0;32mreturn\u001b[0m \u001b[0;34m(\u001b[0m\u001b[0;32mTrue\u001b[0m\u001b[0;34m,\u001b[0m \u001b[0mdata\u001b[0m\u001b[0;34m)\u001b[0m\u001b[0;34m\u001b[0m\u001b[0;34m\u001b[0m\u001b[0m\n\u001b[1;32m   1165\u001b[0m         \u001b[0;32mexcept\u001b[0m \u001b[0mException\u001b[0m \u001b[0;32mas\u001b[0m \u001b[0me\u001b[0m\u001b[0;34m:\u001b[0m\u001b[0;34m\u001b[0m\u001b[0;34m\u001b[0m\u001b[0m\n",
      "\u001b[0;32m/opt/mambaforge/envs/landing/lib/python3.8/multiprocessing/queues.py\u001b[0m in \u001b[0;36mget\u001b[0;34m(self, block, timeout)\u001b[0m\n\u001b[1;32m    105\u001b[0m                 \u001b[0;32mif\u001b[0m \u001b[0mblock\u001b[0m\u001b[0;34m:\u001b[0m\u001b[0;34m\u001b[0m\u001b[0;34m\u001b[0m\u001b[0m\n\u001b[1;32m    106\u001b[0m                     \u001b[0mtimeout\u001b[0m \u001b[0;34m=\u001b[0m \u001b[0mdeadline\u001b[0m \u001b[0;34m-\u001b[0m \u001b[0mtime\u001b[0m\u001b[0;34m.\u001b[0m\u001b[0mmonotonic\u001b[0m\u001b[0;34m(\u001b[0m\u001b[0;34m)\u001b[0m\u001b[0;34m\u001b[0m\u001b[0;34m\u001b[0m\u001b[0m\n\u001b[0;32m--> 107\u001b[0;31m                     \u001b[0;32mif\u001b[0m \u001b[0;32mnot\u001b[0m \u001b[0mself\u001b[0m\u001b[0;34m.\u001b[0m\u001b[0m_poll\u001b[0m\u001b[0;34m(\u001b[0m\u001b[0mtimeout\u001b[0m\u001b[0;34m)\u001b[0m\u001b[0;34m:\u001b[0m\u001b[0;34m\u001b[0m\u001b[0;34m\u001b[0m\u001b[0m\n\u001b[0m\u001b[1;32m    108\u001b[0m                         \u001b[0;32mraise\u001b[0m \u001b[0mEmpty\u001b[0m\u001b[0;34m\u001b[0m\u001b[0;34m\u001b[0m\u001b[0m\n\u001b[1;32m    109\u001b[0m                 \u001b[0;32melif\u001b[0m \u001b[0;32mnot\u001b[0m \u001b[0mself\u001b[0m\u001b[0;34m.\u001b[0m\u001b[0m_poll\u001b[0m\u001b[0;34m(\u001b[0m\u001b[0;34m)\u001b[0m\u001b[0;34m:\u001b[0m\u001b[0;34m\u001b[0m\u001b[0;34m\u001b[0m\u001b[0m\n",
      "\u001b[0;32m/opt/mambaforge/envs/landing/lib/python3.8/multiprocessing/connection.py\u001b[0m in \u001b[0;36mpoll\u001b[0;34m(self, timeout)\u001b[0m\n\u001b[1;32m    255\u001b[0m         \u001b[0mself\u001b[0m\u001b[0;34m.\u001b[0m\u001b[0m_check_closed\u001b[0m\u001b[0;34m(\u001b[0m\u001b[0;34m)\u001b[0m\u001b[0;34m\u001b[0m\u001b[0;34m\u001b[0m\u001b[0m\n\u001b[1;32m    256\u001b[0m         \u001b[0mself\u001b[0m\u001b[0;34m.\u001b[0m\u001b[0m_check_readable\u001b[0m\u001b[0;34m(\u001b[0m\u001b[0;34m)\u001b[0m\u001b[0;34m\u001b[0m\u001b[0;34m\u001b[0m\u001b[0m\n\u001b[0;32m--> 257\u001b[0;31m         \u001b[0;32mreturn\u001b[0m \u001b[0mself\u001b[0m\u001b[0;34m.\u001b[0m\u001b[0m_poll\u001b[0m\u001b[0;34m(\u001b[0m\u001b[0mtimeout\u001b[0m\u001b[0;34m)\u001b[0m\u001b[0;34m\u001b[0m\u001b[0;34m\u001b[0m\u001b[0m\n\u001b[0m\u001b[1;32m    258\u001b[0m \u001b[0;34m\u001b[0m\u001b[0m\n\u001b[1;32m    259\u001b[0m     \u001b[0;32mdef\u001b[0m \u001b[0m__enter__\u001b[0m\u001b[0;34m(\u001b[0m\u001b[0mself\u001b[0m\u001b[0;34m)\u001b[0m\u001b[0;34m:\u001b[0m\u001b[0;34m\u001b[0m\u001b[0;34m\u001b[0m\u001b[0m\n",
      "\u001b[0;32m/opt/mambaforge/envs/landing/lib/python3.8/multiprocessing/connection.py\u001b[0m in \u001b[0;36m_poll\u001b[0;34m(self, timeout)\u001b[0m\n\u001b[1;32m    422\u001b[0m \u001b[0;34m\u001b[0m\u001b[0m\n\u001b[1;32m    423\u001b[0m     \u001b[0;32mdef\u001b[0m \u001b[0m_poll\u001b[0m\u001b[0;34m(\u001b[0m\u001b[0mself\u001b[0m\u001b[0;34m,\u001b[0m \u001b[0mtimeout\u001b[0m\u001b[0;34m)\u001b[0m\u001b[0;34m:\u001b[0m\u001b[0;34m\u001b[0m\u001b[0;34m\u001b[0m\u001b[0m\n\u001b[0;32m--> 424\u001b[0;31m         \u001b[0mr\u001b[0m \u001b[0;34m=\u001b[0m \u001b[0mwait\u001b[0m\u001b[0;34m(\u001b[0m\u001b[0;34m[\u001b[0m\u001b[0mself\u001b[0m\u001b[0;34m]\u001b[0m\u001b[0;34m,\u001b[0m \u001b[0mtimeout\u001b[0m\u001b[0;34m)\u001b[0m\u001b[0;34m\u001b[0m\u001b[0;34m\u001b[0m\u001b[0m\n\u001b[0m\u001b[1;32m    425\u001b[0m         \u001b[0;32mreturn\u001b[0m \u001b[0mbool\u001b[0m\u001b[0;34m(\u001b[0m\u001b[0mr\u001b[0m\u001b[0;34m)\u001b[0m\u001b[0;34m\u001b[0m\u001b[0;34m\u001b[0m\u001b[0m\n\u001b[1;32m    426\u001b[0m \u001b[0;34m\u001b[0m\u001b[0m\n",
      "\u001b[0;32m/opt/mambaforge/envs/landing/lib/python3.8/multiprocessing/connection.py\u001b[0m in \u001b[0;36mwait\u001b[0;34m(object_list, timeout)\u001b[0m\n\u001b[1;32m    929\u001b[0m \u001b[0;34m\u001b[0m\u001b[0m\n\u001b[1;32m    930\u001b[0m             \u001b[0;32mwhile\u001b[0m \u001b[0;32mTrue\u001b[0m\u001b[0;34m:\u001b[0m\u001b[0;34m\u001b[0m\u001b[0;34m\u001b[0m\u001b[0m\n\u001b[0;32m--> 931\u001b[0;31m                 \u001b[0mready\u001b[0m \u001b[0;34m=\u001b[0m \u001b[0mselector\u001b[0m\u001b[0;34m.\u001b[0m\u001b[0mselect\u001b[0m\u001b[0;34m(\u001b[0m\u001b[0mtimeout\u001b[0m\u001b[0;34m)\u001b[0m\u001b[0;34m\u001b[0m\u001b[0;34m\u001b[0m\u001b[0m\n\u001b[0m\u001b[1;32m    932\u001b[0m                 \u001b[0;32mif\u001b[0m \u001b[0mready\u001b[0m\u001b[0;34m:\u001b[0m\u001b[0;34m\u001b[0m\u001b[0;34m\u001b[0m\u001b[0m\n\u001b[1;32m    933\u001b[0m                     \u001b[0;32mreturn\u001b[0m \u001b[0;34m[\u001b[0m\u001b[0mkey\u001b[0m\u001b[0;34m.\u001b[0m\u001b[0mfileobj\u001b[0m \u001b[0;32mfor\u001b[0m \u001b[0;34m(\u001b[0m\u001b[0mkey\u001b[0m\u001b[0;34m,\u001b[0m \u001b[0mevents\u001b[0m\u001b[0;34m)\u001b[0m \u001b[0;32min\u001b[0m \u001b[0mready\u001b[0m\u001b[0;34m]\u001b[0m\u001b[0;34m\u001b[0m\u001b[0;34m\u001b[0m\u001b[0m\n",
      "\u001b[0;32m/opt/mambaforge/envs/landing/lib/python3.8/selectors.py\u001b[0m in \u001b[0;36mselect\u001b[0;34m(self, timeout)\u001b[0m\n\u001b[1;32m    413\u001b[0m         \u001b[0mready\u001b[0m \u001b[0;34m=\u001b[0m \u001b[0;34m[\u001b[0m\u001b[0;34m]\u001b[0m\u001b[0;34m\u001b[0m\u001b[0;34m\u001b[0m\u001b[0m\n\u001b[1;32m    414\u001b[0m         \u001b[0;32mtry\u001b[0m\u001b[0;34m:\u001b[0m\u001b[0;34m\u001b[0m\u001b[0;34m\u001b[0m\u001b[0m\n\u001b[0;32m--> 415\u001b[0;31m             \u001b[0mfd_event_list\u001b[0m \u001b[0;34m=\u001b[0m \u001b[0mself\u001b[0m\u001b[0;34m.\u001b[0m\u001b[0m_selector\u001b[0m\u001b[0;34m.\u001b[0m\u001b[0mpoll\u001b[0m\u001b[0;34m(\u001b[0m\u001b[0mtimeout\u001b[0m\u001b[0;34m)\u001b[0m\u001b[0;34m\u001b[0m\u001b[0;34m\u001b[0m\u001b[0m\n\u001b[0m\u001b[1;32m    416\u001b[0m         \u001b[0;32mexcept\u001b[0m \u001b[0mInterruptedError\u001b[0m\u001b[0;34m:\u001b[0m\u001b[0;34m\u001b[0m\u001b[0;34m\u001b[0m\u001b[0m\n\u001b[1;32m    417\u001b[0m             \u001b[0;32mreturn\u001b[0m \u001b[0mready\u001b[0m\u001b[0;34m\u001b[0m\u001b[0;34m\u001b[0m\u001b[0m\n",
      "\u001b[0;31mKeyboardInterrupt\u001b[0m: "
     ]
    }
   ],
   "source": [
    "def train(model, optimizer, n_epochs):\n",
    "    best_test_acc = 0.\n",
    "    for epoch in range(n_epochs):\n",
    "        model.train()\n",
    "        train_loss = 0.0\n",
    "        for batch_idx, (batch_x, batch_y) in enumerate(trainloader):\n",
    "            batch_x, batch_y = batch_x.to(device), batch_y.to(device)\n",
    "            logits = model(batch_x)\n",
    "            loss = model.loss(logits, batch_y)\n",
    "            train_loss =+ loss.item() * batch_x.size(0)\n",
    "            optimizer.zero_grad()\n",
    "            loss.backward()\n",
    "            optimizer.step()\n",
    "        print(train_loss)\n",
    "\n",
    "        # Test\n",
    "        model.eval()\n",
    "        with torch.no_grad():\n",
    "            test_loss = 0.\n",
    "            correct = 0.\n",
    "            for batch_x, batch_y in testloader:\n",
    "                batch_x, batch_y = batch_x.to(device), batch_y.to(device)\n",
    "                logits = model(batch_x)\n",
    "                loss = model.loss(logits, batch_y)\n",
    "                test_loss += loss.item() * batch_x.size(0)\n",
    "                correct += model.correct(logits, batch_y).item()\n",
    "        print(100 * correct / len(testset))\n",
    "\n",
    "train(model1, optimizer1, 50)\n",
    "#train(model2, optimizer2, 8)"
   ]
  },
  {
   "cell_type": "code",
   "execution_count": 4,
   "metadata": {},
   "outputs": [],
   "source": [
    "#torch.save(model1, 'VGG16_1.pt')\n",
    "#torch.save(model2, 'VGG16_2.pt')\n",
    "model1 = torch.load('VGG16_1.pt')\n",
    "model2 = torch.load('VGG16_2.pt')"
   ]
  },
  {
   "cell_type": "code",
   "execution_count": 5,
   "metadata": {},
   "outputs": [
    {
     "data": {
      "text/plain": [
       "<torch.utils.hooks.RemovableHandle at 0x7f50be48c3d0>"
      ]
     },
     "execution_count": 5,
     "metadata": {},
     "output_type": "execute_result"
    }
   ],
   "source": [
    "activation = {}\n",
    "def get_activation(name):\n",
    "    def hook(model, input, output):\n",
    "        activation[name] = output.detach()\n",
    "    return hook\n",
    "\n",
    "model1.features[10].register_forward_hook(get_activation('features1'))\n",
    "model2.features[10].register_forward_hook(get_activation('features2'))"
   ]
  },
  {
   "cell_type": "code",
   "execution_count": 6,
   "metadata": {},
   "outputs": [],
   "source": [
    "batch_idx, (batch_x, batch_y) = enumerate(trainloader).__next__()\n",
    "batch_x, batch_y = batch_x.to(device), batch_y.to(device)\n",
    "\n",
    "\n",
    "with torch.no_grad():\n",
    "    _ = model1(batch_x)\n",
    "    _ = model2(batch_x)\n",
    "    features1 = activation['features1'].view((activation['features1'].shape[0],-1))\n",
    "    features2 = activation['features2'].view((activation['features2'].shape[0],-1))\n",
    "    features1 = (features1 - torch.mean(features1, dim=0))\n",
    "    features2 = (features2 - torch.mean(features2, dim=0))\n",
    "\n",
    "p = 20\n",
    "_, S1, Q1 = torch.linalg.svd(features1, full_matrices=False)\n",
    "_, S2, Q2 = torch.linalg.svd(features2, full_matrices=False)\n",
    "Q1 = Q1[:p,:].T / S1[:p]\n",
    "Q2 = Q2[:p,:].T / S2[:p]\n",
    "\n",
    "best_test_acc = 0.\n",
    "learning_rate = 1e-8\n",
    "lambda_regul = 1\n",
    "Q1 = torch.nn.Parameter(Q1)\n",
    "Q2 = torch.nn.Parameter(Q2)\n",
    "\n",
    "optimizerCCA = LandingGeneralizedStiefel((Q1,Q2), \n",
    "        lr=learning_rate, lambda_regul=lambda_regul)"
   ]
  },
  {
   "cell_type": "code",
   "execution_count": 7,
   "metadata": {},
   "outputs": [
    {
     "data": {
      "image/png": "[encoded data removed]",
      "text/plain": [
       "<Figure size 432x288 with 2 Axes>"
      ]
     },
     "metadata": {
      "needs_background": "light"
     },
     "output_type": "display_data"
    },
    {
     "data": {
      "image/png": "[encoded data removed]",
      "text/plain": [
       "<Figure size 432x288 with 2 Axes>"
      ]
     },
     "metadata": {
      "needs_background": "light"
     },
     "output_type": "display_data"
    },
    {
     "data": {
      "image/png": "[encoded data removed]",
      "text/plain": [
       "<Figure size 432x288 with 2 Axes>"
      ]
     },
     "metadata": {
      "needs_background": "light"
     },
     "output_type": "display_data"
    },
    {
     "name": "stdout",
     "output_type": "stream",
     "text": [
      "tensor([ 0.9232, -0.3281, -0.0975,  0.2592, -0.0148, -0.1336, -0.0028,  0.2133,\n",
      "         0.2294,  0.2198,  0.0368, -0.1025, -0.1010,  0.2862, -0.0598,  0.0766,\n",
      "         0.0082, -0.0771,  0.0641, -0.0572], device='cuda:0',\n",
      "       grad_fn=<DiagBackward0>)\n"
     ]
    }
   ],
   "source": [
    "plt.imshow((Q2.T @ features2.T@ features2 @ Q2).cpu().detach().numpy())\n",
    "plt.colorbar()\n",
    "plt.show()\n",
    "\n",
    "plt.imshow((Q1.T @ features1.T@ features1 @ Q1).cpu().detach().numpy())\n",
    "plt.colorbar()\n",
    "plt.show()\n",
    "\n",
    "plt.imshow(np.abs((Q1.T @ features1.T@ features2 @ Q2).cpu().detach().numpy()))\n",
    "plt.colorbar()\n",
    "plt.show()\n",
    "\n",
    "print(torch.diag((features1 @ Q1).T @ (features2 @ Q2)))"
   ]
  },
  {
   "cell_type": "code",
   "execution_count": 8,
   "metadata": {},
   "outputs": [],
   "source": [
    "for g in optimizerCCA.param_groups:\n",
    "      g['lr'] = g['lr'] / 10\n",
    "      g['lambda_regul'] = g['lambda_regul']"
   ]
  },
  {
   "cell_type": "code",
   "execution_count": 9,
   "metadata": {},
   "outputs": [
    {
     "name": "stdout",
     "output_type": "stream",
     "text": [
      "Objective: -9.61416\n",
      "Dist Q1: 3.65003\n",
      "Dist Q2: 3.80091\n",
      "Objective: -11.50668\n",
      "Dist Q1: 3.65394\n",
      "Dist Q2: 3.85008\n",
      "Objective: -12.63437\n",
      "Dist Q1: 3.65651\n",
      "Dist Q2: 3.83800\n",
      "Objective: -13.01447\n",
      "Dist Q1: 3.65966\n",
      "Dist Q2: 3.82516\n",
      "Objective: -13.49870\n",
      "Dist Q1: 3.66194\n",
      "Dist Q2: 3.81374\n",
      "Objective: -13.58173\n",
      "Dist Q1: 3.66460\n",
      "Dist Q2: 3.80699\n",
      "Objective: -13.77267\n",
      "Dist Q1: 3.66724\n",
      "Dist Q2: 3.80016\n",
      "Objective: -13.37390\n",
      "Dist Q1: 3.66966\n",
      "Dist Q2: 3.79381\n",
      "Objective: -13.87409\n",
      "Dist Q1: 3.67225\n",
      "Dist Q2: 3.78871\n",
      "Objective: -13.73200\n",
      "Dist Q1: 3.67494\n",
      "Dist Q2: 3.78571\n",
      "Objective: -13.83156\n",
      "Dist Q1: 3.67704\n",
      "Dist Q2: 3.78237\n",
      "Objective: -13.64179\n",
      "Dist Q1: 3.68011\n",
      "Dist Q2: 3.77989\n",
      "Objective: -13.66645\n",
      "Dist Q1: 3.68256\n",
      "Dist Q2: 3.77719\n",
      "Objective: -13.82600\n",
      "Dist Q1: 3.68515\n",
      "Dist Q2: 3.77541\n",
      "Objective: -13.63936\n",
      "Dist Q1: 3.68733\n",
      "Dist Q2: 3.77366\n",
      "Objective: -13.83434\n",
      "Dist Q1: 3.68974\n",
      "Dist Q2: 3.77330\n",
      "Objective: -13.85437\n",
      "Dist Q1: 3.69237\n",
      "Dist Q2: 3.77259\n",
      "Objective: -13.80661\n",
      "Dist Q1: 3.69492\n",
      "Dist Q2: 3.77249\n",
      "Objective: -13.77804\n",
      "Dist Q1: 3.69726\n",
      "Dist Q2: 3.77291\n",
      "Objective: -13.81183\n",
      "Dist Q1: 3.69960\n",
      "Dist Q2: 3.77288\n"
     ]
    }
   ],
   "source": [
    "for epoch in range(20):\n",
    "    model1.eval()\n",
    "    model2.eval()\n",
    "    train_loss = 0\n",
    "    dist1 = torch.zeros(p,p, device = device)\n",
    "    dist2 = torch.zeros(p,p, device = device)\n",
    "    for batch_idx, (batch_x, batch_y) in enumerate(trainloader):\n",
    "        batch_x, batch_y = batch_x.to(device), batch_y.to(device)\n",
    "        with torch.no_grad():\n",
    "            _ = model1(batch_x)\n",
    "            _ = model2(batch_x)\n",
    "            features1 = activation['features1'].view((activation['features1'].shape[0],-1))\n",
    "            features2 = activation['features2'].view((activation['features2'].shape[0],-1))\n",
    "            features1 = (features1 - torch.mean(features1, dim=0))\n",
    "            features2 = (features2 - torch.mean(features2, dim=0))\n",
    "        loss = -torch.trace( (Q1.T @ features1.T) @ (features2 @ Q2)) /  (batch_x.size(0))\n",
    "        train_loss =+ loss.item() * batch_x.size(0)\n",
    "        dist1 += (features1 @ Q1).T @ (features1 @ Q1) \n",
    "        dist2 += (features2 @ Q2).T @ (features2 @ Q2)\n",
    "        optimizerCCA.zero_grad()\n",
    "        loss.backward()\n",
    "        optimizerCCA.step(((features1, features2 ),))\n",
    "    print('Objective: %2.5f' % train_loss)\n",
    "    print('Dist Q1: %2.5f' % (torch.linalg.norm(dist1 - torch.eye(p,p, device = device)).item() / len(trainloader)))\n",
    "    print('Dist Q2: %2.5f' % (torch.linalg.norm(dist2 - torch.eye(p,p, device = device)).item() /len(trainloader)) )"
   ]
  },
  {
   "cell_type": "code",
   "execution_count": 3,
   "metadata": {},
   "outputs": [],
   "source": [
    "def VectorizeImage(batch):\n",
    "    data = [item[0].view(-1).unsqueeze(1)[:500] for item in batch]\n",
    "    return(torch.cat(data, dim = 1))\n",
    "\n",
    "loader_A = torch.utils.data.DataLoader(trainset, batch_size=batch_size, shuffle=False, num_workers=2, collate_fn=VectorizeImage)"
   ]
  },
  {
   "cell_type": "code",
   "execution_count": 6,
   "metadata": {},
   "outputs": [
    {
     "ename": "KeyboardInterrupt",
     "evalue": "",
     "output_type": "error",
     "traceback": [
      "\u001b[0;31m---------------------------------------------------------------------------\u001b[0m",
      "\u001b[0;31mKeyboardInterrupt\u001b[0m                         Traceback (most recent call last)",
      "\u001b[0;32m/tmp/ipykernel_366434/4260686686.py\u001b[0m in \u001b[0;36m<module>\u001b[0;34m\u001b[0m\n\u001b[0;32m----> 1\u001b[0;31m \u001b[0mLandingCCA\u001b[0m\u001b[0;34m(\u001b[0m\u001b[0miter\u001b[0m\u001b[0;34m(\u001b[0m\u001b[0mloader_A\u001b[0m\u001b[0;34m)\u001b[0m\u001b[0;34m,\u001b[0m \u001b[0miter\u001b[0m\u001b[0;34m(\u001b[0m\u001b[0mloader_A\u001b[0m\u001b[0;34m)\u001b[0m\u001b[0;34m,\u001b[0m \u001b[0mp\u001b[0m \u001b[0;34m=\u001b[0m \u001b[0;36m10\u001b[0m\u001b[0;34m,\u001b[0m \u001b[0mlearning_rate\u001b[0m \u001b[0;34m=\u001b[0m \u001b[0;36m1e-3\u001b[0m\u001b[0;34m,\u001b[0m \u001b[0mlambda_regul\u001b[0m \u001b[0;34m=\u001b[0m \u001b[0;36m1\u001b[0m\u001b[0;34m,\u001b[0m  \u001b[0mn_epochs\u001b[0m\u001b[0;34m=\u001b[0m\u001b[0;36m5\u001b[0m\u001b[0;34m,\u001b[0m \u001b[0mdevice\u001b[0m \u001b[0;34m=\u001b[0m \u001b[0;34m'cuda'\u001b[0m\u001b[0;34m)\u001b[0m\u001b[0;34m\u001b[0m\u001b[0;34m\u001b[0m\u001b[0m\n\u001b[0m",
      "\u001b[0;32m~/src/landing-generalized-stiefel/solvers/landing_cca.py\u001b[0m in \u001b[0;36mLandingCCA\u001b[0;34m(dataloader_A, dataloader_B, p, learning_rate, lambda_regul, n_epochs, device)\u001b[0m\n\u001b[1;32m      8\u001b[0m     \u001b[0;34m''' Takes two iter objects that return matrices that return the same number of batches'''\u001b[0m\u001b[0;34m\u001b[0m\u001b[0;34m\u001b[0m\u001b[0m\n\u001b[1;32m      9\u001b[0m \u001b[0;34m\u001b[0m\u001b[0m\n\u001b[0;32m---> 10\u001b[0;31m     \u001b[0mA\u001b[0m \u001b[0;34m=\u001b[0m \u001b[0mdataloader_A\u001b[0m\u001b[0;34m.\u001b[0m\u001b[0m__next__\u001b[0m\u001b[0;34m(\u001b[0m\u001b[0;34m)\u001b[0m\u001b[0;34m.\u001b[0m\u001b[0mto\u001b[0m\u001b[0;34m(\u001b[0m\u001b[0mdevice\u001b[0m\u001b[0;34m)\u001b[0m\u001b[0;34m\u001b[0m\u001b[0;34m\u001b[0m\u001b[0m\n\u001b[0m\u001b[1;32m     11\u001b[0m     \u001b[0mB\u001b[0m \u001b[0;34m=\u001b[0m \u001b[0mdataloader_B\u001b[0m\u001b[0;34m.\u001b[0m\u001b[0m__next__\u001b[0m\u001b[0;34m(\u001b[0m\u001b[0;34m)\u001b[0m\u001b[0;34m.\u001b[0m\u001b[0mto\u001b[0m\u001b[0;34m(\u001b[0m\u001b[0mdevice\u001b[0m\u001b[0;34m)\u001b[0m\u001b[0;34m\u001b[0m\u001b[0;34m\u001b[0m\u001b[0m\n\u001b[1;32m     12\u001b[0m \u001b[0;34m\u001b[0m\u001b[0m\n",
      "\u001b[0;32m/opt/mambaforge/envs/landing/lib/python3.8/site-packages/torch/utils/data/dataloader.py\u001b[0m in \u001b[0;36m__next__\u001b[0;34m(self)\u001b[0m\n\u001b[1;32m    679\u001b[0m                 \u001b[0;31m# TODO(https://github.com/pytorch/pytorch/issues/76750)\u001b[0m\u001b[0;34m\u001b[0m\u001b[0;34m\u001b[0m\u001b[0;34m\u001b[0m\u001b[0m\n\u001b[1;32m    680\u001b[0m                 \u001b[0mself\u001b[0m\u001b[0;34m.\u001b[0m\u001b[0m_reset\u001b[0m\u001b[0;34m(\u001b[0m\u001b[0;34m)\u001b[0m  \u001b[0;31m# type: ignore[call-arg]\u001b[0m\u001b[0;34m\u001b[0m\u001b[0;34m\u001b[0m\u001b[0m\n\u001b[0;32m--> 681\u001b[0;31m             \u001b[0mdata\u001b[0m \u001b[0;34m=\u001b[0m \u001b[0mself\u001b[0m\u001b[0;34m.\u001b[0m\u001b[0m_next_data\u001b[0m\u001b[0;34m(\u001b[0m\u001b[0;34m)\u001b[0m\u001b[0;34m\u001b[0m\u001b[0;34m\u001b[0m\u001b[0m\n\u001b[0m\u001b[1;32m    682\u001b[0m             \u001b[0mself\u001b[0m\u001b[0;34m.\u001b[0m\u001b[0m_num_yielded\u001b[0m \u001b[0;34m+=\u001b[0m \u001b[0;36m1\u001b[0m\u001b[0;34m\u001b[0m\u001b[0;34m\u001b[0m\u001b[0m\n\u001b[1;32m    683\u001b[0m             \u001b[0;32mif\u001b[0m \u001b[0mself\u001b[0m\u001b[0;34m.\u001b[0m\u001b[0m_dataset_kind\u001b[0m \u001b[0;34m==\u001b[0m \u001b[0m_DatasetKind\u001b[0m\u001b[0;34m.\u001b[0m\u001b[0mIterable\u001b[0m \u001b[0;32mand\u001b[0m\u001b[0;31m \u001b[0m\u001b[0;31m\\\u001b[0m\u001b[0;34m\u001b[0m\u001b[0;34m\u001b[0m\u001b[0m\n",
      "\u001b[0;32m/opt/mambaforge/envs/landing/lib/python3.8/site-packages/torch/utils/data/dataloader.py\u001b[0m in \u001b[0;36m_next_data\u001b[0;34m(self)\u001b[0m\n\u001b[1;32m   1357\u001b[0m \u001b[0;34m\u001b[0m\u001b[0m\n\u001b[1;32m   1358\u001b[0m             \u001b[0;32massert\u001b[0m \u001b[0;32mnot\u001b[0m \u001b[0mself\u001b[0m\u001b[0;34m.\u001b[0m\u001b[0m_shutdown\u001b[0m \u001b[0;32mand\u001b[0m \u001b[0mself\u001b[0m\u001b[0;34m.\u001b[0m\u001b[0m_tasks_outstanding\u001b[0m \u001b[0;34m>\u001b[0m \u001b[0;36m0\u001b[0m\u001b[0;34m\u001b[0m\u001b[0;34m\u001b[0m\u001b[0m\n\u001b[0;32m-> 1359\u001b[0;31m             \u001b[0midx\u001b[0m\u001b[0;34m,\u001b[0m \u001b[0mdata\u001b[0m \u001b[0;34m=\u001b[0m \u001b[0mself\u001b[0m\u001b[0;34m.\u001b[0m\u001b[0m_get_data\u001b[0m\u001b[0;34m(\u001b[0m\u001b[0;34m)\u001b[0m\u001b[0;34m\u001b[0m\u001b[0;34m\u001b[0m\u001b[0m\n\u001b[0m\u001b[1;32m   1360\u001b[0m             \u001b[0mself\u001b[0m\u001b[0;34m.\u001b[0m\u001b[0m_tasks_outstanding\u001b[0m \u001b[0;34m-=\u001b[0m \u001b[0;36m1\u001b[0m\u001b[0;34m\u001b[0m\u001b[0;34m\u001b[0m\u001b[0m\n\u001b[1;32m   1361\u001b[0m             \u001b[0;32mif\u001b[0m \u001b[0mself\u001b[0m\u001b[0;34m.\u001b[0m\u001b[0m_dataset_kind\u001b[0m \u001b[0;34m==\u001b[0m \u001b[0m_DatasetKind\u001b[0m\u001b[0;34m.\u001b[0m\u001b[0mIterable\u001b[0m\u001b[0;34m:\u001b[0m\u001b[0;34m\u001b[0m\u001b[0;34m\u001b[0m\u001b[0m\n",
      "\u001b[0;32m/opt/mambaforge/envs/landing/lib/python3.8/site-packages/torch/utils/data/dataloader.py\u001b[0m in \u001b[0;36m_get_data\u001b[0;34m(self)\u001b[0m\n\u001b[1;32m   1323\u001b[0m         \u001b[0;32melse\u001b[0m\u001b[0;34m:\u001b[0m\u001b[0;34m\u001b[0m\u001b[0;34m\u001b[0m\u001b[0m\n\u001b[1;32m   1324\u001b[0m             \u001b[0;32mwhile\u001b[0m \u001b[0;32mTrue\u001b[0m\u001b[0;34m:\u001b[0m\u001b[0;34m\u001b[0m\u001b[0;34m\u001b[0m\u001b[0m\n\u001b[0;32m-> 1325\u001b[0;31m                 \u001b[0msuccess\u001b[0m\u001b[0;34m,\u001b[0m \u001b[0mdata\u001b[0m \u001b[0;34m=\u001b[0m \u001b[0mself\u001b[0m\u001b[0;34m.\u001b[0m\u001b[0m_try_get_data\u001b[0m\u001b[0;34m(\u001b[0m\u001b[0;34m)\u001b[0m\u001b[0;34m\u001b[0m\u001b[0;34m\u001b[0m\u001b[0m\n\u001b[0m\u001b[1;32m   1326\u001b[0m                 \u001b[0;32mif\u001b[0m \u001b[0msuccess\u001b[0m\u001b[0;34m:\u001b[0m\u001b[0;34m\u001b[0m\u001b[0;34m\u001b[0m\u001b[0m\n\u001b[1;32m   1327\u001b[0m                     \u001b[0;32mreturn\u001b[0m \u001b[0mdata\u001b[0m\u001b[0;34m\u001b[0m\u001b[0;34m\u001b[0m\u001b[0m\n",
      "\u001b[0;32m/opt/mambaforge/envs/landing/lib/python3.8/site-packages/torch/utils/data/dataloader.py\u001b[0m in \u001b[0;36m_try_get_data\u001b[0;34m(self, timeout)\u001b[0m\n\u001b[1;32m   1161\u001b[0m         \u001b[0;31m#   (bool: whether successfully get data, any: data if successful else None)\u001b[0m\u001b[0;34m\u001b[0m\u001b[0;34m\u001b[0m\u001b[0;34m\u001b[0m\u001b[0m\n\u001b[1;32m   1162\u001b[0m         \u001b[0;32mtry\u001b[0m\u001b[0;34m:\u001b[0m\u001b[0;34m\u001b[0m\u001b[0;34m\u001b[0m\u001b[0m\n\u001b[0;32m-> 1163\u001b[0;31m             \u001b[0mdata\u001b[0m \u001b[0;34m=\u001b[0m \u001b[0mself\u001b[0m\u001b[0;34m.\u001b[0m\u001b[0m_data_queue\u001b[0m\u001b[0;34m.\u001b[0m\u001b[0mget\u001b[0m\u001b[0;34m(\u001b[0m\u001b[0mtimeout\u001b[0m\u001b[0;34m=\u001b[0m\u001b[0mtimeout\u001b[0m\u001b[0;34m)\u001b[0m\u001b[0;34m\u001b[0m\u001b[0;34m\u001b[0m\u001b[0m\n\u001b[0m\u001b[1;32m   1164\u001b[0m             \u001b[0;32mreturn\u001b[0m \u001b[0;34m(\u001b[0m\u001b[0;32mTrue\u001b[0m\u001b[0;34m,\u001b[0m \u001b[0mdata\u001b[0m\u001b[0;34m)\u001b[0m\u001b[0;34m\u001b[0m\u001b[0;34m\u001b[0m\u001b[0m\n\u001b[1;32m   1165\u001b[0m         \u001b[0;32mexcept\u001b[0m \u001b[0mException\u001b[0m \u001b[0;32mas\u001b[0m \u001b[0me\u001b[0m\u001b[0;34m:\u001b[0m\u001b[0;34m\u001b[0m\u001b[0;34m\u001b[0m\u001b[0m\n",
      "\u001b[0;32m/opt/mambaforge/envs/landing/lib/python3.8/multiprocessing/queues.py\u001b[0m in \u001b[0;36mget\u001b[0;34m(self, block, timeout)\u001b[0m\n\u001b[1;32m    105\u001b[0m                 \u001b[0;32mif\u001b[0m \u001b[0mblock\u001b[0m\u001b[0;34m:\u001b[0m\u001b[0;34m\u001b[0m\u001b[0;34m\u001b[0m\u001b[0m\n\u001b[1;32m    106\u001b[0m                     \u001b[0mtimeout\u001b[0m \u001b[0;34m=\u001b[0m \u001b[0mdeadline\u001b[0m \u001b[0;34m-\u001b[0m \u001b[0mtime\u001b[0m\u001b[0;34m.\u001b[0m\u001b[0mmonotonic\u001b[0m\u001b[0;34m(\u001b[0m\u001b[0;34m)\u001b[0m\u001b[0;34m\u001b[0m\u001b[0;34m\u001b[0m\u001b[0m\n\u001b[0;32m--> 107\u001b[0;31m                     \u001b[0;32mif\u001b[0m \u001b[0;32mnot\u001b[0m \u001b[0mself\u001b[0m\u001b[0;34m.\u001b[0m\u001b[0m_poll\u001b[0m\u001b[0;34m(\u001b[0m\u001b[0mtimeout\u001b[0m\u001b[0;34m)\u001b[0m\u001b[0;34m:\u001b[0m\u001b[0;34m\u001b[0m\u001b[0;34m\u001b[0m\u001b[0m\n\u001b[0m\u001b[1;32m    108\u001b[0m                         \u001b[0;32mraise\u001b[0m \u001b[0mEmpty\u001b[0m\u001b[0;34m\u001b[0m\u001b[0;34m\u001b[0m\u001b[0m\n\u001b[1;32m    109\u001b[0m                 \u001b[0;32melif\u001b[0m \u001b[0;32mnot\u001b[0m \u001b[0mself\u001b[0m\u001b[0;34m.\u001b[0m\u001b[0m_poll\u001b[0m\u001b[0;34m(\u001b[0m\u001b[0;34m)\u001b[0m\u001b[0;34m:\u001b[0m\u001b[0;34m\u001b[0m\u001b[0;34m\u001b[0m\u001b[0m\n",
      "\u001b[0;32m/opt/mambaforge/envs/landing/lib/python3.8/multiprocessing/connection.py\u001b[0m in \u001b[0;36mpoll\u001b[0;34m(self, timeout)\u001b[0m\n\u001b[1;32m    255\u001b[0m         \u001b[0mself\u001b[0m\u001b[0;34m.\u001b[0m\u001b[0m_check_closed\u001b[0m\u001b[0;34m(\u001b[0m\u001b[0;34m)\u001b[0m\u001b[0;34m\u001b[0m\u001b[0;34m\u001b[0m\u001b[0m\n\u001b[1;32m    256\u001b[0m         \u001b[0mself\u001b[0m\u001b[0;34m.\u001b[0m\u001b[0m_check_readable\u001b[0m\u001b[0;34m(\u001b[0m\u001b[0;34m)\u001b[0m\u001b[0;34m\u001b[0m\u001b[0;34m\u001b[0m\u001b[0m\n\u001b[0;32m--> 257\u001b[0;31m         \u001b[0;32mreturn\u001b[0m \u001b[0mself\u001b[0m\u001b[0;34m.\u001b[0m\u001b[0m_poll\u001b[0m\u001b[0;34m(\u001b[0m\u001b[0mtimeout\u001b[0m\u001b[0;34m)\u001b[0m\u001b[0;34m\u001b[0m\u001b[0;34m\u001b[0m\u001b[0m\n\u001b[0m\u001b[1;32m    258\u001b[0m \u001b[0;34m\u001b[0m\u001b[0m\n\u001b[1;32m    259\u001b[0m     \u001b[0;32mdef\u001b[0m \u001b[0m__enter__\u001b[0m\u001b[0;34m(\u001b[0m\u001b[0mself\u001b[0m\u001b[0;34m)\u001b[0m\u001b[0;34m:\u001b[0m\u001b[0;34m\u001b[0m\u001b[0;34m\u001b[0m\u001b[0m\n",
      "\u001b[0;32m/opt/mambaforge/envs/landing/lib/python3.8/multiprocessing/connection.py\u001b[0m in \u001b[0;36m_poll\u001b[0;34m(self, timeout)\u001b[0m\n\u001b[1;32m    422\u001b[0m \u001b[0;34m\u001b[0m\u001b[0m\n\u001b[1;32m    423\u001b[0m     \u001b[0;32mdef\u001b[0m \u001b[0m_poll\u001b[0m\u001b[0;34m(\u001b[0m\u001b[0mself\u001b[0m\u001b[0;34m,\u001b[0m \u001b[0mtimeout\u001b[0m\u001b[0;34m)\u001b[0m\u001b[0;34m:\u001b[0m\u001b[0;34m\u001b[0m\u001b[0;34m\u001b[0m\u001b[0m\n\u001b[0;32m--> 424\u001b[0;31m         \u001b[0mr\u001b[0m \u001b[0;34m=\u001b[0m \u001b[0mwait\u001b[0m\u001b[0;34m(\u001b[0m\u001b[0;34m[\u001b[0m\u001b[0mself\u001b[0m\u001b[0;34m]\u001b[0m\u001b[0;34m,\u001b[0m \u001b[0mtimeout\u001b[0m\u001b[0;34m)\u001b[0m\u001b[0;34m\u001b[0m\u001b[0;34m\u001b[0m\u001b[0m\n\u001b[0m\u001b[1;32m    425\u001b[0m         \u001b[0;32mreturn\u001b[0m \u001b[0mbool\u001b[0m\u001b[0;34m(\u001b[0m\u001b[0mr\u001b[0m\u001b[0;34m)\u001b[0m\u001b[0;34m\u001b[0m\u001b[0;34m\u001b[0m\u001b[0m\n\u001b[1;32m    426\u001b[0m \u001b[0;34m\u001b[0m\u001b[0m\n",
      "\u001b[0;32m/opt/mambaforge/envs/landing/lib/python3.8/multiprocessing/connection.py\u001b[0m in \u001b[0;36mwait\u001b[0;34m(object_list, timeout)\u001b[0m\n\u001b[1;32m    929\u001b[0m \u001b[0;34m\u001b[0m\u001b[0m\n\u001b[1;32m    930\u001b[0m             \u001b[0;32mwhile\u001b[0m \u001b[0;32mTrue\u001b[0m\u001b[0;34m:\u001b[0m\u001b[0;34m\u001b[0m\u001b[0;34m\u001b[0m\u001b[0m\n\u001b[0;32m--> 931\u001b[0;31m                 \u001b[0mready\u001b[0m \u001b[0;34m=\u001b[0m \u001b[0mselector\u001b[0m\u001b[0;34m.\u001b[0m\u001b[0mselect\u001b[0m\u001b[0;34m(\u001b[0m\u001b[0mtimeout\u001b[0m\u001b[0;34m)\u001b[0m\u001b[0;34m\u001b[0m\u001b[0;34m\u001b[0m\u001b[0m\n\u001b[0m\u001b[1;32m    932\u001b[0m                 \u001b[0;32mif\u001b[0m \u001b[0mready\u001b[0m\u001b[0;34m:\u001b[0m\u001b[0;34m\u001b[0m\u001b[0;34m\u001b[0m\u001b[0m\n\u001b[1;32m    933\u001b[0m                     \u001b[0;32mreturn\u001b[0m \u001b[0;34m[\u001b[0m\u001b[0mkey\u001b[0m\u001b[0;34m.\u001b[0m\u001b[0mfileobj\u001b[0m \u001b[0;32mfor\u001b[0m \u001b[0;34m(\u001b[0m\u001b[0mkey\u001b[0m\u001b[0;34m,\u001b[0m \u001b[0mevents\u001b[0m\u001b[0;34m)\u001b[0m \u001b[0;32min\u001b[0m \u001b[0mready\u001b[0m\u001b[0;34m]\u001b[0m\u001b[0;34m\u001b[0m\u001b[0;34m\u001b[0m\u001b[0m\n",
      "\u001b[0;32m/opt/mambaforge/envs/landing/lib/python3.8/selectors.py\u001b[0m in \u001b[0;36mselect\u001b[0;34m(self, timeout)\u001b[0m\n\u001b[1;32m    413\u001b[0m         \u001b[0mready\u001b[0m \u001b[0;34m=\u001b[0m \u001b[0;34m[\u001b[0m\u001b[0;34m]\u001b[0m\u001b[0;34m\u001b[0m\u001b[0;34m\u001b[0m\u001b[0m\n\u001b[1;32m    414\u001b[0m         \u001b[0;32mtry\u001b[0m\u001b[0;34m:\u001b[0m\u001b[0;34m\u001b[0m\u001b[0;34m\u001b[0m\u001b[0m\n\u001b[0;32m--> 415\u001b[0;31m             \u001b[0mfd_event_list\u001b[0m \u001b[0;34m=\u001b[0m \u001b[0mself\u001b[0m\u001b[0;34m.\u001b[0m\u001b[0m_selector\u001b[0m\u001b[0;34m.\u001b[0m\u001b[0mpoll\u001b[0m\u001b[0;34m(\u001b[0m\u001b[0mtimeout\u001b[0m\u001b[0;34m)\u001b[0m\u001b[0;34m\u001b[0m\u001b[0;34m\u001b[0m\u001b[0m\n\u001b[0m\u001b[1;32m    416\u001b[0m         \u001b[0;32mexcept\u001b[0m \u001b[0mInterruptedError\u001b[0m\u001b[0;34m:\u001b[0m\u001b[0;34m\u001b[0m\u001b[0;34m\u001b[0m\u001b[0m\n\u001b[1;32m    417\u001b[0m             \u001b[0;32mreturn\u001b[0m \u001b[0mready\u001b[0m\u001b[0;34m\u001b[0m\u001b[0;34m\u001b[0m\u001b[0m\n",
      "\u001b[0;31mKeyboardInterrupt\u001b[0m: "
     ]
    }
   ],
   "source": [
    "LandingCCA(iter(loader_A), iter(loader_A), p = 10, learning_rate = 1e-3, lambda_regul = 1,  n_epochs=5, device = 'cuda')"
   ]
  },
  {
   "cell_type": "code",
   "execution_count": 10,
   "metadata": {},
   "outputs": [
    {
     "data": {
      "image/png": "[encoded data removed]",
      "text/plain": [
       "<Figure size 432x288 with 2 Axes>"
      ]
     },
     "metadata": {
      "needs_background": "light"
     },
     "output_type": "display_data"
    },
    {
     "data": {
      "image/png": "[encoded data removed]",
      "text/plain": [
       "<Figure size 432x288 with 2 Axes>"
      ]
     },
     "metadata": {
      "needs_background": "light"
     },
     "output_type": "display_data"
    },
    {
     "data": {
      "image/png": "[encoded data removed]",
      "text/plain": [
       "<Figure size 432x288 with 2 Axes>"
      ]
     },
     "metadata": {
      "needs_background": "light"
     },
     "output_type": "display_data"
    }
   ],
   "source": [
    "plt.imshow(dist1.cpu().detach().numpy()/len(trainloader))\n",
    "plt.colorbar()\n",
    "plt.show()\n",
    "\n",
    "plt.imshow(dist2.cpu().detach().numpy()/len(trainloader))\n",
    "plt.colorbar()\n",
    "plt.show()\n",
    "\n",
    "plt.imshow((Q1.T @ features1.T@ features2 @ Q2).cpu().detach().numpy())\n",
    "plt.colorbar()\n",
    "plt.show()"
   ]
  },
  {
   "cell_type": "code",
   "execution_count": 12,
   "metadata": {},
   "outputs": [
    {
     "data": {
      "image/png": "[encoded data removed]",
      "text/plain": [
       "<Figure size 432x288 with 2 Axes>"
      ]
     },
     "metadata": {
      "needs_background": "light"
     },
     "output_type": "display_data"
    },
    {
     "data": {
      "image/png": "[encoded data removed]",
      "text/plain": [
       "<Figure size 432x288 with 2 Axes>"
      ]
     },
     "metadata": {
      "needs_background": "light"
     },
     "output_type": "display_data"
    },
    {
     "data": {
      "image/png": "[encoded data removed]",
      "text/plain": [
       "<Figure size 432x288 with 2 Axes>"
      ]
     },
     "metadata": {
      "needs_background": "light"
     },
     "output_type": "display_data"
    }
   ],
   "source": [
    "plt.imshow((Q2.T @ features2.T@ features2 @ Q2).cpu().detach().numpy())\n",
    "plt.colorbar()\n",
    "plt.show()\n",
    "\n",
    "plt.imshow((Q1.T @ features1.T@ features1 @ Q1).cpu().detach().numpy())\n",
    "plt.colorbar()\n",
    "plt.show()\n",
    "\n",
    "plt.imshow((Q1.T @ features1.T@ features2 @ Q2).cpu().detach().numpy())\n",
    "plt.colorbar()\n",
    "plt.show()"
   ]
  },
  {
   "cell_type": "code",
   "execution_count": null,
   "metadata": {},
   "outputs": [
    {
     "data": {
      "text/plain": [
       "tensor(25.3942, device='cuda:0', grad_fn=<SumBackward0>)"
      ]
     },
     "execution_count": 387,
     "metadata": {},
     "output_type": "execute_result"
    }
   ],
   "source": [
    "torch.diag(Q1.T @ features1.T@ features2 @ Q2).sum()"
   ]
  },
  {
   "cell_type": "code",
   "execution_count": null,
   "metadata": {},
   "outputs": [
    {
     "ename": "RuntimeError",
     "evalue": "mat1 and mat2 shapes cannot be multiplied (848x32768 and 16384x848)",
     "output_type": "error",
     "traceback": [
      "\u001b[0;31m---------------------------------------------------------------------------\u001b[0m",
      "\u001b[0;31mRuntimeError\u001b[0m                              Traceback (most recent call last)",
      "\u001b[0;32m/tmp/ipykernel_641341/4260050219.py\u001b[0m in \u001b[0;36m<module>\u001b[0;34m\u001b[0m\n\u001b[0;32m----> 1\u001b[0;31m \u001b[0mtorch\u001b[0m\u001b[0;34m.\u001b[0m\u001b[0mlinalg\u001b[0m\u001b[0;34m.\u001b[0m\u001b[0mnorm\u001b[0m\u001b[0;34m(\u001b[0m\u001b[0mfeatures1\u001b[0m \u001b[0;34m@\u001b[0m \u001b[0mfeatures2\u001b[0m\u001b[0;34m.\u001b[0m\u001b[0mT\u001b[0m\u001b[0;34m)\u001b[0m\u001b[0;34m\u001b[0m\u001b[0;34m\u001b[0m\u001b[0m\n\u001b[0m",
      "\u001b[0;31mRuntimeError\u001b[0m: mat1 and mat2 shapes cannot be multiplied (848x32768 and 16384x848)"
     ]
    }
   ],
   "source": [
    "torch.linalg.norm(features1 @ features2.T)"
   ]
  },
  {
   "cell_type": "code",
   "execution_count": null,
   "metadata": {},
   "outputs": [
    {
     "data": {
      "text/plain": [
       "tensor(1.7435, device='cuda:0', grad_fn=<LinalgVectorNormBackward0>)"
      ]
     },
     "execution_count": 243,
     "metadata": {},
     "output_type": "execute_result"
    }
   ],
   "source": [
    "torch.linalg.norm(features1 @ Q1 @ Q2.T @ features2.T)"
   ]
  },
  {
   "cell_type": "code",
   "execution_count": null,
   "metadata": {},
   "outputs": [
    {
     "data": {
      "text/plain": [
       "torch.Size([80, 80])"
      ]
     },
     "execution_count": 242,
     "metadata": {},
     "output_type": "execute_result"
    }
   ],
   "source": [
    "(features1 @ Q1 @ Q2.T @ features2.T).shape"
   ]
  },
  {
   "cell_type": "code",
   "execution_count": null,
   "metadata": {},
   "outputs": [
    {
     "data": {
      "text/plain": [
       "torch.Size([80, 80])"
      ]
     },
     "execution_count": 241,
     "metadata": {},
     "output_type": "execute_result"
    }
   ],
   "source": [
    "(features1 @ features2.T).shape"
   ]
  },
  {
   "cell_type": "code",
   "execution_count": 217,
   "metadata": {},
   "outputs": [
    {
     "ename": "NameError",
     "evalue": "name 'B_sqrt_inv' is not defined",
     "output_type": "error",
     "traceback": [
      "\u001b[0;31m---------------------------------------------------------------------------\u001b[0m",
      "\u001b[0;31mNameError\u001b[0m                                 Traceback (most recent call last)",
      "\u001b[0;32m/tmp/ipykernel_641341/1391235975.py\u001b[0m in \u001b[0;36m<module>\u001b[0;34m\u001b[0m\n\u001b[0;32m----> 1\u001b[0;31m \u001b[0mx_true\u001b[0m \u001b[0;34m=\u001b[0m \u001b[0mB_sqrt_inv\u001b[0m  \u001b[0;34m@\u001b[0m \u001b[0muG\u001b[0m\u001b[0;34m[\u001b[0m\u001b[0;34m:\u001b[0m\u001b[0;34m,\u001b[0m\u001b[0;34m:\u001b[0m\u001b[0mp\u001b[0m\u001b[0;34m]\u001b[0m\u001b[0;34m\u001b[0m\u001b[0;34m\u001b[0m\u001b[0m\n\u001b[0m",
      "\u001b[0;31mNameError\u001b[0m: name 'B_sqrt_inv' is not defined"
     ]
    }
   ],
   "source": [
    "x_true = B_sqrt_inv  @ uG[:,:p]"
   ]
  },
  {
   "cell_type": "code",
   "execution_count": 204,
   "metadata": {},
   "outputs": [
    {
     "data": {
      "text/plain": [
       "tensor(4.3785, device='cuda:0', grad_fn=<LinalgVectorNormBackward0>)"
      ]
     },
     "execution_count": 204,
     "metadata": {},
     "output_type": "execute_result"
    }
   ],
   "source": [
    "torch.linalg.norm((features1 @ Q1).T @ (features1 @ Q1) - torch.eye(p,p, device = device))"
   ]
  },
  {
   "cell_type": "code",
   "execution_count": 218,
   "metadata": {},
   "outputs": [
    {
     "data": {
      "text/plain": [
       "tensor([0.3751, 0.4544, 0.3530, 0.4672, 0.3098, 0.4153, 0.3651, 0.4537, 0.3104,\n",
       "        0.4110, 0.4458, 0.3260, 0.3644, 0.4497, 0.4044, 0.4983, 0.4550, 0.3374,\n",
       "        0.3649, 0.3223, 0.4536, 0.3510, 0.5946, 0.3729, 0.4212, 0.4352, 0.5927,\n",
       "        0.4242, 0.3799, 0.4061, 0.4219, 0.4915, 0.3397, 0.4305, 0.4621, 0.5205,\n",
       "        0.3581, 0.3714, 0.3048, 0.3836], device='cuda:0',\n",
       "       grad_fn=<DiagBackward0>)"
      ]
     },
     "execution_count": 218,
     "metadata": {},
     "output_type": "execute_result"
    }
   ],
   "source": [
    "torch.diag((features1 @ Q1).T @ (features2 @ Q2))"
   ]
  },
  {
   "cell_type": "code",
   "execution_count": 219,
   "metadata": {},
   "outputs": [
    {
     "data": {
      "text/plain": [
       "tensor(-17784.1172, device='cuda:0')"
      ]
     },
     "execution_count": 219,
     "metadata": {},
     "output_type": "execute_result"
    }
   ],
   "source": [
    "torch.trace( (features1).T @ features2 )"
   ]
  },
  {
   "cell_type": "code",
   "execution_count": 321,
   "metadata": {},
   "outputs": [
    {
     "data": {
      "text/plain": [
       "tensor(0.6224, device='cuda:0', grad_fn=<DivBackward0>)"
      ]
     },
     "execution_count": 321,
     "metadata": {},
     "output_type": "execute_result"
    }
   ],
   "source": [
    "torch.trace( (features1 @ Q1).T @ features2 @ Q2) / 40"
   ]
  },
  {
   "cell_type": "code",
   "execution_count": 221,
   "metadata": {},
   "outputs": [
    {
     "data": {
      "image/png": "[encoded data removed]",
      "text/plain": [
       "<Figure size 432x288 with 2 Axes>"
      ]
     },
     "metadata": {
      "needs_background": "light"
     },
     "output_type": "display_data"
    },
    {
     "data": {
      "image/png": "[encoded data removed]",
      "text/plain": [
       "<Figure size 432x288 with 2 Axes>"
      ]
     },
     "metadata": {
      "needs_background": "light"
     },
     "output_type": "display_data"
    },
    {
     "data": {
      "image/png": "[encoded data removed]",
      "text/plain": [
       "<Figure size 432x288 with 2 Axes>"
      ]
     },
     "metadata": {
      "needs_background": "light"
     },
     "output_type": "display_data"
    }
   ],
   "source": [
    "plt.imshow((Q2.T @ features2.T@ features2 @ Q2).cpu().detach().numpy())\n",
    "plt.colorbar()\n",
    "plt.show()\n",
    "\n",
    "plt.imshow((Q1.T @ features1.T@ features1 @ Q1).cpu().detach().numpy())\n",
    "plt.colorbar()\n",
    "plt.show()\n",
    "\n",
    "plt.imshow((Q1.T @ features1.T@ features2 @ Q2).cpu().detach().numpy())\n",
    "plt.colorbar()\n",
    "plt.show()"
   ]
  },
  {
   "cell_type": "code",
   "execution_count": 246,
   "metadata": {},
   "outputs": [
    {
     "data": {
      "text/plain": [
       "tensor(6.8522, device='cuda:0', grad_fn=<TraceBackward0>)"
      ]
     },
     "execution_count": 246,
     "metadata": {},
     "output_type": "execute_result"
    }
   ],
   "source": [
    "torch.trace(Q1.T @ features1.T@ features2 @ Q2)"
   ]
  },
  {
   "cell_type": "code",
   "execution_count": 19,
   "metadata": {},
   "outputs": [
    {
     "data": {
      "text/plain": [
       "torch.Size([80, 40])"
      ]
     },
     "execution_count": 19,
     "metadata": {},
     "output_type": "execute_result"
    }
   ],
   "source": [
    "(features1 @ Q1).T @ "
   ]
  },
  {
   "cell_type": "code",
   "execution_count": 53,
   "metadata": {},
   "outputs": [],
   "source": [
    "D1 = (features1 @ Q1).cpu().detach().numpy()\n",
    "D2 = (features2 @ Q2).cpu().detach().numpy()\n",
    "\n",
    "D1 = (D1 - D1.mean(axis=0)) #  / D1.std(axis=0) \n",
    "D2 = (D2 - D2.mean(axis=0)) # / D2.std(axis=0)\n",
    "Cov12 = D1.T @ D2 / D1.shape[0]\n"
   ]
  },
  {
   "cell_type": "code",
   "execution_count": 55,
   "metadata": {},
   "outputs": [],
   "source": [
    "from scipy.stats import pearsonr"
   ]
  },
  {
   "cell_type": "code",
   "execution_count": 54,
   "metadata": {},
   "outputs": [
    {
     "data": {
      "text/plain": [
       "<matplotlib.colorbar.Colorbar at 0x7f1d782c6fa0>"
      ]
     },
     "execution_count": 54,
     "metadata": {},
     "output_type": "execute_result"
    },
    {
     "data": {
      "image/png": "[encoded data removed]",
      "text/plain": [
       "<Figure size 432x288 with 2 Axes>"
      ]
     },
     "metadata": {
      "needs_background": "light"
     },
     "output_type": "display_data"
    }
   ],
   "source": [
    "plt.imshow(Cov12 / ())\n",
    "plt.colorbar()"
   ]
  },
  {
   "cell_type": "code",
   "execution_count": 56,
   "metadata": {},
   "outputs": [
    {
     "ename": "TypeError",
     "evalue": "corrcoef() takes 1 positional argument but 2 were given",
     "output_type": "error",
     "traceback": [
      "\u001b[0;31m---------------------------------------------------------------------------\u001b[0m",
      "\u001b[0;31mTypeError\u001b[0m                                 Traceback (most recent call last)",
      "\u001b[0;32m/tmp/ipykernel_641341/2447054774.py\u001b[0m in \u001b[0;36m<module>\u001b[0;34m\u001b[0m\n\u001b[0;32m----> 1\u001b[0;31m \u001b[0mtorch\u001b[0m\u001b[0;34m.\u001b[0m\u001b[0mcorrcoef\u001b[0m\u001b[0;34m(\u001b[0m\u001b[0;34m(\u001b[0m\u001b[0mfeatures1\u001b[0m \u001b[0;34m@\u001b[0m \u001b[0mQ1\u001b[0m\u001b[0;34m)\u001b[0m\u001b[0;34m.\u001b[0m\u001b[0mT\u001b[0m\u001b[0;34m,\u001b[0m \u001b[0;34m(\u001b[0m\u001b[0mfeatures2\u001b[0m \u001b[0;34m@\u001b[0m \u001b[0mQ2\u001b[0m\u001b[0;34m)\u001b[0m\u001b[0;34m.\u001b[0m\u001b[0mT\u001b[0m\u001b[0;34m)\u001b[0m\u001b[0;34m\u001b[0m\u001b[0;34m\u001b[0m\u001b[0m\n\u001b[0m",
      "\u001b[0;31mTypeError\u001b[0m: corrcoef() takes 1 positional argument but 2 were given"
     ]
    }
   ],
   "source": [
    "torch.corrcoef((features1 @ Q1).T, (features2 @ Q2).T)"
   ]
  },
  {
   "cell_type": "code",
   "execution_count": 17,
   "metadata": {},
   "outputs": [
    {
     "data": {
      "text/plain": [
       "torch.Size([32768, 40])"
      ]
     },
     "execution_count": 17,
     "metadata": {},
     "output_type": "execute_result"
    }
   ],
   "source": [
    "Q1.shape"
   ]
  },
  {
   "cell_type": "code",
   "execution_count": 244,
   "metadata": {},
   "outputs": [
    {
     "data": {
      "text/plain": [
       "tensor(2588672., device='cuda:0')"
      ]
     },
     "execution_count": 244,
     "metadata": {},
     "output_type": "execute_result"
    }
   ],
   "source": [
    "(features1 * features1).sum()"
   ]
  },
  {
   "cell_type": "code",
   "execution_count": 245,
   "metadata": {},
   "outputs": [
    {
     "data": {
      "text/plain": [
       "<matplotlib.colorbar.Colorbar at 0x7f3f8963b820>"
      ]
     },
     "execution_count": 245,
     "metadata": {},
     "output_type": "execute_result"
    },
    {
     "data": {
      "image/png": "[encoded data removed]",
      "text/plain": [
       "<Figure size 432x288 with 2 Axes>"
      ]
     },
     "metadata": {
      "needs_background": "light"
     },
     "output_type": "display_data"
    }
   ],
   "source": [
    "plt.imshow((Q1.T @ Q2).cpu().detach().numpy())\n",
    "plt.colorbar()"
   ]
  },
  {
   "cell_type": "code",
   "execution_count": 17,
   "metadata": {},
   "outputs": [],
   "source": [
    "for batch_idx, (batch_x, batch_y) in enumerate(trainloader):\n",
    "        batch_x, batch_y = batch_x.to(device), batch_y.to(device)\n",
    "        with torch.no_grad():\n",
    "            features1 = model1.features(batch_x).squeeze()\n",
    "            features2 = model2.features(batch_x).squeeze()\n",
    "        covXY += features1.T @ features2 / batch_x.size(0)\n",
    "        covX += features1.T @ features1 / batch_x.size(0)\n",
    "        covY += features2.T @ features2 / batch_x.size(0)"
   ]
  },
  {
   "cell_type": "code",
   "execution_count": 41,
   "metadata": {},
   "outputs": [
    {
     "data": {
      "text/plain": [
       "50000"
      ]
     },
     "execution_count": 41,
     "metadata": {},
     "output_type": "execute_result"
    }
   ],
   "source": [
    "len(trainloader.dataset)"
   ]
  },
  {
   "cell_type": "code",
   "execution_count": 18,
   "metadata": {},
   "outputs": [],
   "source": [
    "loss = -.5*torch.trace( Q1.T @ features1.T @ features2 @ Q2)"
   ]
  },
  {
   "cell_type": "code",
   "execution_count": 22,
   "metadata": {},
   "outputs": [],
   "source": [
    "loss.backward()"
   ]
  },
  {
   "cell_type": "code",
   "execution_count": 23,
   "metadata": {},
   "outputs": [],
   "source": [
    "optimizerCCA.step(((features1.T@ features1, features2.T@ features2),))"
   ]
  },
  {
   "cell_type": "code",
   "execution_count": 25,
   "metadata": {},
   "outputs": [],
   "source": [
    "train_loss =+ loss.item() * batch_x.size(0)"
   ]
  },
  {
   "cell_type": "code",
   "execution_count": 34,
   "metadata": {},
   "outputs": [
    {
     "data": {
      "text/plain": [
       "-0.34627026319503784"
      ]
     },
     "execution_count": 34,
     "metadata": {},
     "output_type": "execute_result"
    }
   ],
   "source": [
    "loss.item()"
   ]
  },
  {
   "cell_type": "code",
   "execution_count": 36,
   "metadata": {},
   "outputs": [
    {
     "data": {
      "text/plain": [
       "tensor(-0.3463, device='cuda:0', grad_fn=<MulBackward0>)"
      ]
     },
     "execution_count": 36,
     "metadata": {},
     "output_type": "execute_result"
    }
   ],
   "source": [
    "-.5*torch.trace( Q1.T @ features1.T @ features2 @ Q2)"
   ]
  },
  {
   "cell_type": "code",
   "execution_count": 18,
   "metadata": {},
   "outputs": [],
   "source": [
    "trainloader_enum = enumerate(trainloader)"
   ]
  },
  {
   "cell_type": "code",
   "execution_count": 33,
   "metadata": {},
   "outputs": [],
   "source": [
    "i, (batch_x, batch_y) = trainloader_enum.__next__()\n",
    "batch_x, batch_y = batch_x.to(device), batch_y.to(device)"
   ]
  },
  {
   "cell_type": "code",
   "execution_count": 87,
   "metadata": {},
   "outputs": [],
   "source": [
    "A1 = model1.features(batch_x)[:,:,0,0].cpu().detach().numpy()\n",
    "A2 = model1.features(batch_x)[:,:,0,0].cpu().detach().numpy()"
   ]
  },
  {
   "cell_type": "code",
   "execution_count": 142,
   "metadata": {},
   "outputs": [],
   "source": [
    "n = 512\n",
    "p = 10\n",
    "Q1 = torch.randn(n, p, device = device, requires_grad=True)\n",
    "Q2 = torch.randn(n, p, device = device, requires_grad=True)"
   ]
  },
  {
   "cell_type": "code",
   "execution_count": 145,
   "metadata": {},
   "outputs": [],
   "source": [
    "optimizer_cca = optim.SGD((Q1, Q2), lr=1e-6)"
   ]
  },
  {
   "cell_type": "code",
   "execution_count": 147,
   "metadata": {},
   "outputs": [
    {
     "name": "stdout",
     "output_type": "stream",
     "text": [
      "-11.53541328125\n",
      "-12.8180953125\n",
      "-10.70384453125\n",
      "-10.55670625\n",
      "-10.276184375\n",
      "-11.49911875\n",
      "-10.47547421875\n",
      "-10.5956484375\n",
      "-9.82373359375\n",
      "-9.57715546875\n",
      "-10.41351875\n",
      "-10.265225\n",
      "-10.7919796875\n",
      "-10.0132453125\n",
      "-9.96588125\n"
     ]
    }
   ],
   "source": [
    "best_test_acc = 0.\n",
    "model1.eval()\n",
    "model2.eval()\n",
    "for epoch in range(n_epochs):\n",
    "    train_loss = 0.0\n",
    "    for batch_idx, (batch_x, batch_y) in enumerate(trainloader):\n",
    "        batch_x, batch_y = batch_x.to(device), batch_y.to(device)\n",
    "        A1 = model1.features(batch_x)[:,:,0,0].detach()\n",
    "        A2 = model2.features(batch_x)[:,:,0,0].detach()\n",
    "        loss = - torch.trace(Q1.T@ (A1.T @ A2) @ Q2)\n",
    "        train_loss =+ loss.item() * batch_x.size(0)\n",
    "        optimizer_cca.zero_grad()\n",
    "        loss.backward()\n",
    "        optimizer_cca.step()\n",
    "        with torch.no_grad():\n",
    "            Q1,_ = torch.linalg.qr(Q1)\n",
    "            Q2,_ = torch.linalg.qr(Q2)\n",
    "        Q1.requires_grad = True\n",
    "        Q2.requires_grad = True\n",
    "    print(train_loss/len(trainset))"
   ]
  },
  {
   "cell_type": "code",
   "execution_count": 139,
   "metadata": {},
   "outputs": [
    {
     "data": {
      "text/plain": [
       "tensor([[ 1.0000e+00,  5.5879e-09, -2.7940e-09, -9.3132e-09,  9.3132e-10,\n",
       "          4.6566e-09, -8.8476e-09, -1.2107e-08, -1.9558e-08, -5.5879e-09],\n",
       "        [ 5.5879e-09,  1.0000e+00,  3.2596e-09,  1.1642e-09,  6.7521e-09,\n",
       "          3.7253e-09, -5.1223e-09, -1.8626e-09, -2.7940e-09,  1.0245e-08],\n",
       "        [-2.7940e-09,  3.2596e-09,  1.0000e+00, -2.3283e-10, -8.3819e-09,\n",
       "          4.1910e-09, -1.3970e-08, -3.2596e-09, -9.3132e-10, -6.5193e-09],\n",
       "        [-9.3132e-09,  1.1642e-09, -2.3283e-10,  1.0000e+00, -1.5600e-08,\n",
       "          0.0000e+00,  1.8626e-09,  4.6566e-10,  2.3283e-10,  4.6566e-10],\n",
       "        [ 9.3132e-10,  6.7521e-09, -8.3819e-09, -1.5600e-08,  1.0000e+00,\n",
       "         -4.6566e-10, -8.3819e-09,  4.6566e-09,  5.5879e-09,  3.7253e-09],\n",
       "        [ 4.6566e-09,  3.7253e-09,  4.1910e-09,  0.0000e+00, -4.6566e-10,\n",
       "          1.0000e+00,  2.4680e-08,  2.7940e-09, -5.5879e-09,  3.2596e-09],\n",
       "        [-8.8476e-09, -5.1223e-09, -1.3970e-08,  1.8626e-09, -8.3819e-09,\n",
       "          2.4680e-08,  1.0000e+00,  2.5611e-09, -5.5879e-09,  2.7940e-09],\n",
       "        [-1.2107e-08, -1.8626e-09, -3.2596e-09,  4.6566e-10,  4.6566e-09,\n",
       "          2.7940e-09,  2.5611e-09,  1.0000e+00, -1.5367e-08,  0.0000e+00],\n",
       "        [-1.9558e-08, -2.7940e-09, -9.3132e-10,  2.3283e-10,  5.5879e-09,\n",
       "         -5.5879e-09, -5.5879e-09, -1.5367e-08,  1.0000e+00, -2.0955e-09],\n",
       "        [-5.5879e-09,  1.0245e-08, -6.5193e-09,  4.6566e-10,  3.7253e-09,\n",
       "          3.2596e-09,  2.7940e-09,  0.0000e+00, -2.0955e-09,  1.0000e+00]],\n",
       "       device='cuda:0', grad_fn=<MmBackward0>)"
      ]
     },
     "execution_count": 139,
     "metadata": {},
     "output_type": "execute_result"
    }
   ],
   "source": [
    "Q1.T@Q1"
   ]
  },
  {
   "cell_type": "code",
   "execution_count": 89,
   "metadata": {},
   "outputs": [],
   "source": [
    "from sklearn.cross_decomposition import CCA"
   ]
  },
  {
   "cell_type": "code",
   "execution_count": 96,
   "metadata": {},
   "outputs": [
    {
     "data": {
      "text/plain": [
       "CCA(n_components=10)"
      ]
     },
     "execution_count": 96,
     "metadata": {},
     "output_type": "execute_result"
    }
   ],
   "source": [
    "cca = CCA(n_components=10)\n",
    "cca.fit(A1, A2)"
   ]
  },
  {
   "cell_type": "code",
   "execution_count": 99,
   "metadata": {},
   "outputs": [
    {
     "data": {
      "text/plain": [
       "0.5813387144987419"
      ]
     },
     "execution_count": 99,
     "metadata": {},
     "output_type": "execute_result"
    }
   ],
   "source": [
    "cca.score(A1, A2)"
   ]
  },
  {
   "cell_type": "code",
   "execution_count": 92,
   "metadata": {},
   "outputs": [],
   "source": [
    "X_c, Y_c = cca.transform(A1, A2)"
   ]
  },
  {
   "cell_type": "code",
   "execution_count": 75,
   "metadata": {},
   "outputs": [],
   "source": [
    "(U, S, V) = torch.pca_lowrank(A1.T@A2, q = 100, center=True, niter=20)"
   ]
  },
  {
   "cell_type": "code",
   "execution_count": 84,
   "metadata": {},
   "outputs": [
    {
     "data": {
      "text/plain": [
       "array([1.0347093e+04, 5.0820493e+03, 3.5821323e+03, 2.9084653e+03,\n",
       "       2.4939863e+03, 1.8302538e+03, 1.3989786e+03, 1.1476134e+03,\n",
       "       8.5155157e+02, 6.2643530e+02, 2.4559721e+02, 7.1573997e+01,\n",
       "       5.0670170e+01, 4.8174137e+01, 4.1952473e+01, 3.7283165e+01,\n",
       "       3.6203281e+01, 3.1056530e+01, 2.5350792e+01, 2.4845078e+01,\n",
       "       2.2801348e+01, 2.0585983e+01, 1.9518456e+01, 1.7976635e+01,\n",
       "       1.6180603e+01, 1.5687751e+01, 1.3683533e+01, 1.2015533e+01,\n",
       "       1.0651150e+01, 1.0012889e+01, 9.1580162e+00, 8.3238554e+00,\n",
       "       7.8208060e+00, 7.5031281e+00, 6.8287992e+00, 6.1659822e+00,\n",
       "       5.9519992e+00, 5.1096954e+00, 4.9533033e+00, 4.3717241e+00,\n",
       "       4.1098890e+00, 3.8927417e+00, 3.5315640e+00, 3.5272615e+00,\n",
       "       3.4553266e+00, 3.2666328e+00, 3.1249063e+00, 3.0096223e+00,\n",
       "       2.7635863e+00, 2.6369815e+00], dtype=float32)"
      ]
     },
     "execution_count": 84,
     "metadata": {},
     "output_type": "execute_result"
    }
   ],
   "source": [
    "S.cpu().detach().numpy()[:50]"
   ]
  },
  {
   "cell_type": "code",
   "execution_count": 82,
   "metadata": {},
   "outputs": [
    {
     "data": {
      "text/plain": [
       "[<matplotlib.lines.Line2D at 0x7fb110b2f5e0>]"
      ]
     },
     "execution_count": 82,
     "metadata": {},
     "output_type": "execute_result"
    },
    {
     "data": {
      "image/png": "[encoded data removed]",
      "text/plain": [
       "<Figure size 432x288 with 1 Axes>"
      ]
     },
     "metadata": {
      "needs_background": "light"
     },
     "output_type": "display_data"
    }
   ],
   "source": [
    "plt.semilogy(S.cpu().detach().numpy())"
   ]
  },
  {
   "cell_type": "code",
   "execution_count": 69,
   "metadata": {},
   "outputs": [
    {
     "data": {
      "text/plain": [
       "torch.Size([128, 512])"
      ]
     },
     "execution_count": 69,
     "metadata": {},
     "output_type": "execute_result"
    }
   ],
   "source": [
    "A1.shape"
   ]
  },
  {
   "cell_type": "code",
   "execution_count": 23,
   "metadata": {},
   "outputs": [
    {
     "data": {
      "text/plain": [
       "128"
      ]
     },
     "execution_count": 23,
     "metadata": {},
     "output_type": "execute_result"
    }
   ],
   "source": [
    "trainloader.batch_size"
   ]
  },
  {
   "cell_type": "code",
   "execution_count": 32,
   "metadata": {},
   "outputs": [
    {
     "data": {
      "text/plain": [
       "torch.Size([128, 3, 32, 32])"
      ]
     },
     "execution_count": 32,
     "metadata": {},
     "output_type": "execute_result"
    }
   ],
   "source": [
    "batch_x.shape"
   ]
  },
  {
   "cell_type": "code",
   "execution_count": null,
   "metadata": {},
   "outputs": [],
   "source": []
  }
 ],
 "metadata": {
  "kernelspec": {
   "display_name": "landing",
   "language": "python",
   "name": "python3"
  },
  "language_info": {
   "codemirror_mode": {
    "name": "ipython",
    "version": 3
   },
   "file_extension": ".py",
   "mimetype": "text/x-python",
   "name": "python",
   "nbconvert_exporter": "python",
   "pygments_lexer": "ipython3",
   "version": "3.8.15"
  },
  "orig_nbformat": 4,
  "vscode": {
   "interpreter": {
    "hash": "91fb3ebf0d9504166a4264755ce4c2b4bd7f0c5db33bebc72cad48811027e9a9"
   }
  }
 },
 "nbformat": 4,
 "nbformat_minor": 2
}
